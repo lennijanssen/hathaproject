{
 "cells": [
  {
   "cell_type": "markdown",
   "id": "f7649d29-cd6c-4428-9d53-cf7822e1b1ae",
   "metadata": {},
   "source": [
    "# Dense Neural Network (NN) Exploration"
   ]
  },
  {
   "cell_type": "markdown",
   "id": "b078a245",
   "metadata": {},
   "source": [
    "In this notebook, we will lay out our approach for a Neural Network approach to predict a pose based on landmark. Additionally, we are storing out angle calculation and perspectively our angle error calculation."
   ]
  },
  {
   "cell_type": "code",
   "execution_count": 1,
   "id": "be388f9c",
   "metadata": {},
   "outputs": [],
   "source": [
    "import numpy as np\n",
    "import pandas as pd\n",
    "import matplotlib.pyplot as plt\n"
   ]
  },
  {
   "cell_type": "markdown",
   "id": "603927da",
   "metadata": {},
   "source": [
    "## Neural Network"
   ]
  },
  {
   "cell_type": "code",
   "execution_count": 2,
   "id": "8393c8b6",
   "metadata": {},
   "outputs": [],
   "source": [
    "import tensorflow as tf\n"
   ]
  },
  {
   "cell_type": "code",
   "execution_count": 3,
   "id": "c8fc5e43",
   "metadata": {},
   "outputs": [],
   "source": [
    "from sklearn.model_selection import train_test_split\n",
    "from sklearn.preprocessing import StandardScaler\n",
    "from tensorflow.keras.utils import to_categorical\n",
    "from tensorflow.keras import layers, Sequential\n",
    "from tensorflow.keras import models\n"
   ]
  },
  {
   "cell_type": "code",
   "execution_count": 4,
   "id": "ad1124f0",
   "metadata": {},
   "outputs": [],
   "source": [
    "from sklearn.metrics import make_scorer\n",
    "from sklearn.model_selection import StratifiedKFold\n",
    "from tensorflow.keras.callbacks import EarlyStopping\n",
    "from sklearn.metrics import accuracy_score\n",
    "from tensorflow.keras.layers import Input, Dense, GlobalMaxPooling1D, LeakyReLU\n",
    "from scikeras.wrappers import KerasClassifier\n",
    "from sklearn.model_selection import GridSearchCV, KFold, RandomizedSearchCV\n",
    "from sklearn.preprocessing import LabelEncoder, OneHotEncoder\n",
    "from tensorflow.keras.models import load_model\n",
    "import joblib\n"
   ]
  },
  {
   "cell_type": "code",
   "execution_count": 5,
   "id": "7956ec52",
   "metadata": {},
   "outputs": [],
   "source": [
    "from scipy.stats import uniform\n"
   ]
  },
  {
   "cell_type": "code",
   "execution_count": 6,
   "id": "0dbb1b8b",
   "metadata": {},
   "outputs": [],
   "source": [
    "# Load the datasets\n",
    "train_df = pd.read_csv('train_landmark_all_raw.csv')\n",
    "val_df = pd.read_csv('val_landmark_all_raw.csv')\n",
    "test_df = pd.read_csv('test_landmark_all_raw.csv')\n"
   ]
  },
  {
   "cell_type": "code",
   "execution_count": 7,
   "id": "ba3c830c",
   "metadata": {},
   "outputs": [],
   "source": [
    "# Define X_train and y_train\n",
    "X_train = train_df.iloc[:, 1:52]\n",
    "y_train = train_df['y_main']\n"
   ]
  },
  {
   "cell_type": "code",
   "execution_count": 8,
   "id": "816b2d20",
   "metadata": {},
   "outputs": [],
   "source": [
    "# Define X_val and y_val\n",
    "X_val = val_df.iloc[:, 1:52]\n",
    "y_val = val_df['y_main']\n"
   ]
  },
  {
   "cell_type": "code",
   "execution_count": 9,
   "id": "16edfed1",
   "metadata": {},
   "outputs": [],
   "source": [
    "# Define X_test and y_test\n",
    "X_test = test_df.iloc[:, 1:52]\n",
    "y_test = test_df['y_main']\n"
   ]
  },
  {
   "cell_type": "code",
   "execution_count": 10,
   "id": "05a81218",
   "metadata": {},
   "outputs": [],
   "source": [
    "# Convert labels to numerical values\n",
    "label_mapping = {label: idx for idx, label in enumerate(np.unique(y_train))}\n",
    "y_train_numeric = np.array([label_mapping[label] for label in y_train])\n",
    "y_val_numeric = np.array([label_mapping[label] for label in y_val])\n",
    "y_test_numeric = np.array([label_mapping[label] for label in y_test])\n"
   ]
  },
  {
   "cell_type": "code",
   "execution_count": 11,
   "id": "ef0df31e",
   "metadata": {
    "scrolled": true
   },
   "outputs": [
    {
     "data": {
      "text/plain": [
       "['scaler.pkl']"
      ]
     },
     "execution_count": 11,
     "metadata": {},
     "output_type": "execute_result"
    }
   ],
   "source": [
    "# Standardize the features\n",
    "scaler = StandardScaler()\n",
    "X_train = scaler.fit_transform(X_train)\n",
    "X_val = scaler.transform(X_val)\n",
    "X_test = scaler.transform(X_test)\n",
    "\n",
    "# Saving the scaler\n",
    "joblib.dump(scaler, 'scaler.pkl')\n"
   ]
  },
  {
   "cell_type": "code",
   "execution_count": 12,
   "id": "f9924836",
   "metadata": {},
   "outputs": [
    {
     "data": {
      "text/plain": [
       "['encoder.pkl']"
      ]
     },
     "execution_count": 12,
     "metadata": {},
     "output_type": "execute_result"
    }
   ],
   "source": [
    "# Convert labels to one-hot encoding\n",
    "y_train_one_hot = to_categorical(y_train_numeric)\n",
    "y_val_one_hot = to_categorical(y_val_numeric)\n",
    "y_test_one_hot = to_categorical(y_test_numeric)\n",
    "\n",
    "encoder = OneHotEncoder()\n",
    "\n",
    "# Saving the encoder\n",
    "joblib.dump(encoder, 'encoder.pkl')\n"
   ]
  },
  {
   "cell_type": "code",
   "execution_count": 13,
   "id": "f78d7144",
   "metadata": {},
   "outputs": [
    {
     "name": "stderr",
     "output_type": "stream",
     "text": [
      "2023-11-27 11:21:44.835482: I metal_plugin/src/device/metal_device.cc:1154] Metal device set to: Apple M2\n",
      "2023-11-27 11:21:44.837798: I metal_plugin/src/device/metal_device.cc:296] systemMemory: 8.00 GB\n",
      "2023-11-27 11:21:44.837974: I metal_plugin/src/device/metal_device.cc:313] maxCacheSize: 2.67 GB\n",
      "2023-11-27 11:21:44.838297: I tensorflow/core/common_runtime/pluggable_device/pluggable_device_factory.cc:306] Could not identify NUMA node of platform GPU ID 0, defaulting to 0. Your kernel may not have been built with NUMA support.\n",
      "2023-11-27 11:21:44.838353: I tensorflow/core/common_runtime/pluggable_device/pluggable_device_factory.cc:272] Created TensorFlow device (/job:localhost/replica:0/task:0/device:GPU:0 with 0 MB memory) -> physical PluggableDevice (device: 0, name: METAL, pci bus id: <undefined>)\n"
     ]
    }
   ],
   "source": [
    "# Build the neural network model\n",
    "def initialize_model():\n",
    "    model = models.Sequential()\n",
    "    model.add(layers.Dense(128, input_dim=X_train.shape[1], activation='relu'))\n",
    "    model.add(layers.Dropout(0.5))\n",
    "    model.add(layers.Dense(64, activation='relu'))\n",
    "    model.add(layers.Dropout(0.5))\n",
    "#     model.add(layers.Dense(64, activation='relu'))\n",
    "#     model.add(layers.Dropout(0.5))\n",
    "#     model.add(layers.Dense(32, activation='relu'))\n",
    "#     model.add(layers.Dropout(0.5))\n",
    "    model.add(layers.Dense(len(label_mapping), activation='softmax'))\n",
    "\n",
    "    model.compile(loss='categorical_crossentropy',\n",
    "                  optimizer='adam',\n",
    "                  metrics=['accuracy'])\n",
    "\n",
    "    return model\n",
    "\n",
    "model = initialize_model()\n"
   ]
  },
  {
   "cell_type": "code",
   "execution_count": 14,
   "id": "b2e89e88",
   "metadata": {},
   "outputs": [
    {
     "name": "stdout",
     "output_type": "stream",
     "text": [
      "Epoch 1/100\n"
     ]
    },
    {
     "name": "stderr",
     "output_type": "stream",
     "text": [
      "2023-11-27 11:21:49.126981: I tensorflow/core/grappler/optimizers/custom_graph_optimizer_registry.cc:117] Plugin optimizer for device_type GPU is enabled.\n",
      "2023-11-27 11:21:49.144167: E tensorflow/core/grappler/optimizers/meta_optimizer.cc:961] PluggableGraphOptimizer failed: INVALID_ARGUMENT: Unparseable tensorflow.GraphDef proto\n"
     ]
    },
    {
     "name": "stdout",
     "output_type": "stream",
     "text": [
      "17/17 [==============================] - 3s 25ms/step - loss: 1.5079 - accuracy: 0.3888 - val_loss: 1.0100 - val_accuracy: 0.5833\n",
      "Epoch 2/100\n",
      "17/17 [==============================] - 0s 10ms/step - loss: 1.0565 - accuracy: 0.5981 - val_loss: 0.7720 - val_accuracy: 0.6319\n",
      "Epoch 3/100\n",
      "17/17 [==============================] - 0s 10ms/step - loss: 0.8563 - accuracy: 0.6561 - val_loss: 0.6056 - val_accuracy: 0.7917\n",
      "Epoch 4/100\n",
      "17/17 [==============================] - 0s 11ms/step - loss: 0.7412 - accuracy: 0.7047 - val_loss: 0.5054 - val_accuracy: 0.8403\n",
      "Epoch 5/100\n",
      "17/17 [==============================] - 0s 10ms/step - loss: 0.6286 - accuracy: 0.7682 - val_loss: 0.4344 - val_accuracy: 0.8472\n",
      "Epoch 6/100\n",
      "17/17 [==============================] - 0s 11ms/step - loss: 0.5292 - accuracy: 0.8112 - val_loss: 0.3798 - val_accuracy: 0.8889\n",
      "Epoch 7/100\n",
      "17/17 [==============================] - 0s 10ms/step - loss: 0.4970 - accuracy: 0.8075 - val_loss: 0.3392 - val_accuracy: 0.8958\n",
      "Epoch 8/100\n",
      "17/17 [==============================] - 0s 10ms/step - loss: 0.4768 - accuracy: 0.8355 - val_loss: 0.3062 - val_accuracy: 0.9236\n",
      "Epoch 9/100\n",
      "17/17 [==============================] - 0s 14ms/step - loss: 0.3911 - accuracy: 0.8617 - val_loss: 0.2746 - val_accuracy: 0.9375\n",
      "Epoch 10/100\n",
      "17/17 [==============================] - 0s 11ms/step - loss: 0.3684 - accuracy: 0.8411 - val_loss: 0.2533 - val_accuracy: 0.9375\n",
      "Epoch 11/100\n",
      "17/17 [==============================] - 0s 10ms/step - loss: 0.3757 - accuracy: 0.8617 - val_loss: 0.2357 - val_accuracy: 0.9375\n",
      "Epoch 12/100\n",
      "17/17 [==============================] - 0s 12ms/step - loss: 0.3219 - accuracy: 0.8766 - val_loss: 0.2179 - val_accuracy: 0.9306\n",
      "Epoch 13/100\n",
      "17/17 [==============================] - 0s 11ms/step - loss: 0.3085 - accuracy: 0.8953 - val_loss: 0.2026 - val_accuracy: 0.9375\n",
      "Epoch 14/100\n",
      "17/17 [==============================] - 0s 11ms/step - loss: 0.2962 - accuracy: 0.8935 - val_loss: 0.1883 - val_accuracy: 0.9306\n",
      "Epoch 15/100\n",
      "17/17 [==============================] - 0s 11ms/step - loss: 0.2692 - accuracy: 0.9047 - val_loss: 0.1720 - val_accuracy: 0.9306\n",
      "Epoch 16/100\n",
      "17/17 [==============================] - 0s 11ms/step - loss: 0.2418 - accuracy: 0.9103 - val_loss: 0.1631 - val_accuracy: 0.9514\n",
      "Epoch 17/100\n",
      "17/17 [==============================] - 0s 10ms/step - loss: 0.2317 - accuracy: 0.9290 - val_loss: 0.1524 - val_accuracy: 0.9514\n",
      "Epoch 18/100\n",
      "17/17 [==============================] - 0s 12ms/step - loss: 0.2330 - accuracy: 0.9103 - val_loss: 0.1420 - val_accuracy: 0.9653\n",
      "Epoch 19/100\n",
      "17/17 [==============================] - 0s 12ms/step - loss: 0.2115 - accuracy: 0.9196 - val_loss: 0.1336 - val_accuracy: 0.9792\n",
      "Epoch 20/100\n",
      "17/17 [==============================] - 0s 13ms/step - loss: 0.2078 - accuracy: 0.9215 - val_loss: 0.1274 - val_accuracy: 0.9653\n",
      "Epoch 21/100\n",
      "17/17 [==============================] - 0s 11ms/step - loss: 0.1637 - accuracy: 0.9589 - val_loss: 0.1190 - val_accuracy: 0.9792\n",
      "Epoch 22/100\n",
      "17/17 [==============================] - 0s 11ms/step - loss: 0.1887 - accuracy: 0.9383 - val_loss: 0.1127 - val_accuracy: 0.9792\n",
      "Epoch 23/100\n",
      "17/17 [==============================] - 0s 11ms/step - loss: 0.1866 - accuracy: 0.9327 - val_loss: 0.1105 - val_accuracy: 0.9861\n",
      "Epoch 24/100\n",
      "17/17 [==============================] - 0s 11ms/step - loss: 0.1565 - accuracy: 0.9607 - val_loss: 0.1026 - val_accuracy: 0.9722\n",
      "Epoch 25/100\n",
      "17/17 [==============================] - 0s 11ms/step - loss: 0.1540 - accuracy: 0.9626 - val_loss: 0.1046 - val_accuracy: 0.9792\n",
      "Epoch 26/100\n",
      "17/17 [==============================] - 0s 10ms/step - loss: 0.1415 - accuracy: 0.9514 - val_loss: 0.0888 - val_accuracy: 0.9861\n",
      "Epoch 27/100\n",
      "17/17 [==============================] - 0s 11ms/step - loss: 0.1490 - accuracy: 0.9458 - val_loss: 0.0826 - val_accuracy: 0.9931\n",
      "Epoch 28/100\n",
      "17/17 [==============================] - 0s 10ms/step - loss: 0.1240 - accuracy: 0.9607 - val_loss: 0.0775 - val_accuracy: 0.9931\n",
      "Epoch 29/100\n",
      "17/17 [==============================] - 0s 10ms/step - loss: 0.1282 - accuracy: 0.9607 - val_loss: 0.0763 - val_accuracy: 0.9792\n",
      "Epoch 30/100\n",
      "17/17 [==============================] - 0s 10ms/step - loss: 0.1242 - accuracy: 0.9645 - val_loss: 0.0692 - val_accuracy: 0.9861\n",
      "Epoch 31/100\n",
      "17/17 [==============================] - 0s 10ms/step - loss: 0.1066 - accuracy: 0.9682 - val_loss: 0.0696 - val_accuracy: 0.9722\n",
      "Epoch 32/100\n",
      "17/17 [==============================] - 0s 10ms/step - loss: 0.1007 - accuracy: 0.9738 - val_loss: 0.0648 - val_accuracy: 0.9792\n",
      "Epoch 33/100\n",
      "17/17 [==============================] - 0s 14ms/step - loss: 0.0882 - accuracy: 0.9776 - val_loss: 0.0650 - val_accuracy: 0.9722\n",
      "Epoch 34/100\n",
      "17/17 [==============================] - 0s 10ms/step - loss: 0.1068 - accuracy: 0.9664 - val_loss: 0.0646 - val_accuracy: 0.9722\n",
      "Epoch 35/100\n",
      "17/17 [==============================] - 0s 10ms/step - loss: 0.0957 - accuracy: 0.9682 - val_loss: 0.0606 - val_accuracy: 0.9792\n",
      "Epoch 36/100\n",
      "17/17 [==============================] - 0s 10ms/step - loss: 0.0769 - accuracy: 0.9813 - val_loss: 0.0592 - val_accuracy: 0.9722\n",
      "Epoch 37/100\n",
      "17/17 [==============================] - 0s 10ms/step - loss: 0.0682 - accuracy: 0.9832 - val_loss: 0.0523 - val_accuracy: 0.9792\n",
      "Epoch 38/100\n",
      "17/17 [==============================] - 0s 10ms/step - loss: 0.0831 - accuracy: 0.9682 - val_loss: 0.0535 - val_accuracy: 0.9792\n",
      "Epoch 39/100\n",
      "17/17 [==============================] - 0s 12ms/step - loss: 0.0788 - accuracy: 0.9794 - val_loss: 0.0464 - val_accuracy: 0.9792\n",
      "Epoch 40/100\n",
      "17/17 [==============================] - 0s 10ms/step - loss: 0.0675 - accuracy: 0.9869 - val_loss: 0.0582 - val_accuracy: 0.9722\n",
      "Epoch 41/100\n",
      "17/17 [==============================] - 0s 10ms/step - loss: 0.0787 - accuracy: 0.9757 - val_loss: 0.0538 - val_accuracy: 0.9792\n",
      "Epoch 42/100\n",
      "17/17 [==============================] - 0s 10ms/step - loss: 0.0644 - accuracy: 0.9794 - val_loss: 0.0524 - val_accuracy: 0.9792\n",
      "Epoch 43/100\n",
      "17/17 [==============================] - 0s 14ms/step - loss: 0.0634 - accuracy: 0.9850 - val_loss: 0.0552 - val_accuracy: 0.9722\n",
      "Epoch 44/100\n",
      "17/17 [==============================] - 0s 11ms/step - loss: 0.0578 - accuracy: 0.9869 - val_loss: 0.0497 - val_accuracy: 0.9792\n",
      "Epoch 45/100\n",
      "17/17 [==============================] - 0s 10ms/step - loss: 0.0449 - accuracy: 0.9888 - val_loss: 0.0457 - val_accuracy: 0.9861\n",
      "Epoch 46/100\n",
      "17/17 [==============================] - 0s 12ms/step - loss: 0.0493 - accuracy: 0.9888 - val_loss: 0.0447 - val_accuracy: 0.9792\n",
      "Epoch 47/100\n",
      "17/17 [==============================] - 0s 10ms/step - loss: 0.0537 - accuracy: 0.9869 - val_loss: 0.0460 - val_accuracy: 0.9792\n"
     ]
    }
   ],
   "source": [
    "from tensorflow.keras.callbacks import EarlyStopping\n",
    "\n",
    "es = EarlyStopping(monitor='val_accuracy', patience=20)\n",
    "\n",
    "# Start training\n",
    "history = model.fit(X_train,\n",
    "                    y_train_one_hot,\n",
    "                    epochs=100,\n",
    "                    batch_size=32,\n",
    "                    validation_data=(X_val, y_val_one_hot),\n",
    "                    callbacks=[es])\n"
   ]
  },
  {
   "cell_type": "code",
   "execution_count": 15,
   "id": "35ee592c",
   "metadata": {
    "scrolled": true
   },
   "outputs": [
    {
     "data": {
      "image/png": "[encoded data removed]",
      "text/plain": [
       "<Figure size 640x480 with 1 Axes>"
      ]
     },
     "metadata": {},
     "output_type": "display_data"
    }
   ],
   "source": [
    "# Visualize the training history to see whether you're overfitting.\n",
    "plt.plot(history.history['accuracy'])\n",
    "plt.plot(history.history['val_accuracy'])\n",
    "plt.title('Model accuracy')\n",
    "plt.ylabel('accuracy')\n",
    "plt.xlabel('epoch')\n",
    "plt.legend(['TRAIN', 'VAL'], loc='lower right')\n",
    "plt.show()\n"
   ]
  },
  {
   "cell_type": "code",
   "execution_count": 16,
   "id": "afd3fd5b",
   "metadata": {
    "scrolled": true
   },
   "outputs": [
    {
     "data": {
      "image/png": "[encoded data removed]",
      "text/plain": [
       "<Figure size 640x480 with 1 Axes>"
      ]
     },
     "metadata": {},
     "output_type": "display_data"
    }
   ],
   "source": [
    "def plot_history(history):\n",
    "    plt.plot(history.history['val_loss'])\n",
    "    plt.title('Model loss')\n",
    "    plt.ylabel('Loss')\n",
    "    plt.xlabel('Epoch')\n",
    "    plt.show()\n",
    "\n",
    "plot_history(history)\n"
   ]
  },
  {
   "cell_type": "code",
   "execution_count": 17,
   "id": "1e3e4d2f",
   "metadata": {
    "scrolled": true
   },
   "outputs": [
    {
     "data": {
      "image/png": "[encoded data removed]",
      "text/plain": [
       "<Figure size 640x480 with 1 Axes>"
      ]
     },
     "metadata": {},
     "output_type": "display_data"
    }
   ],
   "source": [
    "def plot_history_accuracy(history):\n",
    "    plt.plot(history.history['val_accuracy'])\n",
    "    plt.title('Model accuracy')\n",
    "    plt.ylabel('Accuracy')\n",
    "    plt.xlabel('Epoch')\n",
    "    plt.show()\n",
    "\n",
    "plot_history_accuracy(history)\n"
   ]
  },
  {
   "cell_type": "code",
   "execution_count": 19,
   "id": "4de13fd7",
   "metadata": {},
   "outputs": [],
   "source": [
    "# Convert test labels to one-hot encoding\n",
    "y_test_one_hot = to_categorical(y_test_numeric)\n",
    "\n",
    "# Evaluate the model on the test set\n",
    "results = model.evaluate(X_test, y_test_one_hot, verbose=0)\n"
   ]
  },
  {
   "cell_type": "code",
   "execution_count": 20,
   "id": "f5046557",
   "metadata": {
    "scrolled": true
   },
   "outputs": [
    {
     "name": "stdout",
     "output_type": "stream",
     "text": [
      "Test Accuracy: 94.81%\n",
      "Test Loss: 0.11843176931142807\n"
     ]
    }
   ],
   "source": [
    "print(f'Test Accuracy: {results[1]*100:.2f}%')\n",
    "print(f'Test Loss: {results[0]}')\n"
   ]
  },
  {
   "cell_type": "code",
   "execution_count": 21,
   "id": "b64f6f6d",
   "metadata": {
    "scrolled": true
   },
   "outputs": [],
   "source": [
    "X_pred = X_test[0].reshape(1,-1)\n"
   ]
  },
  {
   "cell_type": "code",
   "execution_count": 22,
   "id": "765bb862",
   "metadata": {
    "scrolled": true
   },
   "outputs": [
    {
     "name": "stdout",
     "output_type": "stream",
     "text": [
      "CPU times: user 1 µs, sys: 6 µs, total: 7 µs\n",
      "Wall time: 11 µs\n",
      "1/1 [==============================] - 0s 444ms/step\n"
     ]
    }
   ],
   "source": [
    "%time\n",
    "prediction = model.predict(X_pred)\n"
   ]
  },
  {
   "cell_type": "code",
   "execution_count": 23,
   "id": "3bddad6f",
   "metadata": {},
   "outputs": [
    {
     "data": {
      "text/plain": [
       "array([0])"
      ]
     },
     "execution_count": 23,
     "metadata": {},
     "output_type": "execute_result"
    }
   ],
   "source": [
    "predict_class = np.argmax(prediction, axis = 1)\n",
    "predict_class\n"
   ]
  },
  {
   "cell_type": "code",
   "execution_count": 24,
   "id": "449a297c",
   "metadata": {},
   "outputs": [],
   "source": [
    "predicted_labels = np.argmax(prediction, axis=1)\n"
   ]
  },
  {
   "cell_type": "code",
   "execution_count": 25,
   "id": "e1ff9a54",
   "metadata": {},
   "outputs": [
    {
     "data": {
      "text/plain": [
       "'downdog'"
      ]
     },
     "execution_count": 25,
     "metadata": {},
     "output_type": "execute_result"
    }
   ],
   "source": [
    "predicted_class_names = [class_name for class_name, idx in label_mapping.items() if idx in predict_class]\n",
    "predicted_class_names[0]\n"
   ]
  },
  {
   "cell_type": "code",
   "execution_count": 26,
   "id": "7d87e90b",
   "metadata": {
    "scrolled": true
   },
   "outputs": [
    {
     "name": "stderr",
     "output_type": "stream",
     "text": [
      "/Users/mirmachr/.pyenv/versions/3.10.6/envs/hathaproject/lib/python3.10/site-packages/keras/src/engine/training.py:3103: UserWarning: You are saving your model as an HDF5 file via `model.save()`. This file format is considered legacy. We recommend using instead the native Keras format, e.g. `model.save('my_model.keras')`.\n",
      "  saving_api.save_model(\n"
     ]
    }
   ],
   "source": [
    "model.save('xyz.h5')  # Save the entire model\n"
   ]
  }
 ],
 "metadata": {
  "kernelspec": {
   "display_name": "Python 3 (ipykernel)",
   "language": "python",
   "name": "python3"
  },
  "language_info": {
   "codemirror_mode": {
    "name": "ipython",
    "version": 3
   },
   "file_extension": ".py",
   "mimetype": "text/x-python",
   "name": "python",
   "nbconvert_exporter": "python",
   "pygments_lexer": "ipython3",
   "version": "3.10.6"
  },
  "toc": {
   "base_numbering": 1,
   "nav_menu": {},
   "number_sections": true,
   "sideBar": true,
   "skip_h1_title": false,
   "title_cell": "Table of Contents",
   "title_sidebar": "Contents",
   "toc_cell": false,
   "toc_position": {},
   "toc_section_display": true,
   "toc_window_display": false
  }
 },
 "nbformat": 4,
 "nbformat_minor": 5
}
