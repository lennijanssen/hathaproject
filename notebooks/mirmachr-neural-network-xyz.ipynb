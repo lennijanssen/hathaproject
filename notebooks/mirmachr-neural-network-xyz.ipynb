{
 "cells": [
  {
   "cell_type": "markdown",
   "id": "f7649d29-cd6c-4428-9d53-cf7822e1b1ae",
   "metadata": {},
   "source": [
    "# Dense Neural Network (NN) Exploration"
   ]
  },
  {
   "cell_type": "markdown",
   "id": "b078a245",
   "metadata": {},
   "source": [
    "In this notebook, we will lay out our approach for a Neural Network approach to predict a pose based on landmark. Additionally, we are storing out angle calculation and perspectively our angle error calculation."
   ]
  },
  {
   "cell_type": "code",
   "execution_count": 1,
   "id": "be388f9c",
   "metadata": {},
   "outputs": [],
   "source": [
    "import numpy as np\n",
    "import pandas as pd\n",
    "import matplotlib.pyplot as plt"
   ]
  },
  {
   "cell_type": "markdown",
   "id": "603927da",
   "metadata": {},
   "source": [
    "## Neural Network"
   ]
  },
  {
   "cell_type": "code",
   "execution_count": 2,
   "id": "8393c8b6",
   "metadata": {},
   "outputs": [],
   "source": [
    "import tensorflow as tf\n"
   ]
  },
  {
   "cell_type": "code",
   "execution_count": 3,
   "id": "c8fc5e43",
   "metadata": {},
   "outputs": [],
   "source": [
    "from sklearn.model_selection import train_test_split\n",
    "from sklearn.preprocessing import StandardScaler\n",
    "from tensorflow.keras.utils import to_categorical\n",
    "from tensorflow.keras import layers, Sequential\n",
    "from tensorflow.keras import models\n"
   ]
  },
  {
   "cell_type": "code",
   "execution_count": 4,
   "id": "ad1124f0",
   "metadata": {},
   "outputs": [],
   "source": [
    "from sklearn.metrics import make_scorer\n",
    "from sklearn.model_selection import StratifiedKFold\n",
    "from tensorflow.keras.callbacks import EarlyStopping\n",
    "from sklearn.metrics import accuracy_score\n",
    "from tensorflow.keras.layers import Input, Dense, GlobalMaxPooling1D, LeakyReLU\n",
    "from scikeras.wrappers import KerasClassifier\n",
    "from sklearn.model_selection import GridSearchCV, KFold, RandomizedSearchCV\n",
    "from sklearn.preprocessing import LabelEncoder, OneHotEncoder\n",
    "from tensorflow.keras.models import load_model\n",
    "import joblib"
   ]
  },
  {
   "cell_type": "code",
   "execution_count": 5,
   "id": "7956ec52",
   "metadata": {},
   "outputs": [],
   "source": [
    "from scipy.stats import uniform"
   ]
  },
  {
   "cell_type": "code",
   "execution_count": 6,
   "id": "0dbb1b8b",
   "metadata": {},
   "outputs": [],
   "source": [
    "# Load the datasets\n",
    "train_df = pd.read_csv('train_landmark_all_raw.csv')\n",
    "val_df = pd.read_csv('val_landmark_all_raw.csv')\n",
    "test_df = pd.read_csv('test_landmark_all_raw.csv')"
   ]
  },
  {
   "cell_type": "code",
   "execution_count": 7,
   "id": "02bfc9fb",
   "metadata": {},
   "outputs": [
    {
     "data": {
      "text/html": [
       "<div>\n",
       "<style scoped>\n",
       "    .dataframe tbody tr th:only-of-type {\n",
       "        vertical-align: middle;\n",
       "    }\n",
       "\n",
       "    .dataframe tbody tr th {\n",
       "        vertical-align: top;\n",
       "    }\n",
       "\n",
       "    .dataframe thead th {\n",
       "        text-align: right;\n",
       "    }\n",
       "</style>\n",
       "<table border=\"1\" class=\"dataframe\">\n",
       "  <thead>\n",
       "    <tr style=\"text-align: right;\">\n",
       "      <th></th>\n",
       "      <th>file_path</th>\n",
       "      <th>X1</th>\n",
       "      <th>Y1</th>\n",
       "      <th>C1</th>\n",
       "      <th>X2</th>\n",
       "      <th>Y2</th>\n",
       "      <th>C2</th>\n",
       "      <th>X3</th>\n",
       "      <th>Y3</th>\n",
       "      <th>C3</th>\n",
       "      <th>...</th>\n",
       "      <th>Y15</th>\n",
       "      <th>C15</th>\n",
       "      <th>X16</th>\n",
       "      <th>Y16</th>\n",
       "      <th>C16</th>\n",
       "      <th>X17</th>\n",
       "      <th>Y17</th>\n",
       "      <th>C17</th>\n",
       "      <th>y_main</th>\n",
       "      <th>y_sub</th>\n",
       "    </tr>\n",
       "  </thead>\n",
       "  <tbody>\n",
       "    <tr>\n",
       "      <th>0</th>\n",
       "      <td>../clean_data/TRAIN/downdog/00000372.jpg</td>\n",
       "      <td>0.614686</td>\n",
       "      <td>0.366069</td>\n",
       "      <td>0.722571</td>\n",
       "      <td>0.612122</td>\n",
       "      <td>0.350986</td>\n",
       "      <td>0.643456</td>\n",
       "      <td>0.612995</td>\n",
       "      <td>0.350938</td>\n",
       "      <td>0.715974</td>\n",
       "      <td>...</td>\n",
       "      <td>0.705208</td>\n",
       "      <td>0.887617</td>\n",
       "      <td>0.685450</td>\n",
       "      <td>0.883067</td>\n",
       "      <td>0.797601</td>\n",
       "      <td>0.667293</td>\n",
       "      <td>0.864593</td>\n",
       "      <td>0.652385</td>\n",
       "      <td>downdog</td>\n",
       "      <td>downdog</td>\n",
       "    </tr>\n",
       "    <tr>\n",
       "      <th>1</th>\n",
       "      <td>../clean_data/TRAIN/downdog/00000414.jpg</td>\n",
       "      <td>0.534696</td>\n",
       "      <td>0.722514</td>\n",
       "      <td>0.564541</td>\n",
       "      <td>0.529799</td>\n",
       "      <td>0.733964</td>\n",
       "      <td>0.405342</td>\n",
       "      <td>0.526650</td>\n",
       "      <td>0.732507</td>\n",
       "      <td>0.399033</td>\n",
       "      <td>...</td>\n",
       "      <td>0.375810</td>\n",
       "      <td>0.738872</td>\n",
       "      <td>0.586279</td>\n",
       "      <td>0.311128</td>\n",
       "      <td>0.580621</td>\n",
       "      <td>0.628086</td>\n",
       "      <td>0.273356</td>\n",
       "      <td>0.892581</td>\n",
       "      <td>downdog</td>\n",
       "      <td>downdog</td>\n",
       "    </tr>\n",
       "    <tr>\n",
       "      <th>2</th>\n",
       "      <td>../clean_data/TRAIN/downdog/00000158.jpg</td>\n",
       "      <td>0.569520</td>\n",
       "      <td>0.529188</td>\n",
       "      <td>0.600391</td>\n",
       "      <td>0.572470</td>\n",
       "      <td>0.513901</td>\n",
       "      <td>0.517100</td>\n",
       "      <td>0.575602</td>\n",
       "      <td>0.515343</td>\n",
       "      <td>0.508116</td>\n",
       "      <td>...</td>\n",
       "      <td>0.773414</td>\n",
       "      <td>0.708213</td>\n",
       "      <td>0.674067</td>\n",
       "      <td>0.870783</td>\n",
       "      <td>0.614913</td>\n",
       "      <td>0.665915</td>\n",
       "      <td>0.863403</td>\n",
       "      <td>0.627864</td>\n",
       "      <td>downdog</td>\n",
       "      <td>downdog</td>\n",
       "    </tr>\n",
       "    <tr>\n",
       "      <th>3</th>\n",
       "      <td>../clean_data/TRAIN/downdog/00000164.jpg</td>\n",
       "      <td>0.621766</td>\n",
       "      <td>0.494117</td>\n",
       "      <td>0.670644</td>\n",
       "      <td>0.623084</td>\n",
       "      <td>0.508379</td>\n",
       "      <td>0.587126</td>\n",
       "      <td>0.625575</td>\n",
       "      <td>0.502040</td>\n",
       "      <td>0.504647</td>\n",
       "      <td>...</td>\n",
       "      <td>0.241079</td>\n",
       "      <td>0.877533</td>\n",
       "      <td>0.604555</td>\n",
       "      <td>0.187687</td>\n",
       "      <td>0.531326</td>\n",
       "      <td>0.631977</td>\n",
       "      <td>0.162686</td>\n",
       "      <td>0.756717</td>\n",
       "      <td>downdog</td>\n",
       "      <td>downdog</td>\n",
       "    </tr>\n",
       "    <tr>\n",
       "      <th>4</th>\n",
       "      <td>../clean_data/TRAIN/downdog/00000170.jpg</td>\n",
       "      <td>0.615906</td>\n",
       "      <td>0.424954</td>\n",
       "      <td>0.598804</td>\n",
       "      <td>0.618176</td>\n",
       "      <td>0.415418</td>\n",
       "      <td>0.541572</td>\n",
       "      <td>0.616566</td>\n",
       "      <td>0.410814</td>\n",
       "      <td>0.479551</td>\n",
       "      <td>...</td>\n",
       "      <td>0.626742</td>\n",
       "      <td>0.754802</td>\n",
       "      <td>0.652928</td>\n",
       "      <td>0.721405</td>\n",
       "      <td>0.676844</td>\n",
       "      <td>0.650494</td>\n",
       "      <td>0.716107</td>\n",
       "      <td>0.753108</td>\n",
       "      <td>downdog</td>\n",
       "      <td>downdog</td>\n",
       "    </tr>\n",
       "  </tbody>\n",
       "</table>\n",
       "<p>5 rows × 54 columns</p>\n",
       "</div>"
      ],
      "text/plain": [
       "                                  file_path        X1        Y1        C1  \\\n",
       "0  ../clean_data/TRAIN/downdog/00000372.jpg  0.614686  0.366069  0.722571   \n",
       "1  ../clean_data/TRAIN/downdog/00000414.jpg  0.534696  0.722514  0.564541   \n",
       "2  ../clean_data/TRAIN/downdog/00000158.jpg  0.569520  0.529188  0.600391   \n",
       "3  ../clean_data/TRAIN/downdog/00000164.jpg  0.621766  0.494117  0.670644   \n",
       "4  ../clean_data/TRAIN/downdog/00000170.jpg  0.615906  0.424954  0.598804   \n",
       "\n",
       "         X2        Y2        C2        X3        Y3        C3  ...       Y15  \\\n",
       "0  0.612122  0.350986  0.643456  0.612995  0.350938  0.715974  ...  0.705208   \n",
       "1  0.529799  0.733964  0.405342  0.526650  0.732507  0.399033  ...  0.375810   \n",
       "2  0.572470  0.513901  0.517100  0.575602  0.515343  0.508116  ...  0.773414   \n",
       "3  0.623084  0.508379  0.587126  0.625575  0.502040  0.504647  ...  0.241079   \n",
       "4  0.618176  0.415418  0.541572  0.616566  0.410814  0.479551  ...  0.626742   \n",
       "\n",
       "        C15       X16       Y16       C16       X17       Y17       C17  \\\n",
       "0  0.887617  0.685450  0.883067  0.797601  0.667293  0.864593  0.652385   \n",
       "1  0.738872  0.586279  0.311128  0.580621  0.628086  0.273356  0.892581   \n",
       "2  0.708213  0.674067  0.870783  0.614913  0.665915  0.863403  0.627864   \n",
       "3  0.877533  0.604555  0.187687  0.531326  0.631977  0.162686  0.756717   \n",
       "4  0.754802  0.652928  0.721405  0.676844  0.650494  0.716107  0.753108   \n",
       "\n",
       "    y_main    y_sub  \n",
       "0  downdog  downdog  \n",
       "1  downdog  downdog  \n",
       "2  downdog  downdog  \n",
       "3  downdog  downdog  \n",
       "4  downdog  downdog  \n",
       "\n",
       "[5 rows x 54 columns]"
      ]
     },
     "execution_count": 7,
     "metadata": {},
     "output_type": "execute_result"
    }
   ],
   "source": [
    "train_df.head()"
   ]
  },
  {
   "cell_type": "code",
   "execution_count": 8,
   "id": "ba3c830c",
   "metadata": {},
   "outputs": [],
   "source": [
    "X_train = train_df.iloc[:, 1:52]\n",
    "y_train = train_df['y_main']"
   ]
  },
  {
   "cell_type": "code",
   "execution_count": 9,
   "id": "816b2d20",
   "metadata": {},
   "outputs": [],
   "source": [
    "X_val = val_df.iloc[:, 1:52]\n",
    "y_val = val_df['y_main']"
   ]
  },
  {
   "cell_type": "code",
   "execution_count": 10,
   "id": "16edfed1",
   "metadata": {},
   "outputs": [],
   "source": [
    "X_test = test_df.iloc[:, 1:52]\n",
    "y_test = test_df['y_main']"
   ]
  },
  {
   "cell_type": "code",
   "execution_count": 11,
   "id": "05a81218",
   "metadata": {},
   "outputs": [],
   "source": [
    "# Convert labels to numerical values\n",
    "label_mapping = {label: idx for idx, label in enumerate(np.unique(y_train))}\n",
    "y_train_numeric = np.array([label_mapping[label] for label in y_train])\n",
    "y_val_numeric = np.array([label_mapping[label] for label in y_val])\n",
    "y_test_numeric = np.array([label_mapping[label] for label in y_test])"
   ]
  },
  {
   "cell_type": "code",
   "execution_count": 12,
   "id": "ef0df31e",
   "metadata": {
    "scrolled": true
   },
   "outputs": [
    {
     "data": {
      "text/plain": [
       "['scaler.pkl']"
      ]
     },
     "execution_count": 12,
     "metadata": {},
     "output_type": "execute_result"
    }
   ],
   "source": [
    "# Standardize the features\n",
    "scaler = StandardScaler()\n",
    "X_train = scaler.fit_transform(X_train)\n",
    "X_val = scaler.transform(X_val)\n",
    "X_test = scaler.transform(X_test)\n",
    "\n",
    "# Saving the scaler\n",
    "joblib.dump(scaler, 'scaler.pkl')"
   ]
  },
  {
   "cell_type": "code",
   "execution_count": 13,
   "id": "f9924836",
   "metadata": {},
   "outputs": [
    {
     "data": {
      "text/plain": [
       "['encoder.pkl']"
      ]
     },
     "execution_count": 13,
     "metadata": {},
     "output_type": "execute_result"
    }
   ],
   "source": [
    "# Convert labels to one-hot encoding\n",
    "y_train_one_hot = to_categorical(y_train_numeric)\n",
    "y_val_one_hot = to_categorical(y_val_numeric)\n",
    "y_test_one_hot = to_categorical(y_test_numeric)\n",
    "\n",
    "encoder = OneHotEncoder()\n",
    "\n",
    "# Saving the encoder\n",
    "joblib.dump(encoder, 'encoder.pkl')"
   ]
  },
  {
   "cell_type": "code",
   "execution_count": 14,
   "id": "f78d7144",
   "metadata": {},
   "outputs": [
    {
     "name": "stderr",
     "output_type": "stream",
     "text": [
      "2023-11-24 14:52:02.750580: I metal_plugin/src/device/metal_device.cc:1154] Metal device set to: Apple M2\n",
      "2023-11-24 14:52:02.750602: I metal_plugin/src/device/metal_device.cc:296] systemMemory: 8.00 GB\n",
      "2023-11-24 14:52:02.750612: I metal_plugin/src/device/metal_device.cc:313] maxCacheSize: 2.67 GB\n",
      "2023-11-24 14:52:02.750639: I tensorflow/core/common_runtime/pluggable_device/pluggable_device_factory.cc:306] Could not identify NUMA node of platform GPU ID 0, defaulting to 0. Your kernel may not have been built with NUMA support.\n",
      "2023-11-24 14:52:02.750652: I tensorflow/core/common_runtime/pluggable_device/pluggable_device_factory.cc:272] Created TensorFlow device (/job:localhost/replica:0/task:0/device:GPU:0 with 0 MB memory) -> physical PluggableDevice (device: 0, name: METAL, pci bus id: <undefined>)\n"
     ]
    }
   ],
   "source": [
    "# Build the neural network model\n",
    "def initialize_model():\n",
    "    model = models.Sequential()\n",
    "    model.add(layers.Dense(128, input_dim=X_train.shape[1], activation='relu'))\n",
    "    model.add(layers.Dropout(0.5))\n",
    "    model.add(layers.Dense(64, activation='relu'))\n",
    "    model.add(layers.Dropout(0.5))\n",
    "#     model.add(layers.Dense(64, activation='relu'))\n",
    "#     model.add(layers.Dropout(0.5))\n",
    "#     model.add(layers.Dense(32, activation='relu'))\n",
    "#     model.add(layers.Dropout(0.5))\n",
    "    model.add(layers.Dense(len(label_mapping), activation='softmax'))\n",
    "\n",
    "    model.compile(loss='categorical_crossentropy',\n",
    "                  optimizer='adam',\n",
    "                  metrics=['accuracy'])\n",
    "\n",
    "    return model\n",
    "\n",
    "model = initialize_model()\n"
   ]
  },
  {
   "cell_type": "code",
   "execution_count": 15,
   "id": "b2e89e88",
   "metadata": {},
   "outputs": [
    {
     "name": "stdout",
     "output_type": "stream",
     "text": [
      "Epoch 1/100\n"
     ]
    },
    {
     "name": "stderr",
     "output_type": "stream",
     "text": [
      "2023-11-24 14:52:03.084634: I tensorflow/core/grappler/optimizers/custom_graph_optimizer_registry.cc:117] Plugin optimizer for device_type GPU is enabled.\n",
      "2023-11-24 14:52:03.098335: E tensorflow/core/grappler/optimizers/meta_optimizer.cc:961] PluggableGraphOptimizer failed: INVALID_ARGUMENT: Unparseable tensorflow.GraphDef proto\n"
     ]
    },
    {
     "name": "stdout",
     "output_type": "stream",
     "text": [
      "17/17 [==============================] - 1s 32ms/step - loss: 1.6002 - accuracy: 0.3813 - val_loss: 0.9973 - val_accuracy: 0.6250\n",
      "Epoch 2/100\n",
      "17/17 [==============================] - 0s 18ms/step - loss: 1.1377 - accuracy: 0.5533 - val_loss: 0.7970 - val_accuracy: 0.6806\n",
      "Epoch 3/100\n",
      "17/17 [==============================] - 0s 11ms/step - loss: 0.9345 - accuracy: 0.6150 - val_loss: 0.6726 - val_accuracy: 0.7639\n",
      "Epoch 4/100\n",
      "17/17 [==============================] - 0s 11ms/step - loss: 0.8169 - accuracy: 0.6879 - val_loss: 0.5757 - val_accuracy: 0.8125\n",
      "Epoch 5/100\n",
      "17/17 [==============================] - 0s 10ms/step - loss: 0.7139 - accuracy: 0.7383 - val_loss: 0.4999 - val_accuracy: 0.8403\n",
      "Epoch 6/100\n",
      "17/17 [==============================] - 0s 12ms/step - loss: 0.6415 - accuracy: 0.7439 - val_loss: 0.4464 - val_accuracy: 0.8472\n",
      "Epoch 7/100\n",
      "17/17 [==============================] - 0s 10ms/step - loss: 0.5860 - accuracy: 0.7794 - val_loss: 0.4046 - val_accuracy: 0.8542\n",
      "Epoch 8/100\n",
      "17/17 [==============================] - 0s 9ms/step - loss: 0.5051 - accuracy: 0.8393 - val_loss: 0.3637 - val_accuracy: 0.8542\n",
      "Epoch 9/100\n",
      "17/17 [==============================] - 0s 9ms/step - loss: 0.4893 - accuracy: 0.8206 - val_loss: 0.3298 - val_accuracy: 0.8611\n",
      "Epoch 10/100\n",
      "17/17 [==============================] - 0s 10ms/step - loss: 0.4519 - accuracy: 0.8262 - val_loss: 0.3053 - val_accuracy: 0.8611\n",
      "Epoch 11/100\n",
      "17/17 [==============================] - 0s 10ms/step - loss: 0.3962 - accuracy: 0.8579 - val_loss: 0.2857 - val_accuracy: 0.8542\n",
      "Epoch 12/100\n",
      "17/17 [==============================] - 0s 11ms/step - loss: 0.4010 - accuracy: 0.8449 - val_loss: 0.2634 - val_accuracy: 0.8889\n",
      "Epoch 13/100\n",
      "17/17 [==============================] - 0s 12ms/step - loss: 0.3497 - accuracy: 0.8766 - val_loss: 0.2499 - val_accuracy: 0.8750\n",
      "Epoch 14/100\n",
      "17/17 [==============================] - 0s 10ms/step - loss: 0.3633 - accuracy: 0.8561 - val_loss: 0.2318 - val_accuracy: 0.8889\n",
      "Epoch 15/100\n",
      "17/17 [==============================] - 0s 10ms/step - loss: 0.3616 - accuracy: 0.8505 - val_loss: 0.2155 - val_accuracy: 0.9236\n",
      "Epoch 16/100\n",
      "17/17 [==============================] - 0s 10ms/step - loss: 0.3124 - accuracy: 0.8710 - val_loss: 0.2027 - val_accuracy: 0.9236\n",
      "Epoch 17/100\n",
      "17/17 [==============================] - 0s 13ms/step - loss: 0.3084 - accuracy: 0.8692 - val_loss: 0.1921 - val_accuracy: 0.9306\n",
      "Epoch 18/100\n",
      "17/17 [==============================] - 0s 11ms/step - loss: 0.2717 - accuracy: 0.9065 - val_loss: 0.1815 - val_accuracy: 0.9236\n",
      "Epoch 19/100\n",
      "17/17 [==============================] - 0s 11ms/step - loss: 0.2481 - accuracy: 0.9121 - val_loss: 0.1647 - val_accuracy: 0.9236\n",
      "Epoch 20/100\n",
      "17/17 [==============================] - 0s 12ms/step - loss: 0.2540 - accuracy: 0.8916 - val_loss: 0.1558 - val_accuracy: 0.9306\n",
      "Epoch 21/100\n",
      "17/17 [==============================] - 0s 11ms/step - loss: 0.2398 - accuracy: 0.9178 - val_loss: 0.1480 - val_accuracy: 0.9444\n",
      "Epoch 22/100\n",
      "17/17 [==============================] - 0s 15ms/step - loss: 0.2053 - accuracy: 0.9364 - val_loss: 0.1365 - val_accuracy: 0.9375\n",
      "Epoch 23/100\n",
      "17/17 [==============================] - 0s 15ms/step - loss: 0.1926 - accuracy: 0.9402 - val_loss: 0.1301 - val_accuracy: 0.9444\n",
      "Epoch 24/100\n",
      "17/17 [==============================] - 0s 12ms/step - loss: 0.2044 - accuracy: 0.9271 - val_loss: 0.1198 - val_accuracy: 0.9583\n",
      "Epoch 25/100\n",
      "17/17 [==============================] - 0s 11ms/step - loss: 0.1755 - accuracy: 0.9607 - val_loss: 0.1135 - val_accuracy: 0.9514\n",
      "Epoch 26/100\n",
      "17/17 [==============================] - 0s 10ms/step - loss: 0.1626 - accuracy: 0.9551 - val_loss: 0.1074 - val_accuracy: 0.9583\n",
      "Epoch 27/100\n",
      "17/17 [==============================] - 0s 21ms/step - loss: 0.1564 - accuracy: 0.9514 - val_loss: 0.1127 - val_accuracy: 0.9444\n",
      "Epoch 28/100\n",
      "17/17 [==============================] - 0s 11ms/step - loss: 0.1617 - accuracy: 0.9495 - val_loss: 0.0979 - val_accuracy: 0.9653\n",
      "Epoch 29/100\n",
      "17/17 [==============================] - 0s 10ms/step - loss: 0.1449 - accuracy: 0.9589 - val_loss: 0.0959 - val_accuracy: 0.9514\n",
      "Epoch 30/100\n",
      "17/17 [==============================] - 0s 11ms/step - loss: 0.1335 - accuracy: 0.9589 - val_loss: 0.0839 - val_accuracy: 0.9931\n",
      "Epoch 31/100\n",
      "17/17 [==============================] - 0s 12ms/step - loss: 0.1447 - accuracy: 0.9514 - val_loss: 0.0822 - val_accuracy: 0.9861\n",
      "Epoch 32/100\n",
      "17/17 [==============================] - 0s 11ms/step - loss: 0.1553 - accuracy: 0.9533 - val_loss: 0.0806 - val_accuracy: 0.9792\n",
      "Epoch 33/100\n",
      "17/17 [==============================] - 0s 11ms/step - loss: 0.1293 - accuracy: 0.9701 - val_loss: 0.0752 - val_accuracy: 0.9861\n",
      "Epoch 34/100\n",
      "17/17 [==============================] - 0s 11ms/step - loss: 0.1189 - accuracy: 0.9626 - val_loss: 0.0728 - val_accuracy: 0.9861\n",
      "Epoch 35/100\n",
      "17/17 [==============================] - 0s 11ms/step - loss: 0.1069 - accuracy: 0.9589 - val_loss: 0.0713 - val_accuracy: 0.9861\n",
      "Epoch 36/100\n",
      "17/17 [==============================] - 0s 11ms/step - loss: 0.1060 - accuracy: 0.9682 - val_loss: 0.0630 - val_accuracy: 0.9861\n",
      "Epoch 37/100\n",
      "17/17 [==============================] - 0s 12ms/step - loss: 0.1063 - accuracy: 0.9664 - val_loss: 0.0634 - val_accuracy: 0.9861\n",
      "Epoch 38/100\n",
      "17/17 [==============================] - 0s 12ms/step - loss: 0.0908 - accuracy: 0.9720 - val_loss: 0.0617 - val_accuracy: 0.9861\n",
      "Epoch 39/100\n",
      "17/17 [==============================] - 0s 11ms/step - loss: 0.0945 - accuracy: 0.9738 - val_loss: 0.0598 - val_accuracy: 0.9861\n",
      "Epoch 40/100\n",
      "17/17 [==============================] - 0s 12ms/step - loss: 0.0795 - accuracy: 0.9850 - val_loss: 0.0532 - val_accuracy: 0.9931\n",
      "Epoch 41/100\n",
      "17/17 [==============================] - 0s 11ms/step - loss: 0.0735 - accuracy: 0.9794 - val_loss: 0.0585 - val_accuracy: 0.9861\n",
      "Epoch 42/100\n",
      "17/17 [==============================] - 0s 11ms/step - loss: 0.0633 - accuracy: 0.9869 - val_loss: 0.0496 - val_accuracy: 0.9931\n",
      "Epoch 43/100\n",
      "17/17 [==============================] - 0s 10ms/step - loss: 0.0715 - accuracy: 0.9794 - val_loss: 0.0566 - val_accuracy: 0.9861\n",
      "Epoch 44/100\n",
      "17/17 [==============================] - 0s 11ms/step - loss: 0.0761 - accuracy: 0.9720 - val_loss: 0.0480 - val_accuracy: 0.9931\n",
      "Epoch 45/100\n",
      "17/17 [==============================] - 0s 10ms/step - loss: 0.0733 - accuracy: 0.9832 - val_loss: 0.0561 - val_accuracy: 0.9792\n",
      "Epoch 46/100\n",
      "17/17 [==============================] - 0s 19ms/step - loss: 0.0676 - accuracy: 0.9776 - val_loss: 0.0540 - val_accuracy: 0.9792\n",
      "Epoch 47/100\n",
      "17/17 [==============================] - 0s 15ms/step - loss: 0.0537 - accuracy: 0.9832 - val_loss: 0.0463 - val_accuracy: 0.9792\n",
      "Epoch 48/100\n",
      "17/17 [==============================] - 0s 10ms/step - loss: 0.0501 - accuracy: 0.9944 - val_loss: 0.0379 - val_accuracy: 0.9931\n",
      "Epoch 49/100\n",
      "17/17 [==============================] - 0s 10ms/step - loss: 0.0548 - accuracy: 0.9832 - val_loss: 0.0383 - val_accuracy: 0.9931\n",
      "Epoch 50/100\n",
      "17/17 [==============================] - 0s 11ms/step - loss: 0.0585 - accuracy: 0.9925 - val_loss: 0.0463 - val_accuracy: 0.9861\n"
     ]
    }
   ],
   "source": [
    "from tensorflow.keras.callbacks import EarlyStopping\n",
    "\n",
    "es = EarlyStopping(monitor='val_accuracy', patience=20)\n",
    "\n",
    "# Start training\n",
    "history = model.fit(X_train,\n",
    "                    y_train_one_hot,\n",
    "                    epochs=100,\n",
    "                    batch_size=32,\n",
    "                    validation_data=(X_val, y_val_one_hot),\n",
    "                    callbacks=[es])\n",
    "\n",
    "# # Train the model with validation data\n",
    "# history = model.fit(X_train,\n",
    "#                     y_train_one_hot,\n",
    "#                     epochs=10,\n",
    "#                     batch_size=32,\n",
    "#                     validation_data=(X_val, y_val_one_hot))\n"
   ]
  },
  {
   "cell_type": "code",
   "execution_count": 16,
   "id": "cde95bfc",
   "metadata": {
    "scrolled": false
   },
   "outputs": [
    {
     "name": "stdout",
     "output_type": "stream",
     "text": [
      "Model: \"sequential\"\n",
      "_________________________________________________________________\n",
      " Layer (type)                Output Shape              Param #   \n",
      "=================================================================\n",
      " dense (Dense)               (None, 128)               6656      \n",
      "                                                                 \n",
      " dropout (Dropout)           (None, 128)               0         \n",
      "                                                                 \n",
      " dense_1 (Dense)             (None, 64)                8256      \n",
      "                                                                 \n",
      " dropout_1 (Dropout)         (None, 64)                0         \n",
      "                                                                 \n",
      " dense_2 (Dense)             (None, 5)                 325       \n",
      "                                                                 \n",
      "=================================================================\n",
      "Total params: 15237 (59.52 KB)\n",
      "Trainable params: 15237 (59.52 KB)\n",
      "Non-trainable params: 0 (0.00 Byte)\n",
      "_________________________________________________________________\n"
     ]
    }
   ],
   "source": [
    "model.summary()\n"
   ]
  },
  {
   "cell_type": "code",
   "execution_count": 17,
   "id": "35ee592c",
   "metadata": {
    "scrolled": true
   },
   "outputs": [
    {
     "data": {
      "image/png": "[encoded data removed]",
      "text/plain": [
       "<Figure size 640x480 with 1 Axes>"
      ]
     },
     "metadata": {},
     "output_type": "display_data"
    }
   ],
   "source": [
    "# Visualize the training history to see whether you're overfitting.\n",
    "plt.plot(history.history['accuracy'])\n",
    "plt.plot(history.history['val_accuracy'])\n",
    "plt.title('Model accuracy')\n",
    "plt.ylabel('accuracy')\n",
    "plt.xlabel('epoch')\n",
    "plt.legend(['TRAIN', 'VAL'], loc='lower right')\n",
    "plt.show()\n"
   ]
  },
  {
   "cell_type": "code",
   "execution_count": 18,
   "id": "86bfc682",
   "metadata": {},
   "outputs": [],
   "source": [
    "# # Train the model with validation data\n",
    "# history = model.fit(X_train,\n",
    "#                     y_train_one_hot,\n",
    "#                     epochs=10,\n",
    "#                     batch_size=32,\n",
    "#                     validation_data=(X_val, y_val_one_hot))"
   ]
  },
  {
   "cell_type": "code",
   "execution_count": 19,
   "id": "afd3fd5b",
   "metadata": {
    "scrolled": true
   },
   "outputs": [
    {
     "data": {
      "image/png": "[encoded data removed]",
      "text/plain": [
       "<Figure size 640x480 with 1 Axes>"
      ]
     },
     "metadata": {},
     "output_type": "display_data"
    }
   ],
   "source": [
    "def plot_history(history):\n",
    "    plt.plot(history.history['val_loss'])\n",
    "    plt.title('Model loss')\n",
    "    plt.ylabel('Loss')\n",
    "    plt.xlabel('Epoch')\n",
    "    plt.show()\n",
    "\n",
    "plot_history(history)\n"
   ]
  },
  {
   "cell_type": "code",
   "execution_count": 20,
   "id": "1e3e4d2f",
   "metadata": {
    "scrolled": true
   },
   "outputs": [
    {
     "data": {
      "image/png": "[encoded data removed]",
      "text/plain": [
       "<Figure size 640x480 with 1 Axes>"
      ]
     },
     "metadata": {},
     "output_type": "display_data"
    }
   ],
   "source": [
    "def plot_history_accuracy(history):\n",
    "    plt.plot(history.history['val_accuracy'])\n",
    "    plt.title('Model accuracy')\n",
    "    plt.ylabel('Accuracy')\n",
    "    plt.xlabel('Epoch')\n",
    "    plt.show()\n",
    "\n",
    "plot_history_accuracy(history)\n"
   ]
  },
  {
   "cell_type": "code",
   "execution_count": 21,
   "id": "4de13fd7",
   "metadata": {},
   "outputs": [],
   "source": [
    "# Convert test labels to one-hot encoding\n",
    "y_test_one_hot = to_categorical(y_test_numeric)\n",
    "\n",
    "# Evaluate the model on the test set\n",
    "results = model.evaluate(X_test, y_test_one_hot, verbose=0)\n"
   ]
  },
  {
   "cell_type": "code",
   "execution_count": 22,
   "id": "f5046557",
   "metadata": {
    "scrolled": true
   },
   "outputs": [
    {
     "name": "stdout",
     "output_type": "stream",
     "text": [
      "Test Accuracy: 95.45%\n",
      "Test Loss: 0.1220347061753273\n"
     ]
    }
   ],
   "source": [
    "print(f'Test Accuracy: {results[1]*100:.2f}%')\n",
    "print(f'Test Loss: {results[0]}')\n"
   ]
  },
  {
   "cell_type": "code",
   "execution_count": 23,
   "id": "b64f6f6d",
   "metadata": {
    "scrolled": true
   },
   "outputs": [],
   "source": [
    "X_pred = X_test[0].reshape(1,-1)"
   ]
  },
  {
   "cell_type": "code",
   "execution_count": 24,
   "id": "765bb862",
   "metadata": {
    "scrolled": true
   },
   "outputs": [
    {
     "name": "stdout",
     "output_type": "stream",
     "text": [
      "CPU times: user 1 µs, sys: 1 µs, total: 2 µs\n",
      "Wall time: 3.81 µs\n",
      "1/1 [==============================] - 0s 106ms/step\n"
     ]
    }
   ],
   "source": [
    "%time\n",
    "prediction = model.predict(X_pred)\n"
   ]
  },
  {
   "cell_type": "code",
   "execution_count": 25,
   "id": "3bddad6f",
   "metadata": {},
   "outputs": [
    {
     "data": {
      "text/plain": [
       "array([0])"
      ]
     },
     "execution_count": 25,
     "metadata": {},
     "output_type": "execute_result"
    }
   ],
   "source": [
    "predict_class = np.argmax(prediction, axis = 1)\n",
    "predict_class\n"
   ]
  },
  {
   "cell_type": "code",
   "execution_count": 26,
   "id": "449a297c",
   "metadata": {},
   "outputs": [],
   "source": [
    "predicted_labels = np.argmax(prediction, axis=1)\n"
   ]
  },
  {
   "cell_type": "code",
   "execution_count": 27,
   "id": "e1ff9a54",
   "metadata": {},
   "outputs": [
    {
     "data": {
      "text/plain": [
       "'downdog'"
      ]
     },
     "execution_count": 27,
     "metadata": {},
     "output_type": "execute_result"
    }
   ],
   "source": [
    "predicted_class_names = [class_name for class_name, idx in label_mapping.items() if idx in predict_class]\n",
    "predicted_class_names[0]\n"
   ]
  },
  {
   "cell_type": "code",
   "execution_count": 28,
   "id": "8d64210b",
   "metadata": {},
   "outputs": [],
   "source": [
    "# def plot_confusion_matrix(cm, classes,\n",
    "#                           normalize=False,\n",
    "#                           title='Confusion matrix',\n",
    "#                           cmap=plt.cm.Blues):\n",
    "#   \"\"\"Plots the confusion matrix.\"\"\"\n",
    "#   if normalize:\n",
    "#     cm = cm.astype('float') / cm.sum(axis=1)[:, np.newaxis]\n",
    "#     print(\"Normalized confusion matrix\")\n",
    "#   else:\n",
    "#     print('Confusion matrix, without normalization')\n",
    "\n",
    "#   plt.imshow(cm, interpolation='nearest', cmap=cmap)\n",
    "#   plt.title(title)\n",
    "#   plt.colorbar()\n",
    "#   tick_marks = np.arange(len(classes))\n",
    "#   plt.xticks(tick_marks, classes, rotation=55)\n",
    "#   plt.yticks(tick_marks, classes)\n",
    "#   fmt = '.2f' if normalize else 'd'\n",
    "#   thresh = cm.max() / 2.\n",
    "#   for i, j in itertools.product(range(cm.shape[0]), range(cm.shape[1])):\n",
    "#     plt.text(j, i, format(cm[i, j], fmt),\n",
    "#               horizontalalignment=\"center\",\n",
    "#               color=\"white\" if cm[i, j] > thresh else \"black\")\n",
    "\n",
    "#   plt.ylabel('True label')\n",
    "#   plt.xlabel('Predicted label')\n",
    "#   plt.tight_layout()\n",
    "\n",
    "# # Classify pose in the TEST dataset using the trained model\n",
    "# y_pred = model.predict(X_test)\n",
    "\n",
    "# # Convert the prediction result to class name\n",
    "# y_pred_label = [predict_class[i] for i in np.argmax(y_pred, axis=1)]\n",
    "# y_true_label = [predict_class[i] for i in np.argmax(y_test, axis=1)]\n",
    "\n",
    "# # Plot the confusion matrix\n",
    "# cm = confusion_matrix(np.argmax(y_test, axis=1), np.argmax(y_pred, axis=1))\n",
    "# plot_confusion_matrix(cm,\n",
    "#                       class_names,\n",
    "#                       title ='Confusion Matrix of Pose Classification Model')\n",
    "\n",
    "# # Print the classification report\n",
    "# print('\\nClassification Report:\\n', classification_report(y_true_label,\n",
    "#                                                           y_pred_label))\n"
   ]
  },
  {
   "cell_type": "code",
   "execution_count": 29,
   "id": "7d87e90b",
   "metadata": {
    "scrolled": true
   },
   "outputs": [
    {
     "name": "stderr",
     "output_type": "stream",
     "text": [
      "/Users/mirmachr/.pyenv/versions/3.10.6/envs/hathaproject/lib/python3.10/site-packages/keras/src/engine/training.py:3103: UserWarning: You are saving your model as an HDF5 file via `model.save()`. This file format is considered legacy. We recommend using instead the native Keras format, e.g. `model.save('my_model.keras')`.\n",
      "  saving_api.save_model(\n"
     ]
    }
   ],
   "source": [
    "model.save('xyz.h5')  # Save the entire model"
   ]
  },
  {
   "cell_type": "code",
   "execution_count": 30,
   "id": "c0163b44",
   "metadata": {},
   "outputs": [],
   "source": [
    "model.save('xyz.keras')  # Save the entire model"
   ]
  }
 ],
 "metadata": {
  "kernelspec": {
   "display_name": "Python 3 (ipykernel)",
   "language": "python",
   "name": "python3"
  },
  "language_info": {
   "codemirror_mode": {
    "name": "ipython",
    "version": 3
   },
   "file_extension": ".py",
   "mimetype": "text/x-python",
   "name": "python",
   "nbconvert_exporter": "python",
   "pygments_lexer": "ipython3",
   "version": "3.10.6"
  },
  "toc": {
   "base_numbering": 1,
   "nav_menu": {},
   "number_sections": true,
   "sideBar": true,
   "skip_h1_title": false,
   "title_cell": "Table of Contents",
   "title_sidebar": "Contents",
   "toc_cell": false,
   "toc_position": {},
   "toc_section_display": true,
   "toc_window_display": false
  }
 },
 "nbformat": 4,
 "nbformat_minor": 5
}
