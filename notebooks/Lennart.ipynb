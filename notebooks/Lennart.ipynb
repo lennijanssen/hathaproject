{
 "cells": [
  {
   "cell_type": "markdown",
   "id": "f7649d29-cd6c-4428-9d53-cf7822e1b1ae",
   "metadata": {},
   "source": [
    "# Angle Mechanisms"
   ]
  },
  {
   "cell_type": "markdown",
   "id": "b078a245",
   "metadata": {},
   "source": [
    "In this notebook, we will lay out our approach for a Neural Network approach to predict a pose based on landmark. Additionally, we are storing out angle calculation and perspectively our angle error calculation."
   ]
  },
  {
   "cell_type": "markdown",
   "id": "603927da",
   "metadata": {},
   "source": [
    "## Getting the Data"
   ]
  },
  {
   "cell_type": "markdown",
   "id": "b22d7ad4",
   "metadata": {
    "heading_collapsed": true
   },
   "source": [
    "### Image upload and Preprocessing, single picture"
   ]
  },
  {
   "cell_type": "code",
   "execution_count": 1,
   "id": "c08f2909",
   "metadata": {
    "hidden": true
   },
   "outputs": [],
   "source": [
    "import tensorflow as tf\n",
    "import tensorflow_hub as hub\n",
    "from tensorflow_docs.vis import embed\n",
    "import numpy as np\n",
    "import cv2\n",
    "import os\n",
    "import pandas as pd\n",
    "\n",
    "# Import matplotlib libraries\n",
    "from matplotlib import pyplot as plt\n",
    "from matplotlib.collections import LineCollection\n",
    "import matplotlib.patches as patches\n",
    "\n",
    "# Some modules to display an animation using imageio.\n",
    "import imageio\n",
    "from IPython.display import HTML, display\n"
   ]
  },
  {
   "cell_type": "code",
   "execution_count": 2,
   "id": "15669a20",
   "metadata": {
    "hidden": true
   },
   "outputs": [],
   "source": [
    "# Model Initialization\n",
    "model_name = \"movenet_lightning\"\n",
    "module = hub.load(\"https://tfhub.dev/google/movenet/singlepose/lightning/4\")\n",
    "input_size = 192\n",
    "model = module.signatures['serving_default']\n"
   ]
  },
  {
   "cell_type": "code",
   "execution_count": 60,
   "id": "ba355726",
   "metadata": {
    "hidden": true
   },
   "outputs": [],
   "source": [
    "# Choose image file and preprocess\n",
    "\n",
    "image_path = \"../mika_poses/87f61309-0e27-4508-affa-11b83f4f1b67.jpg\"\n",
    "image = tf.io.read_file(image_path)\n",
    "image = tf.image.decode_jpeg(image)\n",
    "\n",
    "# Resize and pad the image to keep the aspect ratio and fit the expected size.\n",
    "input_image = tf.expand_dims(image, axis=0)\n",
    "input_image = tf.image.resize_with_pad(input_image, input_size, input_size)\n"
   ]
  },
  {
   "cell_type": "code",
   "execution_count": 61,
   "metadata": {},
   "outputs": [
    {
     "data": {
      "text/plain": [
       "<tf.Tensor: shape=(656, 829, 3), dtype=uint8, numpy=\n",
       "array([[[129,  64,  32],\n",
       "        [124,  59,  27],\n",
       "        [127,  62,  30],\n",
       "        ...,\n",
       "        [197, 199, 198],\n",
       "        [194, 196, 195],\n",
       "        [  2,   4,   3]],\n",
       "\n",
       "       [[131,  66,  34],\n",
       "        [126,  61,  29],\n",
       "        [126,  61,  29],\n",
       "        ...,\n",
       "        [197, 199, 198],\n",
       "        [194, 196, 195],\n",
       "        [  1,   3,   2]],\n",
       "\n",
       "       [[135,  70,  38],\n",
       "        [129,  64,  32],\n",
       "        [126,  61,  29],\n",
       "        ...,\n",
       "        [196, 198, 197],\n",
       "        [194, 196, 195],\n",
       "        [  1,   3,   2]],\n",
       "\n",
       "       ...,\n",
       "\n",
       "       [[143, 146,  41],\n",
       "        [147, 150,  45],\n",
       "        [147, 150,  45],\n",
       "        ...,\n",
       "        [169, 170, 164],\n",
       "        [166, 167, 161],\n",
       "        [  2,   2,   0]],\n",
       "\n",
       "       [[144, 147,  40],\n",
       "        [148, 151,  44],\n",
       "        [148, 151,  46],\n",
       "        ...,\n",
       "        [170, 171, 165],\n",
       "        [166, 167, 161],\n",
       "        [  2,   2,   0]],\n",
       "\n",
       "       [[146, 150,  40],\n",
       "        [149, 153,  43],\n",
       "        [148, 151,  46],\n",
       "        ...,\n",
       "        [170, 171, 165],\n",
       "        [167, 168, 162],\n",
       "        [  3,   3,   1]]], dtype=uint8)>"
      ]
     },
     "execution_count": 61,
     "metadata": {},
     "output_type": "execute_result"
    }
   ],
   "source": [
    "image\n"
   ]
  },
  {
   "cell_type": "code",
   "execution_count": 55,
   "id": "6268b988",
   "metadata": {
    "hidden": true
   },
   "outputs": [],
   "source": [
    "# Detect landmarks on image\n",
    "model = module.signatures[\"serving_default\"]\n",
    "input_image = tf.cast(input_image, dtype=tf.int32)\n",
    "input_image = input_image[..., :3]\n",
    "outputs = model(input_image)\n",
    "\n",
    "# 1D array of xyz coordinates. X1, Y1, Z1, X2, ... , Yn, Zn format\n",
    "xyz_individual = outputs[\"output_0\"].numpy()\n"
   ]
  },
  {
   "cell_type": "code",
   "execution_count": 6,
   "metadata": {},
   "outputs": [
    {
     "data": {
      "text/plain": [
       "array([[[[0.38618642, 0.5001651 , 0.61137486],\n",
       "         [0.37802157, 0.51019275, 0.6280255 ],\n",
       "         [0.3773265 , 0.48961085, 0.5317528 ],\n",
       "         [0.3910056 , 0.52356184, 0.6837949 ],\n",
       "         [0.39103925, 0.4748915 , 0.823982  ],\n",
       "         [0.4432593 , 0.54984444, 0.7773363 ],\n",
       "         [0.44181532, 0.44503877, 0.8072547 ],\n",
       "         [0.4291618 , 0.62940717, 0.763232  ],\n",
       "         [0.4343538 , 0.3645373 , 0.7827731 ],\n",
       "         [0.3685537 , 0.65625304, 0.56193423],\n",
       "         [0.3765012 , 0.35011956, 0.42450994],\n",
       "         [0.6197113 , 0.52747464, 0.72385025],\n",
       "         [0.6196584 , 0.4666146 , 0.79227793],\n",
       "         [0.6398416 , 0.65718675, 0.68750316],\n",
       "         [0.6426125 , 0.328991  , 0.7633832 ],\n",
       "         [0.76167035, 0.66402024, 0.8026122 ],\n",
       "         [0.7670605 , 0.31065577, 0.8474749 ]]]], dtype=float32)"
      ]
     },
     "execution_count": 6,
     "metadata": {},
     "output_type": "execute_result"
    }
   ],
   "source": [
    "xyz_individual\n"
   ]
  },
  {
   "cell_type": "markdown",
   "id": "6ba02b3e",
   "metadata": {
    "heading_collapsed": true
   },
   "source": [
    "### Drawing the Landmarks"
   ]
  },
  {
   "cell_type": "code",
   "execution_count": 56,
   "id": "0937c47a",
   "metadata": {
    "hidden": true
   },
   "outputs": [],
   "source": [
    "# Helper method for drawing landmarks\n",
    "def draw_prediction_on_image(\n",
    "    image, keypoints_with_scores, crop_region=None, close_figure=False,\n",
    "    output_image_height=None):\n",
    "  \"\"\"Draws the keypoint predictions on image.\n",
    "\n",
    "  Args:\n",
    "    image: A numpy array with shape [height, width, channel] representing the\n",
    "      pixel values of the input image.\n",
    "    keypoints_with_scores: A numpy array with shape [1, 1, 17, 3] representing\n",
    "      the keypoint coordinates and scores returned from the MoveNet model.\n",
    "    crop_region: A dictionary that defines the coordinates of the bounding box\n",
    "      of the crop region in normalized coordinates (see the init_crop_region\n",
    "      function below for more detail). If provided, this function will also\n",
    "      draw the bounding box on the image.\n",
    "    output_image_height: An integer indicating the height of the output image.\n",
    "      Note that the image aspect ratio will be the same as the input image.\n",
    "\n",
    "  Returns:\n",
    "    A numpy array with shape [out_height, out_width, channel] representing the\n",
    "    image overlaid with keypoint predictions.\n",
    "  \"\"\"\n",
    "  height, width, channel = image.shape\n",
    "  aspect_ratio = float(width) / height\n",
    "  fig, ax = plt.subplots(figsize=(12 * aspect_ratio, 12))\n",
    "  # To remove the huge white borders\n",
    "  fig.tight_layout(pad=0)\n",
    "  ax.margins(0)\n",
    "  ax.set_yticklabels([])\n",
    "  ax.set_xticklabels([])\n",
    "  plt.axis('off')\n",
    "\n",
    "  im = ax.imshow(image)\n",
    "  line_segments = LineCollection([], linewidths=(4), linestyle='solid')\n",
    "  ax.add_collection(line_segments)\n",
    "  # Turn off tick labels\n",
    "  scat = ax.scatter([], [], s=60, color='#FF1493', zorder=3)\n",
    "\n",
    "  (keypoint_locs, keypoint_edges,\n",
    "   edge_colors) = _keypoints_and_edges_for_display(\n",
    "       keypoints_with_scores, height, width)\n",
    "\n",
    "  line_segments.set_segments(keypoint_edges)\n",
    "  line_segments.set_color(edge_colors)\n",
    "  if keypoint_edges.shape[0]:\n",
    "    line_segments.set_segments(keypoint_edges)\n",
    "    line_segments.set_color(edge_colors)\n",
    "  if keypoint_locs.shape[0]:\n",
    "    scat.set_offsets(keypoint_locs)\n",
    "\n",
    "  if crop_region is not None:\n",
    "    xmin = max(crop_region['x_min'] * width, 0.0)\n",
    "    ymin = max(crop_region['y_min'] * height, 0.0)\n",
    "    rec_width = min(crop_region['x_max'], 0.99) * width - xmin\n",
    "    rec_height = min(crop_region['y_max'], 0.99) * height - ymin\n",
    "    rect = patches.Rectangle(\n",
    "        (xmin,ymin),rec_width,rec_height,\n",
    "        linewidth=1,edgecolor='b',facecolor='none')\n",
    "    ax.add_patch(rect)\n",
    "\n",
    "  fig.canvas.draw()\n",
    "  image_from_plot = np.frombuffer(fig.canvas.tostring_rgb(), dtype=np.uint8)\n",
    "  image_from_plot = image_from_plot.reshape(\n",
    "      fig.canvas.get_width_height()[::-1] + (3,))\n",
    "  plt.close(fig)\n",
    "  if output_image_height is not None:\n",
    "    output_image_width = int(output_image_height / height * width)\n",
    "    image_from_plot = cv2.resize(\n",
    "        image_from_plot, dsize=(output_image_width, output_image_height),\n",
    "         interpolation=cv2.INTER_CUBIC)\n",
    "  return image_from_plot\n"
   ]
  },
  {
   "cell_type": "code",
   "execution_count": 58,
   "metadata": {},
   "outputs": [
    {
     "ename": "NameError",
     "evalue": "name 'image_from_plot' is not defined",
     "output_type": "error",
     "traceback": [
      "\u001b[0;31m---------------------------------------------------------------------------\u001b[0m",
      "\u001b[0;31mNameError\u001b[0m                                 Traceback (most recent call last)",
      "\u001b[1;32m/Users/lennartjanssen/code/lennijanssen/hathaproject/notebooks/Lennart.ipynb Cell 13\u001b[0m line \u001b[0;36m1\n\u001b[0;32m----> <a href='vscode-notebook-cell:/Users/lennartjanssen/code/lennijanssen/hathaproject/notebooks/Lennart.ipynb#X15sZmlsZQ%3D%3D?line=0'>1</a>\u001b[0m image_from_plot\n",
      "\u001b[0;31mNameError\u001b[0m: name 'image_from_plot' is not defined"
     ]
    }
   ],
   "source": [
    "draw_prediction_on_image(image, keypoints_with_scores)\n"
   ]
  },
  {
   "cell_type": "markdown",
   "id": "e8c47a4c",
   "metadata": {
    "heading_collapsed": true
   },
   "source": [
    "### Uploading whole image folder "
   ]
  },
  {
   "cell_type": "code",
   "execution_count": 9,
   "id": "1ead7d84",
   "metadata": {
    "hidden": true
   },
   "outputs": [],
   "source": [
    "# Get list of image file names in given directory\n",
    "dir_path_train_dd = \"../clean\"\n",
    "file_names = []\n",
    "for entry in os.listdir(dir_path_train_dd):\n",
    "    file_names.append(entry)\n"
   ]
  },
  {
   "cell_type": "code",
   "execution_count": 10,
   "id": "1a0b3762",
   "metadata": {
    "hidden": true
   },
   "outputs": [],
   "source": [
    "# Create DF of xyz values\n",
    "df = []\n",
    "image_names = []\n",
    "\n",
    "for file in file_names:\n",
    "    image_names.append(dir_path_train_dd)\n",
    "    dir_path_train_dd = f\"../clean/{file}\"\n",
    "    if not file.endswith((\".jpg\", \".png\")):\n",
    "        pass\n",
    "    else:\n",
    "#       print(dir_path_train_dd)\n",
    "        image = tf.io.read_file(dir_path_train_dd)\n",
    "        image = tf.image.decode_jpeg(image)\n",
    "        input_image = tf.expand_dims(image, axis=0)\n",
    "        input_image = tf.image.resize_with_pad(input_image, input_size, input_size)\n",
    "        input_image = input_image[..., :3]\n",
    "\n",
    "        model = module.signatures[\"serving_default\"]\n",
    "        input_image = tf.cast(input_image, dtype=tf.int32)\n",
    "        outputs = model(input_image)\n",
    "        df.append(outputs[\"output_0\"].numpy().reshape(51).tolist())\n"
   ]
  },
  {
   "cell_type": "code",
   "execution_count": 11,
   "id": "81b696d1",
   "metadata": {
    "hidden": true
   },
   "outputs": [],
   "source": [
    "data = pd.DataFrame(df)\n"
   ]
  },
  {
   "cell_type": "code",
   "execution_count": 12,
   "id": "925620e7",
   "metadata": {
    "hidden": true
   },
   "outputs": [],
   "source": [
    "data[\"label\"] = \"goddess\"\n"
   ]
  },
  {
   "cell_type": "code",
   "execution_count": 13,
   "id": "d6beb828",
   "metadata": {
    "hidden": true
   },
   "outputs": [
    {
     "data": {
      "text/html": [
       "<div>\n",
       "<style scoped>\n",
       "    .dataframe tbody tr th:only-of-type {\n",
       "        vertical-align: middle;\n",
       "    }\n",
       "\n",
       "    .dataframe tbody tr th {\n",
       "        vertical-align: top;\n",
       "    }\n",
       "\n",
       "    .dataframe thead th {\n",
       "        text-align: right;\n",
       "    }\n",
       "</style>\n",
       "<table border=\"1\" class=\"dataframe\">\n",
       "  <thead>\n",
       "    <tr style=\"text-align: right;\">\n",
       "      <th></th>\n",
       "      <th>0</th>\n",
       "      <th>1</th>\n",
       "      <th>2</th>\n",
       "      <th>3</th>\n",
       "      <th>4</th>\n",
       "      <th>5</th>\n",
       "      <th>6</th>\n",
       "      <th>7</th>\n",
       "      <th>8</th>\n",
       "      <th>9</th>\n",
       "      <th>...</th>\n",
       "      <th>42</th>\n",
       "      <th>43</th>\n",
       "      <th>44</th>\n",
       "      <th>45</th>\n",
       "      <th>46</th>\n",
       "      <th>47</th>\n",
       "      <th>48</th>\n",
       "      <th>49</th>\n",
       "      <th>50</th>\n",
       "      <th>label</th>\n",
       "    </tr>\n",
       "  </thead>\n",
       "  <tbody>\n",
       "    <tr>\n",
       "      <th>0</th>\n",
       "      <td>0.614686</td>\n",
       "      <td>0.366069</td>\n",
       "      <td>0.722571</td>\n",
       "      <td>0.612122</td>\n",
       "      <td>0.350986</td>\n",
       "      <td>0.643456</td>\n",
       "      <td>0.612995</td>\n",
       "      <td>0.350938</td>\n",
       "      <td>0.715975</td>\n",
       "      <td>0.563880</td>\n",
       "      <td>...</td>\n",
       "      <td>0.515043</td>\n",
       "      <td>0.705208</td>\n",
       "      <td>0.887617</td>\n",
       "      <td>0.685450</td>\n",
       "      <td>0.883067</td>\n",
       "      <td>0.797600</td>\n",
       "      <td>0.667293</td>\n",
       "      <td>0.864593</td>\n",
       "      <td>0.652386</td>\n",
       "      <td>goddess</td>\n",
       "    </tr>\n",
       "    <tr>\n",
       "      <th>1</th>\n",
       "      <td>0.534696</td>\n",
       "      <td>0.722514</td>\n",
       "      <td>0.564541</td>\n",
       "      <td>0.529799</td>\n",
       "      <td>0.733964</td>\n",
       "      <td>0.405342</td>\n",
       "      <td>0.526650</td>\n",
       "      <td>0.732507</td>\n",
       "      <td>0.399033</td>\n",
       "      <td>0.498358</td>\n",
       "      <td>...</td>\n",
       "      <td>0.471535</td>\n",
       "      <td>0.375810</td>\n",
       "      <td>0.738872</td>\n",
       "      <td>0.586279</td>\n",
       "      <td>0.311128</td>\n",
       "      <td>0.580621</td>\n",
       "      <td>0.628086</td>\n",
       "      <td>0.273356</td>\n",
       "      <td>0.892580</td>\n",
       "      <td>goddess</td>\n",
       "    </tr>\n",
       "    <tr>\n",
       "      <th>2</th>\n",
       "      <td>0.569520</td>\n",
       "      <td>0.529188</td>\n",
       "      <td>0.600391</td>\n",
       "      <td>0.572470</td>\n",
       "      <td>0.513902</td>\n",
       "      <td>0.517100</td>\n",
       "      <td>0.575602</td>\n",
       "      <td>0.515343</td>\n",
       "      <td>0.508116</td>\n",
       "      <td>0.547930</td>\n",
       "      <td>...</td>\n",
       "      <td>0.502984</td>\n",
       "      <td>0.773414</td>\n",
       "      <td>0.708214</td>\n",
       "      <td>0.674067</td>\n",
       "      <td>0.870783</td>\n",
       "      <td>0.614912</td>\n",
       "      <td>0.665915</td>\n",
       "      <td>0.863403</td>\n",
       "      <td>0.627865</td>\n",
       "      <td>goddess</td>\n",
       "    </tr>\n",
       "  </tbody>\n",
       "</table>\n",
       "<p>3 rows × 52 columns</p>\n",
       "</div>"
      ],
      "text/plain": [
       "          0         1         2         3         4         5         6  \\\n",
       "0  0.614686  0.366069  0.722571  0.612122  0.350986  0.643456  0.612995   \n",
       "1  0.534696  0.722514  0.564541  0.529799  0.733964  0.405342  0.526650   \n",
       "2  0.569520  0.529188  0.600391  0.572470  0.513902  0.517100  0.575602   \n",
       "\n",
       "          7         8         9  ...        42        43        44        45  \\\n",
       "0  0.350938  0.715975  0.563880  ...  0.515043  0.705208  0.887617  0.685450   \n",
       "1  0.732507  0.399033  0.498358  ...  0.471535  0.375810  0.738872  0.586279   \n",
       "2  0.515343  0.508116  0.547930  ...  0.502984  0.773414  0.708214  0.674067   \n",
       "\n",
       "         46        47        48        49        50    label  \n",
       "0  0.883067  0.797600  0.667293  0.864593  0.652386  goddess  \n",
       "1  0.311128  0.580621  0.628086  0.273356  0.892580  goddess  \n",
       "2  0.870783  0.614912  0.665915  0.863403  0.627865  goddess  \n",
       "\n",
       "[3 rows x 52 columns]"
      ]
     },
     "execution_count": 13,
     "metadata": {},
     "output_type": "execute_result"
    }
   ],
   "source": [
    "data.head(3)\n"
   ]
  },
  {
   "cell_type": "code",
   "execution_count": 14,
   "id": "f57640e4",
   "metadata": {
    "hidden": true
   },
   "outputs": [],
   "source": [
    "# Create DF of xyz values\n",
    "df = []\n",
    "xyz = []\n",
    "for file in file_names:\n",
    "    dir_path_train_dd = f\"../clean/{file}\"\n",
    "    if not file.endswith((\".jpg\", \".png\")):\n",
    "        pass\n",
    "    else:\n",
    "#         print(dir_path_train_dd)\n",
    "        image = tf.io.read_file(dir_path_train_dd)\n",
    "        image = tf.image.decode_jpeg(image)\n",
    "        input_image = tf.expand_dims(image, axis=0)\n",
    "        input_image = tf.image.resize_with_pad(input_image, input_size, input_size)\n",
    "        input_image = input_image[..., :3]\n",
    "\n",
    "        model = module.signatures[\"serving_default\"]\n",
    "        input_image = tf.cast(input_image, dtype=tf.int32)\n",
    "        outputs = model(input_image)\n",
    "        df.append(outputs[\"output_0\"].numpy().reshape(51).tolist())\n",
    "        xyz.append(outputs[\"output_0\"].numpy()[0][0])\n"
   ]
  },
  {
   "cell_type": "markdown",
   "id": "e6dbdfc8",
   "metadata": {},
   "source": [
    "## Angle Calculator"
   ]
  },
  {
   "cell_type": "code",
   "execution_count": 15,
   "id": "abff2100",
   "metadata": {},
   "outputs": [
    {
     "data": {
      "text/plain": [
       "array([[0.66960835, 0.35614344],\n",
       "       [0.67016566, 0.33723804],\n",
       "       [0.6718497 , 0.33988258],\n",
       "       [0.6360858 , 0.3092922 ],\n",
       "       [0.63745785, 0.31444016],\n",
       "       [0.5863172 , 0.33249542],\n",
       "       [0.5807426 , 0.331631  ],\n",
       "       [0.70875835, 0.27349722],\n",
       "       [0.69670475, 0.2676103 ],\n",
       "       [0.7763366 , 0.17736372],\n",
       "       [0.75954664, 0.1910256 ],\n",
       "       [0.40240893, 0.53494716],\n",
       "       [0.40276784, 0.5312333 ],\n",
       "       [0.56703186, 0.63760805],\n",
       "       [0.57365006, 0.6361872 ],\n",
       "       [0.7234893 , 0.7441256 ],\n",
       "       [0.7093338 , 0.7298353 ]], dtype=float32)"
      ]
     },
     "execution_count": 15,
     "metadata": {},
     "output_type": "execute_result"
    }
   ],
   "source": [
    "# Getting specific image out of xyz-coordinate file and transforming it to 2D (renamed to l for simplicity)\n",
    "\n",
    "image_landmarks = xyz[6][:, :-1]\n",
    "lm = image_landmarks\n",
    "lm\n"
   ]
  },
  {
   "cell_type": "code",
   "execution_count": 16,
   "id": "caf5412e",
   "metadata": {},
   "outputs": [],
   "source": [
    "# Used Keypoints in data (corresponding to row number)\n",
    "\n",
    "KEYPOINT_DICT = {\n",
    "    'nose': 0,\n",
    "    'left_eye': 1,\n",
    "    'right_eye': 2,\n",
    "    'left_ear': 3,\n",
    "    'right_ear': 4,\n",
    "    'left_shoulder': 5,\n",
    "    'right_shoulder': 6,\n",
    "    'left_elbow': 7,\n",
    "    'right_elbow': 8,\n",
    "    'left_wrist': 9,\n",
    "    'right_wrist': 10,\n",
    "    'left_hip': 11,\n",
    "    'right_hip': 12,\n",
    "    'left_knee': 13,\n",
    "    'right_knee': 14,\n",
    "    'left_ankle': 15,\n",
    "    'right_ankle': 16\n",
    "}\n"
   ]
  },
  {
   "cell_type": "code",
   "execution_count": 39,
   "id": "b573422d",
   "metadata": {},
   "outputs": [],
   "source": [
    "# Function for getting angles for single image input,\n",
    "# returns dict with angle name as key and list with only the values\n",
    "\n",
    "def angle_function(lm):\n",
    "\n",
    "    landmark_dict = {\n",
    "    'landmarks_left_elbow' : (lm[5], lm[7], lm[9]),\n",
    "    'landmarks_right_elbow' : (lm[6], lm[8], lm[10]),\n",
    "    'landmarks_left_shoulder' : (lm[7], lm[5], lm[11]),\n",
    "    'landmarks_right_shoulder' : (lm[8], lm[6], lm[12]),\n",
    "    'landmarks_hip_left' : (lm[5], lm[11], lm[13]),\n",
    "    'landmarks_hip_right' : (lm[6], lm[12], lm[14]),\n",
    "    'landmarks_left_knee' : (lm[11], lm[13], lm[15]),\n",
    "    'landmarks_right_knee' : (lm[12], lm[14], lm[16])\n",
    "        }\n",
    "    print (landmark_dict)\n",
    "    def angle_calculator(landmarks):\n",
    "\n",
    "        # Converting the points into numpy arrays\n",
    "        p1 = np.array(landmarks[0])\n",
    "        p2 = np.array(landmarks[1])\n",
    "        p3 = np.array(landmarks[2])\n",
    "        print(p1,p2,p3)\n",
    "        # Creating the Vectors between two points\n",
    "        vec_p1 = p1-p2\n",
    "        vec_p2 = p3-p2\n",
    "        print (vec_p1,vec_p2)\n",
    "        # Calculating the cosine of the angle\n",
    "        cosine_angle = np.dot(vec_p1,vec_p2) / (np.linalg.norm(vec_p1)*np.linalg.norm(vec_p2))\n",
    "\n",
    "        #clipping cosine angle\n",
    "        cosine_angle = np.clip(cosine_angle, -1, 1)\n",
    "        # Calculating angle\n",
    "        angle = np.arccos(cosine_angle)\n",
    "\n",
    "        # Calculating degrees\n",
    "        angle_degrees = np.degrees(angle)\n",
    "\n",
    "        return angle_degrees\n",
    "\n",
    "    angle_name_list = ['angle_elbow_left',\n",
    "                   'angle_elbow_right',\n",
    "                   'angle_shoulder_left',\n",
    "                   'angle_shoulder_right',\n",
    "                   'angle_hip_left',\n",
    "                   'angle_hip_right',\n",
    "                   'angle_knee_left',\n",
    "                   'angle_knee_right',\n",
    "                  ]\n",
    "\n",
    "    angle_dict = {}\n",
    "\n",
    "    for dictkey, listkey in zip(landmark_dict, angle_name_list):\n",
    "        i = angle_calculator(landmark_dict[dictkey])\n",
    "        angle_dict[listkey] = i\n",
    "\n",
    "    angle_list = [angle_dict[key] for key in angle_dict]\n",
    "\n",
    "    return angle_dict, angle_list\n"
   ]
  },
  {
   "cell_type": "code",
   "execution_count": 40,
   "metadata": {},
   "outputs": [
    {
     "name": "stdout",
     "output_type": "stream",
     "text": [
      "{'landmarks_left_elbow': (array([0.4432593 , 0.54984444], dtype=float32), array([0.4291618 , 0.62940717], dtype=float32), array([0.3685537 , 0.65625304], dtype=float32)), 'landmarks_right_elbow': (array([0.44181532, 0.44503877], dtype=float32), array([0.4343538, 0.3645373], dtype=float32), array([0.3765012 , 0.35011956], dtype=float32)), 'landmarks_left_shoulder': (array([0.4291618 , 0.62940717], dtype=float32), array([0.4432593 , 0.54984444], dtype=float32), array([0.6197113 , 0.52747464], dtype=float32)), 'landmarks_right_shoulder': (array([0.4343538, 0.3645373], dtype=float32), array([0.44181532, 0.44503877], dtype=float32), array([0.6196584, 0.4666146], dtype=float32)), 'landmarks_hip_left': (array([0.4432593 , 0.54984444], dtype=float32), array([0.6197113 , 0.52747464], dtype=float32), array([0.6398416 , 0.65718675], dtype=float32)), 'landmarks_hip_right': (array([0.44181532, 0.44503877], dtype=float32), array([0.6196584, 0.4666146], dtype=float32), array([0.6426125, 0.328991 ], dtype=float32)), 'landmarks_left_knee': (array([0.6197113 , 0.52747464], dtype=float32), array([0.6398416 , 0.65718675], dtype=float32), array([0.76167035, 0.66402024], dtype=float32)), 'landmarks_right_knee': (array([0.6196584, 0.4666146], dtype=float32), array([0.6426125, 0.328991 ], dtype=float32), array([0.7670605 , 0.31065577], dtype=float32))}\n",
      "[0.4432593  0.54984444] [0.4291618  0.62940717] [0.3685537  0.65625304]\n",
      "[ 0.01409751 -0.07956272] [-0.06060809  0.02684587]\n",
      "[0.44181532 0.44503877] [0.4343538 0.3645373] [0.3765012  0.35011956]\n",
      "[0.00746152 0.08050147] [-0.0578526  -0.01441774]\n",
      "[0.4291618  0.62940717] [0.4432593  0.54984444] [0.6197113  0.52747464]\n",
      "[-0.01409751  0.07956272] [ 0.17645198 -0.0223698 ]\n",
      "[0.4343538 0.3645373] [0.44181532 0.44503877] [0.6196584 0.4666146]\n",
      "[-0.00746152 -0.08050147] [0.1778431  0.02157584]\n",
      "[0.4432593  0.54984444] [0.6197113  0.52747464] [0.6398416  0.65718675]\n",
      "[-0.17645198  0.0223698 ] [0.02013034 0.1297121 ]\n",
      "[0.44181532 0.44503877] [0.6196584 0.4666146] [0.6426125 0.328991 ]\n",
      "[-0.1778431  -0.02157584] [ 0.02295411 -0.13762361]\n",
      "[0.6197113  0.52747464] [0.6398416  0.65718675] [0.76167035 0.66402024]\n",
      "[-0.02013034 -0.1297121 ] [0.12182873 0.00683349]\n",
      "[0.6196584 0.4666146] [0.6426125 0.328991 ] [0.7670605  0.31065577]\n",
      "[-0.02295411  0.13762361] [ 0.124448   -0.01833522]\n"
     ]
    },
    {
     "data": {
      "text/plain": [
       "({'angle_elbow_left': 123.93837576868602,\n",
       "  'angle_elbow_right': 109.289404233378,\n",
       "  'angle_shoulder_left': 107.27296770698257,\n",
       "  'angle_shoulder_right': 102.21279096024998,\n",
       "  'angle_hip_left': 91.59633667087346,\n",
       "  'angle_hip_right': 92.55185242877225,\n",
       "  'angle_knee_left': 102.03191198644711,\n",
       "  'angle_knee_right': 107.8503759236781},\n",
       " [123.93837576868602,\n",
       "  109.289404233378,\n",
       "  107.27296770698257,\n",
       "  102.21279096024998,\n",
       "  91.59633667087346,\n",
       "  92.55185242877225,\n",
       "  102.03191198644711,\n",
       "  107.8503759236781])"
      ]
     },
     "execution_count": 40,
     "metadata": {},
     "output_type": "execute_result"
    }
   ],
   "source": [
    "angle_function(test_pose)\n"
   ]
  },
  {
   "cell_type": "markdown",
   "id": "83cd18a3",
   "metadata": {},
   "source": [
    "## Angle Comparison Tool"
   ]
  },
  {
   "cell_type": "code",
   "execution_count": 17,
   "id": "8207d00f",
   "metadata": {},
   "outputs": [
    {
     "ename": "NameError",
     "evalue": "name 'angle_function' is not defined",
     "output_type": "error",
     "traceback": [
      "\u001b[0;31m---------------------------------------------------------------------------\u001b[0m",
      "\u001b[0;31mNameError\u001b[0m                                 Traceback (most recent call last)",
      "\u001b[1;32m/Users/lennartjanssen/code/lennijanssen/hathaproject/notebooks/Lennart.ipynb Cell 27\u001b[0m line \u001b[0;36m5\n\u001b[1;32m      <a href='vscode-notebook-cell:/Users/lennartjanssen/code/lennijanssen/hathaproject/notebooks/Lennart.ipynb#X35sZmlsZQ%3D%3D?line=2'>3</a>\u001b[0m lst \u001b[39m=\u001b[39m []\n\u001b[1;32m      <a href='vscode-notebook-cell:/Users/lennartjanssen/code/lennijanssen/hathaproject/notebooks/Lennart.ipynb#X35sZmlsZQ%3D%3D?line=3'>4</a>\u001b[0m \u001b[39mfor\u001b[39;00m x \u001b[39min\u001b[39;00m xyz:\n\u001b[0;32m----> <a href='vscode-notebook-cell:/Users/lennartjanssen/code/lennijanssen/hathaproject/notebooks/Lennart.ipynb#X35sZmlsZQ%3D%3D?line=4'>5</a>\u001b[0m     lst\u001b[39m.\u001b[39mappend(angle_function(x[:, :\u001b[39m-\u001b[39m\u001b[39m1\u001b[39m])[\u001b[39m1\u001b[39m])\n\u001b[1;32m      <a href='vscode-notebook-cell:/Users/lennartjanssen/code/lennijanssen/hathaproject/notebooks/Lennart.ipynb#X35sZmlsZQ%3D%3D?line=6'>7</a>\u001b[0m \u001b[39m# Dataframe for the list\u001b[39;00m\n\u001b[1;32m      <a href='vscode-notebook-cell:/Users/lennartjanssen/code/lennijanssen/hathaproject/notebooks/Lennart.ipynb#X35sZmlsZQ%3D%3D?line=7'>8</a>\u001b[0m df \u001b[39m=\u001b[39m pd\u001b[39m.\u001b[39mDataFrame(lst)\n",
      "\u001b[0;31mNameError\u001b[0m: name 'angle_function' is not defined"
     ]
    }
   ],
   "source": [
    "# This loop creates a list of lists with the angle value for each picture respectively\n",
    "\n",
    "lst = []\n",
    "for x in xyz:\n",
    "    lst.append(angle_function(x[:, :-1])[1])\n",
    "\n",
    "# Dataframe for the list\n",
    "df = pd.DataFrame(lst)\n"
   ]
  },
  {
   "cell_type": "code",
   "execution_count": 18,
   "id": "15914af6",
   "metadata": {},
   "outputs": [
    {
     "ename": "AttributeError",
     "evalue": "'list' object has no attribute 'columns'",
     "output_type": "error",
     "traceback": [
      "\u001b[0;31m---------------------------------------------------------------------------\u001b[0m",
      "\u001b[0;31mAttributeError\u001b[0m                            Traceback (most recent call last)",
      "\u001b[1;32m/Users/lennartjanssen/code/lennijanssen/hathaproject/notebooks/Lennart.ipynb Cell 28\u001b[0m line \u001b[0;36m1\n\u001b[1;32m      <a href='vscode-notebook-cell:/Users/lennartjanssen/code/lennijanssen/hathaproject/notebooks/Lennart.ipynb#X36sZmlsZQ%3D%3D?line=1'>2</a>\u001b[0m angle_name_list \u001b[39m=\u001b[39m [\u001b[39m'\u001b[39m\u001b[39mangle_elbow_left\u001b[39m\u001b[39m'\u001b[39m,\n\u001b[1;32m      <a href='vscode-notebook-cell:/Users/lennartjanssen/code/lennijanssen/hathaproject/notebooks/Lennart.ipynb#X36sZmlsZQ%3D%3D?line=2'>3</a>\u001b[0m                    \u001b[39m'\u001b[39m\u001b[39mangle_elbow_right\u001b[39m\u001b[39m'\u001b[39m,\n\u001b[1;32m      <a href='vscode-notebook-cell:/Users/lennartjanssen/code/lennijanssen/hathaproject/notebooks/Lennart.ipynb#X36sZmlsZQ%3D%3D?line=3'>4</a>\u001b[0m                    \u001b[39m'\u001b[39m\u001b[39mangle_shoulder_left\u001b[39m\u001b[39m'\u001b[39m,\n\u001b[0;32m   (...)\u001b[0m\n\u001b[1;32m      <a href='vscode-notebook-cell:/Users/lennartjanssen/code/lennijanssen/hathaproject/notebooks/Lennart.ipynb#X36sZmlsZQ%3D%3D?line=8'>9</a>\u001b[0m                    \u001b[39m'\u001b[39m\u001b[39mangle_knee_right\u001b[39m\u001b[39m'\u001b[39m,\n\u001b[1;32m     <a href='vscode-notebook-cell:/Users/lennartjanssen/code/lennijanssen/hathaproject/notebooks/Lennart.ipynb#X36sZmlsZQ%3D%3D?line=9'>10</a>\u001b[0m                   ]\n\u001b[1;32m     <a href='vscode-notebook-cell:/Users/lennartjanssen/code/lennijanssen/hathaproject/notebooks/Lennart.ipynb#X36sZmlsZQ%3D%3D?line=11'>12</a>\u001b[0m \u001b[39m# Adding the created column names\u001b[39;00m\n\u001b[0;32m---> <a href='vscode-notebook-cell:/Users/lennartjanssen/code/lennijanssen/hathaproject/notebooks/Lennart.ipynb#X36sZmlsZQ%3D%3D?line=12'>13</a>\u001b[0m df\u001b[39m.\u001b[39;49mcolumns \u001b[39m=\u001b[39m angle_name_list\n",
      "\u001b[0;31mAttributeError\u001b[0m: 'list' object has no attribute 'columns'"
     ]
    }
   ],
   "source": [
    "# Angle name list for the column names of the dataframe\n",
    "angle_name_list = ['angle_elbow_left',\n",
    "                   'angle_elbow_right',\n",
    "                   'angle_shoulder_left',\n",
    "                   'angle_shoulder_right',\n",
    "                   'angle_hip_left',\n",
    "                   'angle_hip_right',\n",
    "                   'angle_knee_left',\n",
    "                   'angle_knee_right',\n",
    "                  ]\n",
    "\n",
    "# Adding the created column names\n",
    "df.columns = angle_name_list\n"
   ]
  },
  {
   "cell_type": "code",
   "execution_count": 19,
   "id": "b7391cb0",
   "metadata": {},
   "outputs": [
    {
     "ename": "AttributeError",
     "evalue": "'list' object has no attribute 'set_index'",
     "output_type": "error",
     "traceback": [
      "\u001b[0;31m---------------------------------------------------------------------------\u001b[0m",
      "\u001b[0;31mAttributeError\u001b[0m                            Traceback (most recent call last)",
      "\u001b[1;32m/Users/lennartjanssen/code/lennijanssen/hathaproject/notebooks/Lennart.ipynb Cell 29\u001b[0m line \u001b[0;36m5\n\u001b[1;32m      <a href='vscode-notebook-cell:/Users/lennartjanssen/code/lennijanssen/hathaproject/notebooks/Lennart.ipynb#X40sZmlsZQ%3D%3D?line=1'>2</a>\u001b[0m index_image_names \u001b[39m=\u001b[39m pd\u001b[39m.\u001b[39mIndex(image_names)[\u001b[39m1\u001b[39m:]\n\u001b[1;32m      <a href='vscode-notebook-cell:/Users/lennartjanssen/code/lennijanssen/hathaproject/notebooks/Lennart.ipynb#X40sZmlsZQ%3D%3D?line=3'>4</a>\u001b[0m \u001b[39m# set index\u001b[39;00m\n\u001b[0;32m----> <a href='vscode-notebook-cell:/Users/lennartjanssen/code/lennijanssen/hathaproject/notebooks/Lennart.ipynb#X40sZmlsZQ%3D%3D?line=4'>5</a>\u001b[0m df\u001b[39m.\u001b[39;49mset_index(index_image_names, inplace\u001b[39m=\u001b[39m\u001b[39mTrue\u001b[39;00m)\n",
      "\u001b[0;31mAttributeError\u001b[0m: 'list' object has no attribute 'set_index'"
     ]
    }
   ],
   "source": [
    "# Getting image (path) names to name the indices\n",
    "index_image_names = pd.Index(image_names)[1:]\n",
    "\n",
    "# set index\n",
    "df.set_index(index_image_names, inplace=True)\n"
   ]
  },
  {
   "cell_type": "code",
   "execution_count": 215,
   "id": "2d477494",
   "metadata": {},
   "outputs": [
    {
     "data": {
      "text/html": [
       "<div>\n",
       "<style scoped>\n",
       "    .dataframe tbody tr th:only-of-type {\n",
       "        vertical-align: middle;\n",
       "    }\n",
       "\n",
       "    .dataframe tbody tr th {\n",
       "        vertical-align: top;\n",
       "    }\n",
       "\n",
       "    .dataframe thead th {\n",
       "        text-align: right;\n",
       "    }\n",
       "</style>\n",
       "<table border=\"1\" class=\"dataframe\">\n",
       "  <thead>\n",
       "    <tr style=\"text-align: right;\">\n",
       "      <th></th>\n",
       "      <th>angle_elbow_left</th>\n",
       "      <th>angle_elbow_right</th>\n",
       "      <th>angle_shoulder_left</th>\n",
       "      <th>angle_shoulder_right</th>\n",
       "      <th>angle_hip_left</th>\n",
       "      <th>angle_hip_right</th>\n",
       "      <th>angle_knee_left</th>\n",
       "      <th>angle_knee_right</th>\n",
       "    </tr>\n",
       "  </thead>\n",
       "  <tbody>\n",
       "    <tr>\n",
       "      <th>../clean/00000372.jpg</th>\n",
       "      <td>161.533622</td>\n",
       "      <td>167.843977</td>\n",
       "      <td>176.212090</td>\n",
       "      <td>179.972024</td>\n",
       "      <td>64.985133</td>\n",
       "      <td>65.501503</td>\n",
       "      <td>155.154463</td>\n",
       "      <td>154.631616</td>\n",
       "    </tr>\n",
       "    <tr>\n",
       "      <th>../clean/00000414.jpg</th>\n",
       "      <td>156.647111</td>\n",
       "      <td>161.688982</td>\n",
       "      <td>172.806634</td>\n",
       "      <td>170.628852</td>\n",
       "      <td>76.427716</td>\n",
       "      <td>76.186424</td>\n",
       "      <td>178.631264</td>\n",
       "      <td>177.908468</td>\n",
       "    </tr>\n",
       "    <tr>\n",
       "      <th>../clean/00000158.jpg</th>\n",
       "      <td>163.160640</td>\n",
       "      <td>168.443158</td>\n",
       "      <td>163.976623</td>\n",
       "      <td>173.624648</td>\n",
       "      <td>83.535028</td>\n",
       "      <td>79.592601</td>\n",
       "      <td>174.322075</td>\n",
       "      <td>172.935975</td>\n",
       "    </tr>\n",
       "    <tr>\n",
       "      <th>../clean/00000164.jpg</th>\n",
       "      <td>159.131123</td>\n",
       "      <td>162.453301</td>\n",
       "      <td>175.071327</td>\n",
       "      <td>176.938227</td>\n",
       "      <td>67.050041</td>\n",
       "      <td>66.100435</td>\n",
       "      <td>170.020585</td>\n",
       "      <td>173.788581</td>\n",
       "    </tr>\n",
       "    <tr>\n",
       "      <th>../clean/00000170.jpg</th>\n",
       "      <td>161.461897</td>\n",
       "      <td>159.272757</td>\n",
       "      <td>178.728352</td>\n",
       "      <td>179.944047</td>\n",
       "      <td>63.241979</td>\n",
       "      <td>62.176024</td>\n",
       "      <td>172.617380</td>\n",
       "      <td>170.075123</td>\n",
       "    </tr>\n",
       "  </tbody>\n",
       "</table>\n",
       "</div>"
      ],
      "text/plain": [
       "                       angle_elbow_left  angle_elbow_right  \\\n",
       "../clean/00000372.jpg        161.533622         167.843977   \n",
       "../clean/00000414.jpg        156.647111         161.688982   \n",
       "../clean/00000158.jpg        163.160640         168.443158   \n",
       "../clean/00000164.jpg        159.131123         162.453301   \n",
       "../clean/00000170.jpg        161.461897         159.272757   \n",
       "\n",
       "                       angle_shoulder_left  angle_shoulder_right  \\\n",
       "../clean/00000372.jpg           176.212090            179.972024   \n",
       "../clean/00000414.jpg           172.806634            170.628852   \n",
       "../clean/00000158.jpg           163.976623            173.624648   \n",
       "../clean/00000164.jpg           175.071327            176.938227   \n",
       "../clean/00000170.jpg           178.728352            179.944047   \n",
       "\n",
       "                       angle_hip_left  angle_hip_right  angle_knee_left  \\\n",
       "../clean/00000372.jpg       64.985133        65.501503       155.154463   \n",
       "../clean/00000414.jpg       76.427716        76.186424       178.631264   \n",
       "../clean/00000158.jpg       83.535028        79.592601       174.322075   \n",
       "../clean/00000164.jpg       67.050041        66.100435       170.020585   \n",
       "../clean/00000170.jpg       63.241979        62.176024       172.617380   \n",
       "\n",
       "                       angle_knee_right  \n",
       "../clean/00000372.jpg        154.631616  \n",
       "../clean/00000414.jpg        177.908468  \n",
       "../clean/00000158.jpg        172.935975  \n",
       "../clean/00000164.jpg        173.788581  \n",
       "../clean/00000170.jpg        170.075123  "
      ]
     },
     "execution_count": 215,
     "metadata": {},
     "output_type": "execute_result"
    }
   ],
   "source": [
    "df.head(5)\n"
   ]
  },
  {
   "cell_type": "code",
   "execution_count": 48,
   "id": "d33c2b91",
   "metadata": {},
   "outputs": [],
   "source": [
    "# df.to_csv('/Users/lennartjanssen/code/lennijanssen/angles_test')\n"
   ]
  },
  {
   "cell_type": "markdown",
   "id": "81c5b427",
   "metadata": {},
   "source": [
    "## Angle Error & Score"
   ]
  },
  {
   "cell_type": "code",
   "execution_count": 52,
   "id": "87c34e31",
   "metadata": {},
   "outputs": [],
   "source": [
    "#Finding values for the best pose\n",
    "\n",
    "# Choose image file and preprocess\n",
    "\n",
    "image_path = \"../clean/00000144.jpg\"\n",
    "image = tf.io.read_file(image_path)\n",
    "image = tf.image.decode_jpeg(image)\n",
    "\n",
    "# Resize and pad the image to keep the aspect ratio and fit the expected size.\n",
    "input_image = tf.expand_dims(image, axis=0)\n",
    "input_image = tf.image.resize_with_pad(input_image, input_size, input_size)\n",
    "\n",
    "\n",
    "# Detect landmarks on image\n",
    "model = module.signatures[\"serving_default\"]\n",
    "input_image = tf.cast(input_image, dtype=tf.int32)\n",
    "input_image = input_image[..., :3]\n",
    "outputs = model(input_image)\n",
    "\n",
    "# 1D array of xyz coordinates. X1, Y1, Z1, X2, ... , Yn, Zn format\n",
    "best_pose = outputs[\"output_0\"].numpy()[:, :, :, :-1][0][0]\n"
   ]
  },
  {
   "cell_type": "code",
   "execution_count": 53,
   "id": "7426a281",
   "metadata": {},
   "outputs": [],
   "source": [
    "#Finding values for the test pose\n",
    "\n",
    "# Choose image file and preprocess\n",
    "\n",
    "image_path = \"../mika_poses/87f61309-0e27-4508-affa-11b83f4f1b67.jpg\"\n",
    "image = tf.io.read_file(image_path)\n",
    "image = tf.image.decode_jpeg(image)\n",
    "\n",
    "# Resize and pad the image to keep the aspect ratio and fit the expected size.\n",
    "input_image = tf.expand_dims(image, axis=0)\n",
    "input_image = tf.image.resize_with_pad(input_image, input_size, input_size)\n",
    "\n",
    "\n",
    "# Detect landmarks on image\n",
    "model = module.signatures[\"serving_default\"]\n",
    "input_image = tf.cast(input_image, dtype=tf.int32)\n",
    "input_image = input_image[..., :3]\n",
    "outputs = model(input_image)\n",
    "\n",
    "# 1D array of xyz coordinates. X1, Y1, Z1, X2, ... , Yn, Zn format\n",
    "test_pose = outputs[\"output_0\"].numpy()[:, :, :, :-1][0][0]\n"
   ]
  },
  {
   "cell_type": "code",
   "execution_count": 46,
   "id": "edfd2232",
   "metadata": {},
   "outputs": [
    {
     "data": {
      "text/plain": [
       "array([[0.38618642, 0.5001651 ],\n",
       "       [0.37802157, 0.51019275],\n",
       "       [0.3773265 , 0.48961085],\n",
       "       [0.3910056 , 0.52356184],\n",
       "       [0.39103925, 0.4748915 ],\n",
       "       [0.4432593 , 0.54984444],\n",
       "       [0.44181532, 0.44503877],\n",
       "       [0.4291618 , 0.62940717],\n",
       "       [0.4343538 , 0.3645373 ],\n",
       "       [0.3685537 , 0.65625304],\n",
       "       [0.3765012 , 0.35011956],\n",
       "       [0.6197113 , 0.52747464],\n",
       "       [0.6196584 , 0.4666146 ],\n",
       "       [0.6398416 , 0.65718675],\n",
       "       [0.6426125 , 0.328991  ],\n",
       "       [0.76167035, 0.66402024],\n",
       "       [0.7670605 , 0.31065577]], dtype=float32)"
      ]
     },
     "execution_count": 46,
     "metadata": {},
     "output_type": "execute_result"
    }
   ],
   "source": [
    "test_pose\n"
   ]
  },
  {
   "cell_type": "code",
   "execution_count": 34,
   "id": "af02ba88",
   "metadata": {},
   "outputs": [],
   "source": [
    "from operator import truediv\n",
    "\n",
    "def angle_comparer(test, best):\n",
    "\n",
    "    # get angles for each pose\n",
    "    best_pose_angles = angle_function(best)[1]\n",
    "    test_pose_angles = angle_function(test)[1]\n",
    "\n",
    "    # find differences between each by substraction\n",
    "    angle_substraction = [a - b for a, b in zip(best_pose_angles, test_pose_angles)]\n",
    "\n",
    "    # change values to absolute values\n",
    "    angle_difference = list(map(abs, angle_substraction))\n",
    "\n",
    "    # find percentages for each pose\n",
    "    test_angle_percentage = list(map(truediv, test_pose_angles, best_pose_angles))\n",
    "\n",
    "    # find absolute difference by percentage\n",
    "    test_angle_percentage_diff = [round(abs(x-1),2) for x in test_angle_percentage]\n",
    "\n",
    "    # find average percentage difference\n",
    "    average_percentage_diff = round(sum(test_angle_percentage_diff)/len(test_angle_percentage_diff),2)\n",
    "\n",
    "\n",
    "    return test_angle_percentage_diff, average_percentage_diff\n"
   ]
  },
  {
   "cell_type": "code",
   "execution_count": 44,
   "metadata": {},
   "outputs": [
    {
     "data": {
      "text/plain": [
       "array([[[[0.38598356, 0.49753022, 0.6072763 ],\n",
       "         [0.37798187, 0.5069721 , 0.56672657],\n",
       "         [0.3781268 , 0.48525882, 0.47344404],\n",
       "         [0.39216703, 0.52232057, 0.5818483 ],\n",
       "         [0.3929512 , 0.47008514, 0.7714728 ],\n",
       "         [0.4459523 , 0.55220366, 0.66690886],\n",
       "         [0.44657677, 0.44743463, 0.7753733 ],\n",
       "         [0.42848107, 0.6321182 , 0.74485385],\n",
       "         [0.4307708 , 0.36147892, 0.70483917],\n",
       "         [0.36523855, 0.6564479 , 0.4787657 ],\n",
       "         [0.3680428 , 0.34933776, 0.32970506],\n",
       "         [0.62294626, 0.5297642 , 0.62674755],\n",
       "         [0.62323534, 0.46477315, 0.7083429 ],\n",
       "         [0.6395048 , 0.6570128 , 0.7874033 ],\n",
       "         [0.6434806 , 0.33077243, 0.7329977 ],\n",
       "         [0.7599611 , 0.6639534 , 0.6847806 ],\n",
       "         [0.767637  , 0.31096762, 0.7782027 ]]]], dtype=float32)"
      ]
     },
     "execution_count": 44,
     "metadata": {},
     "output_type": "execute_result"
    }
   ],
   "source": [
    "xyz_individual\n"
   ]
  },
  {
   "cell_type": "code",
   "execution_count": 48,
   "id": "81113a00",
   "metadata": {},
   "outputs": [
    {
     "data": {
      "text/plain": [
       "([0.0, 0.0, 0.0, 0.0, 0.0, 0.0, 0.0, 0.0], 0.0)"
      ]
     },
     "execution_count": 48,
     "metadata": {},
     "output_type": "execute_result"
    }
   ],
   "source": [
    "angle_comparer(xyz_individual[0][0],xyz_individual[0][0])\n"
   ]
  },
  {
   "cell_type": "code",
   "execution_count": null,
   "id": "760320a5",
   "metadata": {},
   "outputs": [],
   "source": []
  },
  {
   "cell_type": "code",
   "execution_count": null,
   "id": "7d87f063",
   "metadata": {},
   "outputs": [],
   "source": []
  },
  {
   "cell_type": "code",
   "execution_count": 50,
   "id": "53004ffd",
   "metadata": {},
   "outputs": [
    {
     "ename": "SyntaxError",
     "evalue": "invalid syntax. Perhaps you forgot a comma? (3644951125.py, line 1)",
     "output_type": "error",
     "traceback": [
      "\u001b[0;36m  Cell \u001b[0;32mIn [50], line 1\u001b[0;36m\u001b[0m\n\u001b[0;31m    c = [[[[0.64837456 0.5342141  0.6274136 ]\u001b[0m\n\u001b[0m            ^\u001b[0m\n\u001b[0;31mSyntaxError\u001b[0m\u001b[0;31m:\u001b[0m invalid syntax. Perhaps you forgot a comma?\n"
     ]
    }
   ],
   "source": [
    "c = [[[[0.64837456 0.5342141  0.6274136 ]\n",
    "   [0.5953814  0.5793327  0.810975  ]\n",
    "   [0.59395033 0.4837774  0.7779271 ]\n",
    "   [0.62343025 0.63051575 0.5011229 ]\n",
    "   [0.6252846  0.4196639  0.61263466]\n",
    "   [0.8040175  0.79117095 0.59511864]\n",
    "   [0.8403652  0.29704118 0.70782924]\n",
    "   [0.9360502  0.8255879  0.01523436]\n",
    "   [0.9486384  0.20740595 0.02684249]\n",
    "   [0.85183907 0.6181905  0.04781246]\n",
    "   [0.8531863  0.49002466 0.23143597]\n",
    "   [1.0234479  0.7635077  0.00564644]\n",
    "   [1.0228661  0.3304726  0.00500536]\n",
    "   [0.8924433  0.9591879  0.02035429]\n",
    "   [0.85795826 0.23249047 0.04497717]\n",
    "   [0.8537795  0.750729   0.00219135]\n",
    "   [0.77421063 0.4712658  0.00999798]]]]\n"
   ]
  },
  {
   "cell_type": "code",
   "execution_count": 48,
   "metadata": {},
   "outputs": [
    {
     "ename": "NameError",
     "evalue": "name 'c' is not defined",
     "output_type": "error",
     "traceback": [
      "\u001b[0;31m---------------------------------------------------------------------------\u001b[0m",
      "\u001b[0;31mNameError\u001b[0m                                 Traceback (most recent call last)",
      "\u001b[1;32m/Users/lennartjanssen/code/lennijanssen/hathaproject/notebooks/Lennart.ipynb Cell 42\u001b[0m line \u001b[0;36m1\n\u001b[0;32m----> <a href='vscode-notebook-cell:/Users/lennartjanssen/code/lennijanssen/hathaproject/notebooks/Lennart.ipynb#X56sZmlsZQ%3D%3D?line=0'>1</a>\u001b[0m c\n",
      "\u001b[0;31mNameError\u001b[0m: name 'c' is not defined"
     ]
    }
   ],
   "source": [
    "c\n"
   ]
  },
  {
   "cell_type": "code",
   "execution_count": null,
   "metadata": {},
   "outputs": [],
   "source": []
  },
  {
   "cell_type": "code",
   "execution_count": null,
   "metadata": {},
   "outputs": [],
   "source": []
  }
 ],
 "metadata": {
  "kernelspec": {
   "display_name": "Python 3 (ipykernel)",
   "language": "python",
   "name": "python3"
  },
  "language_info": {
   "codemirror_mode": {
    "name": "ipython",
    "version": 3
   },
   "file_extension": ".py",
   "mimetype": "text/x-python",
   "name": "python",
   "nbconvert_exporter": "python",
   "pygments_lexer": "ipython3",
   "version": "3.10.6"
  },
  "toc": {
   "base_numbering": 1,
   "nav_menu": {},
   "number_sections": true,
   "sideBar": true,
   "skip_h1_title": false,
   "title_cell": "Table of Contents",
   "title_sidebar": "Contents",
   "toc_cell": false,
   "toc_position": {},
   "toc_section_display": true,
   "toc_window_display": false
  }
 },
 "nbformat": 4,
 "nbformat_minor": 5
}
