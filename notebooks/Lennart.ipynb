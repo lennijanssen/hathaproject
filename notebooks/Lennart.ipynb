{
 "cells": [
  {
   "cell_type": "markdown",
   "id": "f7649d29-cd6c-4428-9d53-cf7822e1b1ae",
   "metadata": {},
   "source": [
    "# Dense Neural Network (NN) Exploration"
   ]
  },
  {
   "cell_type": "markdown",
   "id": "b078a245",
   "metadata": {},
   "source": [
    "In this notebook, we will lay out our approach for a NN approach to predict a pose based on landmark."
   ]
  },
  {
   "cell_type": "code",
   "execution_count": 1,
   "id": "be388f9c",
   "metadata": {},
   "outputs": [],
   "source": [
    "import numpy as np"
   ]
  },
  {
   "cell_type": "code",
   "execution_count": 16,
   "id": "abff2100",
   "metadata": {},
   "outputs": [],
   "source": [
    "array = ([[[[0.58768964, 0.36290908, 0.603793  ],\n",
    "         [0.5932051 , 0.3443019 , 0.60789067],\n",
    "         [0.59303284, 0.3484372 , 0.7001313 ],\n",
    "         [0.5522757 , 0.31307817, 0.5474181 ],\n",
    "         [0.5549346 , 0.3191042 , 0.6794196 ],\n",
    "         [0.48681545, 0.34274042, 0.74582547],\n",
    "         [0.48455274, 0.3486129 , 0.67955416],\n",
    "         [0.5900916 , 0.23778538, 0.67808187],\n",
    "         [0.56829524, 0.23839937, 0.7717802 ],\n",
    "         [0.6503178 , 0.11018609, 0.67483616],\n",
    "         [0.6161561 , 0.14426906, 0.4420369 ],\n",
    "         [0.29321983, 0.5450648 , 0.844166  ],\n",
    "         [0.30226567, 0.54754007, 0.8217478 ],\n",
    "         [0.45619473, 0.6819893 , 0.5754474 ],\n",
    "         [0.46339905, 0.66756546, 0.7072478 ],\n",
    "         [0.59998393, 0.8396907 , 0.6530191 ],\n",
    "         [0.5962424 , 0.7989042 , 0.7743349 ]]]])\n",
    "lm = array[0][0]"
   ]
  },
  {
   "cell_type": "code",
   "execution_count": 17,
   "id": "23188749",
   "metadata": {},
   "outputs": [
    {
     "data": {
      "text/plain": [
       "[[0.58768964, 0.36290908, 0.603793],\n",
       " [0.5932051, 0.3443019, 0.60789067],\n",
       " [0.59303284, 0.3484372, 0.7001313],\n",
       " [0.5522757, 0.31307817, 0.5474181],\n",
       " [0.5549346, 0.3191042, 0.6794196],\n",
       " [0.48681545, 0.34274042, 0.74582547],\n",
       " [0.48455274, 0.3486129, 0.67955416],\n",
       " [0.5900916, 0.23778538, 0.67808187],\n",
       " [0.56829524, 0.23839937, 0.7717802],\n",
       " [0.6503178, 0.11018609, 0.67483616],\n",
       " [0.6161561, 0.14426906, 0.4420369],\n",
       " [0.29321983, 0.5450648, 0.844166],\n",
       " [0.30226567, 0.54754007, 0.8217478],\n",
       " [0.45619473, 0.6819893, 0.5754474],\n",
       " [0.46339905, 0.66756546, 0.7072478],\n",
       " [0.59998393, 0.8396907, 0.6530191],\n",
       " [0.5962424, 0.7989042, 0.7743349]]"
      ]
     },
     "execution_count": 17,
     "metadata": {},
     "output_type": "execute_result"
    }
   ],
   "source": [
    "lm"
   ]
  },
  {
   "cell_type": "code",
   "execution_count": 18,
   "id": "9b37246c",
   "metadata": {},
   "outputs": [
    {
     "data": {
      "text/plain": [
       "0.36290908"
      ]
     },
     "execution_count": 18,
     "metadata": {},
     "output_type": "execute_result"
    }
   ],
   "source": [
    "lm[0][1]"
   ]
  },
  {
   "cell_type": "code",
   "execution_count": null,
   "id": "caf5412e",
   "metadata": {},
   "outputs": [],
   "source": [
    "KEYPOINT_DICT = {\n",
    "    ‘nose’: 0,\n",
    "    ‘left_eye’: 1,\n",
    "    ‘right_eye’: 2,\n",
    "    ‘left_ear’: 3,\n",
    "    ‘right_ear’: 4,\n",
    "    ‘left_shoulder’: 5,\n",
    "    ‘right_shoulder’: 6,\n",
    "    ‘left_elbow’: 7,\n",
    "    ‘right_elbow’: 8,\n",
    "    ‘left_wrist’: 9,\n",
    "    ‘right_wrist’: 10,\n",
    "    ‘left_hip’: 11,\n",
    "    ‘right_hip’: 12,\n",
    "    ‘left_knee’: 13,\n",
    "    ‘right_knee’: 14,\n",
    "    ‘left_ankle’: 15,\n",
    "    ‘right_ankle’: 16\n",
    "}"
   ]
  },
  {
   "cell_type": "code",
   "execution_count": 30,
   "id": "675555ef",
   "metadata": {},
   "outputs": [
    {
     "data": {
      "text/plain": [
       "[0.58768964, 0.36290908, 0.603793]"
      ]
     },
     "execution_count": 30,
     "metadata": {},
     "output_type": "execute_result"
    }
   ],
   "source": [
    "lm[0]"
   ]
  },
  {
   "cell_type": "code",
   "execution_count": 54,
   "id": "01607d49",
   "metadata": {},
   "outputs": [],
   "source": [
    "landmark_dict = {\n",
    "    'landmarks_left_elbow' : (lm[5], lm[7], lm[9]),\n",
    "    'landmarks_right_elbow' : (lm[6], lm[8], lm[10]),\n",
    "    'landmarks_left_shoulder' : (lm[7], lm[9], lm[11]),\n",
    "    'landmarks_right_shoulder' : (lm[8], lm[10], lm[12]),\n",
    "    'landmarks_hip_left' : (lm[5], lm[11], lm[13]),\n",
    "    'landmarks_hip_right' : (lm[6], lm[12], lm[14]),\n",
    "    'landmarks_left_knee' : (lm[11], lm[13], lm[15]),\n",
    "    'landmarks_right_knee' : (lm[12], lm[14], lm[16])\n",
    "        }"
   ]
  },
  {
   "cell_type": "code",
   "execution_count": 56,
   "id": "b573422d",
   "metadata": {},
   "outputs": [],
   "source": [
    "def angle_calculator(landmarks):\n",
    "    \n",
    "    # Converting the points into numpy arrays\n",
    "    p1 = np.array(landmarks[0])\n",
    "    p2 = np.array(landmarks[1])\n",
    "    p3 = np.array(landmarks[2])\n",
    "    \n",
    "    # Creating the Vectors between two points\n",
    "    vec_p1 = p1-p2\n",
    "    vec_p2 = p3-p2\n",
    "    \n",
    "    # Calculating the cosine of the angle\n",
    "    cosine_angle = np.dot(vec_p1,vec_p2) / (np.linalg.norm(vec_p1)*np.linalg.norm(vec_p2))\n",
    "    \n",
    "    # Calculating angle\n",
    "    angle = np.arccos(cosine_angle)\n",
    "    \n",
    "    # Calculating degrees\n",
    "    angle_degrees = np.degrees(angle)\n",
    "    \n",
    "    return angle_degrees\n",
    "    \n",
    "    \n",
    "    "
   ]
  },
  {
   "cell_type": "code",
   "execution_count": 57,
   "id": "4169293e",
   "metadata": {},
   "outputs": [
    {
     "data": {
      "text/plain": [
       "150.10594644117597"
      ]
     },
     "execution_count": 57,
     "metadata": {},
     "output_type": "execute_result"
    }
   ],
   "source": [
    "angle_left_elbow = angle_calculator(landmark_dict['landmarks_left_elbow'])\n",
    "angle_left_elbow"
   ]
  },
  {
   "cell_type": "code",
   "execution_count": 58,
   "id": "01bce7ab",
   "metadata": {},
   "outputs": [],
   "source": [
    "angle_name_list = ['angle_elbow_left',\n",
    "                   'angle_elbow_right',\n",
    "                   'angle_shoulder_left',\n",
    "                   'angle_shoulder_right',\n",
    "                   'angle_hip_left',\n",
    "                   'angle_hip_right',\n",
    "                   'angle_knee_left',\n",
    "                   'angle_knee_right',\n",
    "                  ]"
   ]
  },
  {
   "cell_type": "code",
   "execution_count": 61,
   "id": "d971538c",
   "metadata": {},
   "outputs": [],
   "source": [
    "angle_dict = {}"
   ]
  },
  {
   "cell_type": "code",
   "execution_count": 62,
   "id": "ca53d37c",
   "metadata": {},
   "outputs": [],
   "source": [
    "for dictkey, listkey in zip(landmark_dict, angle_name_list):\n",
    "    i = angle_calculator(landmark_dict[dictkey])\n",
    "    angle_dict[listkey] = i"
   ]
  },
  {
   "cell_type": "code",
   "execution_count": 63,
   "id": "d317a464",
   "metadata": {},
   "outputs": [
    {
     "data": {
      "text/plain": [
       "{'angle_elbow_left': 150.10594644117597,\n",
       " 'angle_elbow_right': 73.83993477914649,\n",
       " 'angle_shoulder_left': 20.769064686404477,\n",
       " 'angle_shoulder_right': 36.064848022681005,\n",
       " 'angle_hip_left': 72.6893113496775,\n",
       " 'angle_hip_right': 72.01545656467914,\n",
       " 'angle_knee_left': 108.09862487255467,\n",
       " 'angle_knee_right': 129.9717250242498}"
      ]
     },
     "execution_count": 63,
     "metadata": {},
     "output_type": "execute_result"
    }
   ],
   "source": [
    "angle_dict"
   ]
  },
  {
   "cell_type": "markdown",
   "id": "6edbced8",
   "metadata": {},
   "source": [
    "These are the angles we need!"
   ]
  },
  {
   "cell_type": "code",
   "execution_count": 64,
   "id": "753d5e44",
   "metadata": {},
   "outputs": [],
   "source": [
    "angle_list = [angle_dict[key] for key in angle_dict]"
   ]
  },
  {
   "cell_type": "code",
   "execution_count": 65,
   "id": "48ce336d",
   "metadata": {},
   "outputs": [
    {
     "data": {
      "text/plain": [
       "[150.10594644117597,\n",
       " 73.83993477914649,\n",
       " 20.769064686404477,\n",
       " 36.064848022681005,\n",
       " 72.6893113496775,\n",
       " 72.01545656467914,\n",
       " 108.09862487255467,\n",
       " 129.9717250242498]"
      ]
     },
     "execution_count": 65,
     "metadata": {},
     "output_type": "execute_result"
    }
   ],
   "source": [
    "angle_list"
   ]
  },
  {
   "cell_type": "code",
   "execution_count": null,
   "id": "90f1b7b6",
   "metadata": {},
   "outputs": [],
   "source": []
  }
 ],
 "metadata": {
  "kernelspec": {
   "display_name": "Python 3 (ipykernel)",
   "language": "python",
   "name": "python3"
  },
  "language_info": {
   "codemirror_mode": {
    "name": "ipython",
    "version": 3
   },
   "file_extension": ".py",
   "mimetype": "text/x-python",
   "name": "python",
   "nbconvert_exporter": "python",
   "pygments_lexer": "ipython3",
   "version": "3.10.6"
  },
  "toc": {
   "base_numbering": 1,
   "nav_menu": {},
   "number_sections": true,
   "sideBar": true,
   "skip_h1_title": false,
   "title_cell": "Table of Contents",
   "title_sidebar": "Contents",
   "toc_cell": false,
   "toc_position": {},
   "toc_section_display": true,
   "toc_window_display": false
  }
 },
 "nbformat": 4,
 "nbformat_minor": 5
}
