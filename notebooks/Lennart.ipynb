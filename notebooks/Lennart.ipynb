{
 "cells": [
  {
   "cell_type": "markdown",
   "id": "f7649d29-cd6c-4428-9d53-cf7822e1b1ae",
   "metadata": {},
   "source": [
    "# Angle Mechanisms"
   ]
  },
  {
   "cell_type": "markdown",
   "id": "b078a245",
   "metadata": {},
   "source": [
    "In this notebook, we will lay out our approach for a Neural Network approach to predict a pose based on landmark. Additionally, we are storing out angle calculation and perspectively our angle error calculation."
   ]
  },
  {
   "cell_type": "code",
   "execution_count": 1,
   "id": "be388f9c",
   "metadata": {},
   "outputs": [],
   "source": [
    "import numpy as np\n",
    "import pandas as pd"
   ]
  },
  {
   "cell_type": "markdown",
   "id": "603927da",
   "metadata": {},
   "source": [
    "## Getting the Data"
   ]
  },
  {
   "cell_type": "markdown",
   "id": "b22d7ad4",
   "metadata": {
    "heading_collapsed": true
   },
   "source": [
    "### Image upload and Preprocessing, single picture"
   ]
  },
  {
   "cell_type": "code",
   "execution_count": 186,
   "id": "c08f2909",
   "metadata": {
    "hidden": true
   },
   "outputs": [],
   "source": [
    "import tensorflow as tf\n",
    "import tensorflow_hub as hub\n",
    "from tensorflow_docs.vis import embed\n",
    "import numpy as np\n",
    "import cv2\n",
    "import os\n",
    "import pandas as pd\n",
    "\n",
    "# Import matplotlib libraries\n",
    "from matplotlib import pyplot as plt\n",
    "from matplotlib.collections import LineCollection\n",
    "import matplotlib.patches as patches\n",
    "\n",
    "# Some modules to display an animation using imageio.\n",
    "import imageio\n",
    "from IPython.display import HTML, display\n"
   ]
  },
  {
   "cell_type": "code",
   "execution_count": 187,
   "id": "15669a20",
   "metadata": {
    "hidden": true
   },
   "outputs": [],
   "source": [
    "# Model Initialization\n",
    "model_name = \"movenet_lightning\"\n",
    "module = hub.load(\"https://tfhub.dev/google/movenet/singlepose/lightning/4\")\n",
    "input_size = 192\n",
    "model = module.signatures['serving_default']"
   ]
  },
  {
   "cell_type": "code",
   "execution_count": 188,
   "id": "ba355726",
   "metadata": {
    "hidden": true
   },
   "outputs": [],
   "source": [
    "# Choose image file and preprocess\n",
    "\n",
    "image_path = \"../clean/00000134.jpg\"\n",
    "image = tf.io.read_file(image_path)\n",
    "image = tf.image.decode_jpeg(image)\n",
    "\n",
    "# Resize and pad the image to keep the aspect ratio and fit the expected size.\n",
    "input_image = tf.expand_dims(image, axis=0)\n",
    "input_image = tf.image.resize_with_pad(input_image, input_size, input_size)\n"
   ]
  },
  {
   "cell_type": "code",
   "execution_count": 191,
   "id": "6268b988",
   "metadata": {
    "hidden": true
   },
   "outputs": [],
   "source": [
    "# Detect landmarks on image\n",
    "model = module.signatures[\"serving_default\"]\n",
    "input_image = tf.cast(input_image, dtype=tf.int32)\n",
    "input_image = input_image[..., :3]\n",
    "outputs = model(input_image)\n",
    "\n",
    "# 1D array of xyz coordinates. X1, Y1, Z1, X2, ... , Yn, Zn format\n",
    "xyz_individual = outputs[\"output_0\"].numpy()\n"
   ]
  },
  {
   "cell_type": "markdown",
   "id": "6ba02b3e",
   "metadata": {
    "heading_collapsed": true
   },
   "source": [
    "### Drawing the Landmarks"
   ]
  },
  {
   "cell_type": "code",
   "execution_count": 192,
   "id": "0937c47a",
   "metadata": {
    "hidden": true
   },
   "outputs": [],
   "source": [
    "# Helper method for drawing landmarks\n",
    "def draw_prediction_on_image(\n",
    "    image, keypoints_with_scores, crop_region=None, close_figure=False,\n",
    "    output_image_height=None):\n",
    "  \"\"\"Draws the keypoint predictions on image.\n",
    "\n",
    "  Args:\n",
    "    image: A numpy array with shape [height, width, channel] representing the\n",
    "      pixel values of the input image.\n",
    "    keypoints_with_scores: A numpy array with shape [1, 1, 17, 3] representing\n",
    "      the keypoint coordinates and scores returned from the MoveNet model.\n",
    "    crop_region: A dictionary that defines the coordinates of the bounding box\n",
    "      of the crop region in normalized coordinates (see the init_crop_region\n",
    "      function below for more detail). If provided, this function will also\n",
    "      draw the bounding box on the image.\n",
    "    output_image_height: An integer indicating the height of the output image.\n",
    "      Note that the image aspect ratio will be the same as the input image.\n",
    "\n",
    "  Returns:\n",
    "    A numpy array with shape [out_height, out_width, channel] representing the\n",
    "    image overlaid with keypoint predictions.\n",
    "  \"\"\"\n",
    "  height, width, channel = image.shape\n",
    "  aspect_ratio = float(width) / height\n",
    "  fig, ax = plt.subplots(figsize=(12 * aspect_ratio, 12))\n",
    "  # To remove the huge white borders\n",
    "  fig.tight_layout(pad=0)\n",
    "  ax.margins(0)\n",
    "  ax.set_yticklabels([])\n",
    "  ax.set_xticklabels([])\n",
    "  plt.axis('off')\n",
    "\n",
    "  im = ax.imshow(image)\n",
    "  line_segments = LineCollection([], linewidths=(4), linestyle='solid')\n",
    "  ax.add_collection(line_segments)\n",
    "  # Turn off tick labels\n",
    "  scat = ax.scatter([], [], s=60, color='#FF1493', zorder=3)\n",
    "\n",
    "  (keypoint_locs, keypoint_edges,\n",
    "   edge_colors) = _keypoints_and_edges_for_display(\n",
    "       keypoints_with_scores, height, width)\n",
    "\n",
    "  line_segments.set_segments(keypoint_edges)\n",
    "  line_segments.set_color(edge_colors)\n",
    "  if keypoint_edges.shape[0]:\n",
    "    line_segments.set_segments(keypoint_edges)\n",
    "    line_segments.set_color(edge_colors)\n",
    "  if keypoint_locs.shape[0]:\n",
    "    scat.set_offsets(keypoint_locs)\n",
    "\n",
    "  if crop_region is not None:\n",
    "    xmin = max(crop_region['x_min'] * width, 0.0)\n",
    "    ymin = max(crop_region['y_min'] * height, 0.0)\n",
    "    rec_width = min(crop_region['x_max'], 0.99) * width - xmin\n",
    "    rec_height = min(crop_region['y_max'], 0.99) * height - ymin\n",
    "    rect = patches.Rectangle(\n",
    "        (xmin,ymin),rec_width,rec_height,\n",
    "        linewidth=1,edgecolor='b',facecolor='none')\n",
    "    ax.add_patch(rect)\n",
    "\n",
    "  fig.canvas.draw()\n",
    "  image_from_plot = np.frombuffer(fig.canvas.tostring_rgb(), dtype=np.uint8)\n",
    "  image_from_plot = image_from_plot.reshape(\n",
    "      fig.canvas.get_width_height()[::-1] + (3,))\n",
    "  plt.close(fig)\n",
    "  if output_image_height is not None:\n",
    "    output_image_width = int(output_image_height / height * width)\n",
    "    image_from_plot = cv2.resize(\n",
    "        image_from_plot, dsize=(output_image_width, output_image_height),\n",
    "         interpolation=cv2.INTER_CUBIC)\n",
    "  return image_from_plot"
   ]
  },
  {
   "cell_type": "markdown",
   "id": "e8c47a4c",
   "metadata": {
    "heading_collapsed": true
   },
   "source": [
    "### Uploading whole image folder "
   ]
  },
  {
   "cell_type": "code",
   "execution_count": 193,
   "id": "1ead7d84",
   "metadata": {
    "hidden": true
   },
   "outputs": [],
   "source": [
    "# Get list of image file names in given directory\n",
    "dir_path_train_dd = \"../clean\"\n",
    "file_names = []\n",
    "for entry in os.listdir(dir_path_train_dd):\n",
    "    file_names.append(entry)"
   ]
  },
  {
   "cell_type": "code",
   "execution_count": 194,
   "id": "1a0b3762",
   "metadata": {
    "hidden": true
   },
   "outputs": [],
   "source": [
    "# Create DF of xyz values\n",
    "df = []\n",
    "image_names = []\n",
    "\n",
    "for file in file_names:\n",
    "    image_names.append(dir_path_train_dd)\n",
    "    dir_path_train_dd = f\"../clean/{file}\"\n",
    "    if not file.endswith((\".jpg\", \".png\")):\n",
    "        pass\n",
    "    else:\n",
    "#       print(dir_path_train_dd)\n",
    "        image = tf.io.read_file(dir_path_train_dd)\n",
    "        image = tf.image.decode_jpeg(image)\n",
    "        input_image = tf.expand_dims(image, axis=0)\n",
    "        input_image = tf.image.resize_with_pad(input_image, input_size, input_size)\n",
    "        input_image = input_image[..., :3]\n",
    "\n",
    "        model = module.signatures[\"serving_default\"]\n",
    "        input_image = tf.cast(input_image, dtype=tf.int32)\n",
    "        outputs = model(input_image)\n",
    "        df.append(outputs[\"output_0\"].numpy().reshape(51).tolist())\n"
   ]
  },
  {
   "cell_type": "code",
   "execution_count": 195,
   "id": "81b696d1",
   "metadata": {
    "hidden": true
   },
   "outputs": [],
   "source": [
    "data = pd.DataFrame(df)"
   ]
  },
  {
   "cell_type": "code",
   "execution_count": 196,
   "id": "925620e7",
   "metadata": {
    "hidden": true
   },
   "outputs": [],
   "source": [
    "data[\"label\"] = \"downdog\""
   ]
  },
  {
   "cell_type": "code",
   "execution_count": 198,
   "id": "d6beb828",
   "metadata": {
    "hidden": true
   },
   "outputs": [
    {
     "data": {
      "text/html": [
       "<div>\n",
       "<style scoped>\n",
       "    .dataframe tbody tr th:only-of-type {\n",
       "        vertical-align: middle;\n",
       "    }\n",
       "\n",
       "    .dataframe tbody tr th {\n",
       "        vertical-align: top;\n",
       "    }\n",
       "\n",
       "    .dataframe thead th {\n",
       "        text-align: right;\n",
       "    }\n",
       "</style>\n",
       "<table border=\"1\" class=\"dataframe\">\n",
       "  <thead>\n",
       "    <tr style=\"text-align: right;\">\n",
       "      <th></th>\n",
       "      <th>0</th>\n",
       "      <th>1</th>\n",
       "      <th>2</th>\n",
       "      <th>3</th>\n",
       "      <th>4</th>\n",
       "      <th>5</th>\n",
       "      <th>6</th>\n",
       "      <th>7</th>\n",
       "      <th>8</th>\n",
       "      <th>9</th>\n",
       "      <th>...</th>\n",
       "      <th>42</th>\n",
       "      <th>43</th>\n",
       "      <th>44</th>\n",
       "      <th>45</th>\n",
       "      <th>46</th>\n",
       "      <th>47</th>\n",
       "      <th>48</th>\n",
       "      <th>49</th>\n",
       "      <th>50</th>\n",
       "      <th>label</th>\n",
       "    </tr>\n",
       "  </thead>\n",
       "  <tbody>\n",
       "    <tr>\n",
       "      <th>0</th>\n",
       "      <td>0.614686</td>\n",
       "      <td>0.366069</td>\n",
       "      <td>0.722570</td>\n",
       "      <td>0.612122</td>\n",
       "      <td>0.350986</td>\n",
       "      <td>0.643456</td>\n",
       "      <td>0.612995</td>\n",
       "      <td>0.350938</td>\n",
       "      <td>0.715975</td>\n",
       "      <td>0.563880</td>\n",
       "      <td>...</td>\n",
       "      <td>0.515043</td>\n",
       "      <td>0.705209</td>\n",
       "      <td>0.887617</td>\n",
       "      <td>0.685450</td>\n",
       "      <td>0.883067</td>\n",
       "      <td>0.797601</td>\n",
       "      <td>0.667293</td>\n",
       "      <td>0.864593</td>\n",
       "      <td>0.652384</td>\n",
       "      <td>downdog</td>\n",
       "    </tr>\n",
       "    <tr>\n",
       "      <th>1</th>\n",
       "      <td>0.534696</td>\n",
       "      <td>0.722514</td>\n",
       "      <td>0.564541</td>\n",
       "      <td>0.529799</td>\n",
       "      <td>0.733964</td>\n",
       "      <td>0.405342</td>\n",
       "      <td>0.526650</td>\n",
       "      <td>0.732507</td>\n",
       "      <td>0.399033</td>\n",
       "      <td>0.498358</td>\n",
       "      <td>...</td>\n",
       "      <td>0.471535</td>\n",
       "      <td>0.375810</td>\n",
       "      <td>0.738871</td>\n",
       "      <td>0.586280</td>\n",
       "      <td>0.311128</td>\n",
       "      <td>0.580621</td>\n",
       "      <td>0.628086</td>\n",
       "      <td>0.273356</td>\n",
       "      <td>0.892581</td>\n",
       "      <td>downdog</td>\n",
       "    </tr>\n",
       "    <tr>\n",
       "      <th>2</th>\n",
       "      <td>0.569520</td>\n",
       "      <td>0.529188</td>\n",
       "      <td>0.600391</td>\n",
       "      <td>0.572470</td>\n",
       "      <td>0.513902</td>\n",
       "      <td>0.517100</td>\n",
       "      <td>0.575602</td>\n",
       "      <td>0.515343</td>\n",
       "      <td>0.508116</td>\n",
       "      <td>0.547930</td>\n",
       "      <td>...</td>\n",
       "      <td>0.502984</td>\n",
       "      <td>0.773414</td>\n",
       "      <td>0.708213</td>\n",
       "      <td>0.674067</td>\n",
       "      <td>0.870783</td>\n",
       "      <td>0.614912</td>\n",
       "      <td>0.665915</td>\n",
       "      <td>0.863403</td>\n",
       "      <td>0.627864</td>\n",
       "      <td>downdog</td>\n",
       "    </tr>\n",
       "  </tbody>\n",
       "</table>\n",
       "<p>3 rows × 52 columns</p>\n",
       "</div>"
      ],
      "text/plain": [
       "          0         1         2         3         4         5         6  \\\n",
       "0  0.614686  0.366069  0.722570  0.612122  0.350986  0.643456  0.612995   \n",
       "1  0.534696  0.722514  0.564541  0.529799  0.733964  0.405342  0.526650   \n",
       "2  0.569520  0.529188  0.600391  0.572470  0.513902  0.517100  0.575602   \n",
       "\n",
       "          7         8         9  ...        42        43        44        45  \\\n",
       "0  0.350938  0.715975  0.563880  ...  0.515043  0.705209  0.887617  0.685450   \n",
       "1  0.732507  0.399033  0.498358  ...  0.471535  0.375810  0.738871  0.586280   \n",
       "2  0.515343  0.508116  0.547930  ...  0.502984  0.773414  0.708213  0.674067   \n",
       "\n",
       "         46        47        48        49        50    label  \n",
       "0  0.883067  0.797601  0.667293  0.864593  0.652384  downdog  \n",
       "1  0.311128  0.580621  0.628086  0.273356  0.892581  downdog  \n",
       "2  0.870783  0.614912  0.665915  0.863403  0.627864  downdog  \n",
       "\n",
       "[3 rows x 52 columns]"
      ]
     },
     "execution_count": 198,
     "metadata": {},
     "output_type": "execute_result"
    }
   ],
   "source": [
    "data.head(3)"
   ]
  },
  {
   "cell_type": "code",
   "execution_count": 200,
   "id": "f57640e4",
   "metadata": {
    "hidden": true
   },
   "outputs": [],
   "source": [
    "# Create DF of xyz values\n",
    "df = []\n",
    "xyz = []\n",
    "for file in file_names:\n",
    "    dir_path_train_dd = f\"../clean/{file}\"\n",
    "    if not file.endswith((\".jpg\", \".png\")):\n",
    "        pass\n",
    "    else:\n",
    "#         print(dir_path_train_dd)\n",
    "        image = tf.io.read_file(dir_path_train_dd)\n",
    "        image = tf.image.decode_jpeg(image)\n",
    "        input_image = tf.expand_dims(image, axis=0)\n",
    "        input_image = tf.image.resize_with_pad(input_image, input_size, input_size)\n",
    "        input_image = input_image[..., :3]\n",
    "\n",
    "        model = module.signatures[\"serving_default\"]\n",
    "        input_image = tf.cast(input_image, dtype=tf.int32)\n",
    "        outputs = model(input_image)\n",
    "        df.append(outputs[\"output_0\"].numpy().reshape(51).tolist())\n",
    "        xyz.append(outputs[\"output_0\"].numpy()[0][0])"
   ]
  },
  {
   "cell_type": "markdown",
   "id": "e6dbdfc8",
   "metadata": {},
   "source": [
    "## Angle Calculator"
   ]
  },
  {
   "cell_type": "code",
   "execution_count": 203,
   "id": "abff2100",
   "metadata": {},
   "outputs": [
    {
     "data": {
      "text/plain": [
       "array([[0.66960835, 0.35614344],\n",
       "       [0.67016554, 0.33723804],\n",
       "       [0.6718497 , 0.33988258],\n",
       "       [0.6360858 , 0.30929214],\n",
       "       [0.6374579 , 0.31444016],\n",
       "       [0.58631724, 0.3324954 ],\n",
       "       [0.58074266, 0.331631  ],\n",
       "       [0.70875835, 0.27349722],\n",
       "       [0.6967046 , 0.26761028],\n",
       "       [0.7763366 , 0.1773637 ],\n",
       "       [0.75954664, 0.19102556],\n",
       "       [0.40240896, 0.53494716],\n",
       "       [0.40276787, 0.5312333 ],\n",
       "       [0.56703186, 0.63760805],\n",
       "       [0.57365   , 0.6361871 ],\n",
       "       [0.7234893 , 0.7441256 ],\n",
       "       [0.7093338 , 0.7298353 ]], dtype=float32)"
      ]
     },
     "execution_count": 203,
     "metadata": {},
     "output_type": "execute_result"
    }
   ],
   "source": [
    "# Getting specific image out of xyz-coordinate file and transforming it to 2D (renamed to l for simplicity)\n",
    "\n",
    "image_landmarks = xyz[6][:, :-1]\n",
    "lm = image_landmarks\n",
    "lm"
   ]
  },
  {
   "cell_type": "code",
   "execution_count": 204,
   "id": "caf5412e",
   "metadata": {},
   "outputs": [],
   "source": [
    "# Used Keypoints in data (corresponding to row number)\n",
    "\n",
    "KEYPOINT_DICT = {\n",
    "    'nose': 0,\n",
    "    'left_eye': 1,\n",
    "    'right_eye': 2,\n",
    "    'left_ear': 3,\n",
    "    'right_ear': 4,\n",
    "    'left_shoulder': 5,\n",
    "    'right_shoulder': 6,\n",
    "    'left_elbow': 7,\n",
    "    'right_elbow': 8,\n",
    "    'left_wrist': 9,\n",
    "    'right_wrist': 10,\n",
    "    'left_hip': 11,\n",
    "    'right_hip': 12,\n",
    "    'left_knee': 13,\n",
    "    'right_knee': 14,\n",
    "    'left_ankle': 15,\n",
    "    'right_ankle': 16\n",
    "}"
   ]
  },
  {
   "cell_type": "code",
   "execution_count": 25,
   "id": "b573422d",
   "metadata": {},
   "outputs": [],
   "source": [
    "# Function for getting angles for single image input,\n",
    "# returns dict with angle name as key and list with only the values\n",
    "\n",
    "def angle_function(lm):\n",
    "    \n",
    "    landmark_dict = {\n",
    "    'landmarks_left_elbow' : (lm[5], lm[7], lm[9]),\n",
    "    'landmarks_right_elbow' : (lm[6], lm[8], lm[10]),\n",
    "    'landmarks_left_shoulder' : (lm[7], lm[5], lm[11]),\n",
    "    'landmarks_right_shoulder' : (lm[8], lm[6], lm[12]),\n",
    "    'landmarks_hip_left' : (lm[5], lm[11], lm[13]),\n",
    "    'landmarks_hip_right' : (lm[6], lm[12], lm[14]),\n",
    "    'landmarks_left_knee' : (lm[11], lm[13], lm[15]),\n",
    "    'landmarks_right_knee' : (lm[12], lm[14], lm[16])\n",
    "        }\n",
    "    \n",
    "    def angle_calculator(landmarks):\n",
    "\n",
    "        # Converting the points into numpy arrays\n",
    "        p1 = np.array(landmarks[0])\n",
    "        p2 = np.array(landmarks[1])\n",
    "        p3 = np.array(landmarks[2])\n",
    "\n",
    "        # Creating the Vectors between two points\n",
    "        vec_p1 = p1-p2\n",
    "        vec_p2 = p3-p2\n",
    "\n",
    "        # Calculating the cosine of the angle\n",
    "        cosine_angle = np.dot(vec_p1,vec_p2) / (np.linalg.norm(vec_p1)*np.linalg.norm(vec_p2))\n",
    "        \n",
    "        #clipping cosine angle\n",
    "        cosine_angle = np.clip(cosine_angle, -1, 1)\n",
    "        # Calculating angle\n",
    "        angle = np.arccos(cosine_angle)\n",
    "\n",
    "        # Calculating degrees\n",
    "        angle_degrees = np.degrees(angle)\n",
    "\n",
    "        return angle_degrees\n",
    "\n",
    "    angle_name_list = ['angle_elbow_left',\n",
    "                   'angle_elbow_right',\n",
    "                   'angle_shoulder_left',\n",
    "                   'angle_shoulder_right',\n",
    "                   'angle_hip_left',\n",
    "                   'angle_hip_right',\n",
    "                   'angle_knee_left',\n",
    "                   'angle_knee_right',\n",
    "                  ]\n",
    "\n",
    "    angle_dict = {}\n",
    "    \n",
    "    for dictkey, listkey in zip(landmark_dict, angle_name_list):\n",
    "        i = angle_calculator(landmark_dict[dictkey])\n",
    "        angle_dict[listkey] = i\n",
    "    \n",
    "    angle_list = [angle_dict[key] for key in angle_dict]\n",
    "    \n",
    "    return angle_dict, angle_list"
   ]
  },
  {
   "cell_type": "markdown",
   "id": "83cd18a3",
   "metadata": {},
   "source": [
    "## Angle Comparison Tool"
   ]
  },
  {
   "cell_type": "code",
   "execution_count": 209,
   "id": "8207d00f",
   "metadata": {},
   "outputs": [],
   "source": [
    "# This loop creates a list of lists with the angle value for each picture respectively\n",
    "\n",
    "lst = []\n",
    "for x in xyz:\n",
    "    lst.append(angle_function(x[:, :-1])[1])   \n",
    "\n",
    "# Dataframe for the list\n",
    "df = pd.DataFrame(lst)"
   ]
  },
  {
   "cell_type": "code",
   "execution_count": 210,
   "id": "15914af6",
   "metadata": {},
   "outputs": [],
   "source": [
    "# Angle name list for the column names of the dataframe\n",
    "angle_name_list = ['angle_elbow_left',\n",
    "                   'angle_elbow_right',\n",
    "                   'angle_shoulder_left',\n",
    "                   'angle_shoulder_right',\n",
    "                   'angle_hip_left',\n",
    "                   'angle_hip_right',\n",
    "                   'angle_knee_left',\n",
    "                   'angle_knee_right',\n",
    "                  ]\n",
    "\n",
    "# Adding the created column names\n",
    "df.columns = angle_name_list"
   ]
  },
  {
   "cell_type": "code",
   "execution_count": 211,
   "id": "b7391cb0",
   "metadata": {},
   "outputs": [],
   "source": [
    "# Getting image (path) names to name the indices\n",
    "index_image_names = pd.Index(image_names)[1:]\n",
    "\n",
    "# set index\n",
    "df.set_index(index_image_names, inplace=True)"
   ]
  },
  {
   "cell_type": "code",
   "execution_count": 215,
   "id": "2d477494",
   "metadata": {},
   "outputs": [
    {
     "data": {
      "text/html": [
       "<div>\n",
       "<style scoped>\n",
       "    .dataframe tbody tr th:only-of-type {\n",
       "        vertical-align: middle;\n",
       "    }\n",
       "\n",
       "    .dataframe tbody tr th {\n",
       "        vertical-align: top;\n",
       "    }\n",
       "\n",
       "    .dataframe thead th {\n",
       "        text-align: right;\n",
       "    }\n",
       "</style>\n",
       "<table border=\"1\" class=\"dataframe\">\n",
       "  <thead>\n",
       "    <tr style=\"text-align: right;\">\n",
       "      <th></th>\n",
       "      <th>angle_elbow_left</th>\n",
       "      <th>angle_elbow_right</th>\n",
       "      <th>angle_shoulder_left</th>\n",
       "      <th>angle_shoulder_right</th>\n",
       "      <th>angle_hip_left</th>\n",
       "      <th>angle_hip_right</th>\n",
       "      <th>angle_knee_left</th>\n",
       "      <th>angle_knee_right</th>\n",
       "    </tr>\n",
       "  </thead>\n",
       "  <tbody>\n",
       "    <tr>\n",
       "      <th>../clean/00000372.jpg</th>\n",
       "      <td>161.533622</td>\n",
       "      <td>167.843977</td>\n",
       "      <td>176.212090</td>\n",
       "      <td>179.972024</td>\n",
       "      <td>64.985133</td>\n",
       "      <td>65.501503</td>\n",
       "      <td>155.154463</td>\n",
       "      <td>154.631616</td>\n",
       "    </tr>\n",
       "    <tr>\n",
       "      <th>../clean/00000414.jpg</th>\n",
       "      <td>156.647111</td>\n",
       "      <td>161.688982</td>\n",
       "      <td>172.806634</td>\n",
       "      <td>170.628852</td>\n",
       "      <td>76.427716</td>\n",
       "      <td>76.186424</td>\n",
       "      <td>178.631264</td>\n",
       "      <td>177.908468</td>\n",
       "    </tr>\n",
       "    <tr>\n",
       "      <th>../clean/00000158.jpg</th>\n",
       "      <td>163.160640</td>\n",
       "      <td>168.443158</td>\n",
       "      <td>163.976623</td>\n",
       "      <td>173.624648</td>\n",
       "      <td>83.535028</td>\n",
       "      <td>79.592601</td>\n",
       "      <td>174.322075</td>\n",
       "      <td>172.935975</td>\n",
       "    </tr>\n",
       "    <tr>\n",
       "      <th>../clean/00000164.jpg</th>\n",
       "      <td>159.131123</td>\n",
       "      <td>162.453301</td>\n",
       "      <td>175.071327</td>\n",
       "      <td>176.938227</td>\n",
       "      <td>67.050041</td>\n",
       "      <td>66.100435</td>\n",
       "      <td>170.020585</td>\n",
       "      <td>173.788581</td>\n",
       "    </tr>\n",
       "    <tr>\n",
       "      <th>../clean/00000170.jpg</th>\n",
       "      <td>161.461897</td>\n",
       "      <td>159.272757</td>\n",
       "      <td>178.728352</td>\n",
       "      <td>179.944047</td>\n",
       "      <td>63.241979</td>\n",
       "      <td>62.176024</td>\n",
       "      <td>172.617380</td>\n",
       "      <td>170.075123</td>\n",
       "    </tr>\n",
       "  </tbody>\n",
       "</table>\n",
       "</div>"
      ],
      "text/plain": [
       "                       angle_elbow_left  angle_elbow_right  \\\n",
       "../clean/00000372.jpg        161.533622         167.843977   \n",
       "../clean/00000414.jpg        156.647111         161.688982   \n",
       "../clean/00000158.jpg        163.160640         168.443158   \n",
       "../clean/00000164.jpg        159.131123         162.453301   \n",
       "../clean/00000170.jpg        161.461897         159.272757   \n",
       "\n",
       "                       angle_shoulder_left  angle_shoulder_right  \\\n",
       "../clean/00000372.jpg           176.212090            179.972024   \n",
       "../clean/00000414.jpg           172.806634            170.628852   \n",
       "../clean/00000158.jpg           163.976623            173.624648   \n",
       "../clean/00000164.jpg           175.071327            176.938227   \n",
       "../clean/00000170.jpg           178.728352            179.944047   \n",
       "\n",
       "                       angle_hip_left  angle_hip_right  angle_knee_left  \\\n",
       "../clean/00000372.jpg       64.985133        65.501503       155.154463   \n",
       "../clean/00000414.jpg       76.427716        76.186424       178.631264   \n",
       "../clean/00000158.jpg       83.535028        79.592601       174.322075   \n",
       "../clean/00000164.jpg       67.050041        66.100435       170.020585   \n",
       "../clean/00000170.jpg       63.241979        62.176024       172.617380   \n",
       "\n",
       "                       angle_knee_right  \n",
       "../clean/00000372.jpg        154.631616  \n",
       "../clean/00000414.jpg        177.908468  \n",
       "../clean/00000158.jpg        172.935975  \n",
       "../clean/00000164.jpg        173.788581  \n",
       "../clean/00000170.jpg        170.075123  "
      ]
     },
     "execution_count": 215,
     "metadata": {},
     "output_type": "execute_result"
    }
   ],
   "source": [
    "df.head(5)"
   ]
  },
  {
   "cell_type": "code",
   "execution_count": 48,
   "id": "d33c2b91",
   "metadata": {},
   "outputs": [],
   "source": [
    "# df.to_csv('/Users/lennartjanssen/code/lennijanssen/angles_test')"
   ]
  },
  {
   "cell_type": "markdown",
   "id": "81c5b427",
   "metadata": {},
   "source": [
    "## Angle Error & Score"
   ]
  },
  {
   "cell_type": "code",
   "execution_count": 241,
   "id": "87c34e31",
   "metadata": {},
   "outputs": [],
   "source": [
    "#Finding values for the best pose\n",
    "\n",
    "# Choose image file and preprocess\n",
    "\n",
    "image_path = \"../clean/00000144.jpg\"\n",
    "image = tf.io.read_file(image_path)\n",
    "image = tf.image.decode_jpeg(image)\n",
    "\n",
    "# Resize and pad the image to keep the aspect ratio and fit the expected size.\n",
    "input_image = tf.expand_dims(image, axis=0)\n",
    "input_image = tf.image.resize_with_pad(input_image, input_size, input_size)\n",
    "\n",
    "\n",
    "# Detect landmarks on image\n",
    "model = module.signatures[\"serving_default\"]\n",
    "input_image = tf.cast(input_image, dtype=tf.int32)\n",
    "input_image = input_image[..., :3]\n",
    "outputs = model(input_image)\n",
    "\n",
    "# 1D array of xyz coordinates. X1, Y1, Z1, X2, ... , Yn, Zn format\n",
    "best_pose = outputs[\"output_0\"].numpy()[:, :, :, :-1][0][0]"
   ]
  },
  {
   "cell_type": "code",
   "execution_count": 242,
   "id": "7426a281",
   "metadata": {},
   "outputs": [],
   "source": [
    "#Finding values for the test pose\n",
    "\n",
    "# Choose image file and preprocess\n",
    "\n",
    "image_path = \"../clean/00000338.jpg\"\n",
    "image = tf.io.read_file(image_path)\n",
    "image = tf.image.decode_jpeg(image)\n",
    "\n",
    "# Resize and pad the image to keep the aspect ratio and fit the expected size.\n",
    "input_image = tf.expand_dims(image, axis=0)\n",
    "input_image = tf.image.resize_with_pad(input_image, input_size, input_size)\n",
    "\n",
    "\n",
    "# Detect landmarks on image\n",
    "model = module.signatures[\"serving_default\"]\n",
    "input_image = tf.cast(input_image, dtype=tf.int32)\n",
    "input_image = input_image[..., :3]\n",
    "outputs = model(input_image)\n",
    "\n",
    "# 1D array of xyz coordinates. X1, Y1, Z1, X2, ... , Yn, Zn format\n",
    "test_pose = outputs[\"output_0\"].numpy()[:, :, :, :-1][0][0]"
   ]
  },
  {
   "cell_type": "code",
   "execution_count": 243,
   "id": "edfd2232",
   "metadata": {},
   "outputs": [
    {
     "data": {
      "text/plain": [
       "array([[0.5708826 , 0.40645045],\n",
       "       [0.576467  , 0.39673132],\n",
       "       [0.57615376, 0.38526136],\n",
       "       [0.51849204, 0.3919344 ],\n",
       "       [0.52068865, 0.35362864],\n",
       "       [0.45254654, 0.4695372 ],\n",
       "       [0.44141775, 0.32939914],\n",
       "       [0.6168701 , 0.40841112],\n",
       "       [0.58001006, 0.25417495],\n",
       "       [0.789742  , 0.3339388 ],\n",
       "       [0.7096631 , 0.14340983],\n",
       "       [0.24649948, 0.7028052 ],\n",
       "       [0.24908094, 0.61588585],\n",
       "       [0.4586088 , 0.7828223 ],\n",
       "       [0.47202104, 0.7173096 ],\n",
       "       [0.6309516 , 0.89589274],\n",
       "       [0.6396793 , 0.81330293]], dtype=float32)"
      ]
     },
     "execution_count": 243,
     "metadata": {},
     "output_type": "execute_result"
    }
   ],
   "source": [
    "test_pose"
   ]
  },
  {
   "cell_type": "code",
   "execution_count": 244,
   "id": "af02ba88",
   "metadata": {},
   "outputs": [],
   "source": [
    "from operator import truediv\n",
    "\n",
    "def angle_comparer(test, best):\n",
    "\n",
    "    # get angles for each pose\n",
    "    best_pose_angles = angle_function(best)[1]\n",
    "    test_pose_angles = angle_function(test)[1]\n",
    "    \n",
    "    # find differences between each by substraction\n",
    "    angle_substraction = [a - b for a, b in zip(best_pose_angles, test_pose_angles)]\n",
    "    \n",
    "    # change values to absolute values\n",
    "    angle_difference = list(map(abs, angle_substraction))\n",
    "    \n",
    "    # find percentages for each pose\n",
    "    test_angle_percentage = list(map(truediv, test_pose_angles, best_pose_angles))\n",
    "    \n",
    "    # find absolute difference by percentage\n",
    "    test_angle_percentage_diff = [round(abs(x-1),2) for x in test_angle_percentage]\n",
    "    \n",
    "    # find average percentage difference\n",
    "    average_percentage_diff = round(sum(test_angle_percentage_diff)/len(test_angle_percentage_diff),2)\n",
    "    \n",
    "    \n",
    "    return test_angle_percentage_diff, average_percentage_diff\n",
    "    "
   ]
  },
  {
   "cell_type": "code",
   "execution_count": 245,
   "id": "81113a00",
   "metadata": {},
   "outputs": [
    {
     "data": {
      "text/plain": [
       "([0.01, 0.02, 0.13, 0.14, 0.05, 0.13, 0.06, 0.03], 0.07)"
      ]
     },
     "execution_count": 245,
     "metadata": {},
     "output_type": "execute_result"
    }
   ],
   "source": [
    "angle_comparer(test_pose,best_pose)"
   ]
  },
  {
   "cell_type": "code",
   "execution_count": null,
   "id": "760320a5",
   "metadata": {},
   "outputs": [],
   "source": []
  },
  {
   "cell_type": "code",
   "execution_count": null,
   "id": "7d87f063",
   "metadata": {},
   "outputs": [],
   "source": []
  },
  {
   "cell_type": "code",
   "execution_count": null,
   "id": "53004ffd",
   "metadata": {},
   "outputs": [],
   "source": []
  }
 ],
 "metadata": {
  "kernelspec": {
   "display_name": "Python 3 (ipykernel)",
   "language": "python",
   "name": "python3"
  },
  "language_info": {
   "codemirror_mode": {
    "name": "ipython",
    "version": 3
   },
   "file_extension": ".py",
   "mimetype": "text/x-python",
   "name": "python",
   "nbconvert_exporter": "python",
   "pygments_lexer": "ipython3",
   "version": "3.10.6"
  },
  "toc": {
   "base_numbering": 1,
   "nav_menu": {},
   "number_sections": true,
   "sideBar": true,
   "skip_h1_title": false,
   "title_cell": "Table of Contents",
   "title_sidebar": "Contents",
   "toc_cell": false,
   "toc_position": {},
   "toc_section_display": true,
   "toc_window_display": false
  }
 },
 "nbformat": 4,
 "nbformat_minor": 5
}
