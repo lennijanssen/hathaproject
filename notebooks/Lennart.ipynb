{
 "cells": [
  {
   "cell_type": "markdown",
   "id": "f7649d29-cd6c-4428-9d53-cf7822e1b1ae",
   "metadata": {},
   "source": [
    "# Convolutional Neural Network (CNN) Exploration"
   ]
  },
  {
   "cell_type": "markdown",
   "id": "b078a245",
   "metadata": {},
   "source": [
    "In this notebook, we will lay out our approach for a CNN based on transfer learning experience"
   ]
  },
  {
   "cell_type": "code",
   "execution_count": null,
   "id": "be388f9c",
   "metadata": {},
   "outputs": [],
   "source": [
    "from tensorflow.keras.applications.vgg16 import VGG16\n",
    "from tensorflow.keras import layers, models\n",
    "\n",
    "\n",
    "model = VGG16(weights=\"imagenet\", include_top=False, input_shape=X_train[0].shape)"
   ]
  }
 ],
 "metadata": {
  "kernelspec": {
   "display_name": "Python 3 (ipykernel)",
   "language": "python",
   "name": "python3"
  },
  "language_info": {
   "codemirror_mode": {
    "name": "ipython",
    "version": 3
   },
   "file_extension": ".py",
   "mimetype": "text/x-python",
   "name": "python",
   "nbconvert_exporter": "python",
   "pygments_lexer": "ipython3",
   "version": "3.10.6"
  },
  "toc": {
   "base_numbering": 1,
   "nav_menu": {},
   "number_sections": true,
   "sideBar": true,
   "skip_h1_title": false,
   "title_cell": "Table of Contents",
   "title_sidebar": "Contents",
   "toc_cell": false,
   "toc_position": {},
   "toc_section_display": true,
   "toc_window_display": false
  }
 },
 "nbformat": 4,
 "nbformat_minor": 5
}
