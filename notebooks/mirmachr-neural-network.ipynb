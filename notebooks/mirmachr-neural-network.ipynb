{
 "cells": [
  {
   "cell_type": "markdown",
   "id": "f7649d29-cd6c-4428-9d53-cf7822e1b1ae",
   "metadata": {},
   "source": [
    "# Dense Neural Network (NN) Exploration"
   ]
  },
  {
   "cell_type": "markdown",
   "id": "b078a245",
   "metadata": {},
   "source": [
    "In this notebook, we will lay out our approach for a Neural Network approach to predict a pose based on landmark. Additionally, we are storing out angle calculation and perspectively our angle error calculation."
   ]
  },
  {
   "cell_type": "code",
   "execution_count": 1,
   "id": "be388f9c",
   "metadata": {},
   "outputs": [],
   "source": [
    "import numpy as np\n",
    "import pandas as pd\n",
    "import matplotlib.pyplot as plt"
   ]
  },
  {
   "cell_type": "markdown",
   "id": "603927da",
   "metadata": {},
   "source": [
    "## Neural Network"
   ]
  },
  {
   "cell_type": "code",
   "execution_count": 2,
   "id": "8393c8b6",
   "metadata": {},
   "outputs": [],
   "source": [
    "import tensorflow as tf\n"
   ]
  },
  {
   "cell_type": "code",
   "execution_count": 3,
   "id": "c8fc5e43",
   "metadata": {},
   "outputs": [],
   "source": [
    "from sklearn.model_selection import train_test_split\n",
    "from sklearn.preprocessing import StandardScaler\n",
    "from tensorflow.keras.utils import to_categorical\n",
    "from tensorflow.keras import layers, Sequential\n",
    "from tensorflow.keras import models\n"
   ]
  },
  {
   "cell_type": "code",
   "execution_count": 15,
   "id": "ad1124f0",
   "metadata": {},
   "outputs": [],
   "source": [
    "from sklearn.metrics import make_scorer\n",
    "from sklearn.model_selection import StratifiedKFold\n",
    "from tensorflow.keras.callbacks import EarlyStopping\n",
    "from sklearn.metrics import accuracy_score\n",
    "from tensorflow.keras.layers import Input, Dense, GlobalMaxPooling1D, LeakyReLU\n",
    "from scikeras.wrappers import KerasClassifier\n",
    "from sklearn.model_selection import GridSearchCV, KFold, RandomizedSearchCV\n",
    "from sklearn.preprocessing import LabelEncoder, OneHotEncoder\n",
    "from tensorflow.keras.models import load_model\n",
    "import joblib"
   ]
  },
  {
   "cell_type": "code",
   "execution_count": 5,
   "id": "7956ec52",
   "metadata": {},
   "outputs": [],
   "source": [
    "from scipy.stats import uniform"
   ]
  },
  {
   "cell_type": "code",
   "execution_count": 6,
   "id": "0dbb1b8b",
   "metadata": {},
   "outputs": [],
   "source": [
    "# Load the datasets\n",
    "train_df = pd.read_csv('train_landmark_all_raw.csv')\n",
    "val_df = pd.read_csv('val_landmark_all_raw.csv')\n",
    "test_df = pd.read_csv('test_landmark_all_raw.csv')"
   ]
  },
  {
   "cell_type": "code",
   "execution_count": 7,
   "id": "eb4f8472",
   "metadata": {
    "scrolled": false
   },
   "outputs": [],
   "source": [
    "#train_df.head()\n"
   ]
  },
  {
   "cell_type": "code",
   "execution_count": 8,
   "id": "9343d550",
   "metadata": {},
   "outputs": [],
   "source": [
    "# Extract features (landmark coordinates) and labels\n",
    "X_train = train_df.iloc[:, 1:52]  # Feature columns\n",
    "y_train = train_df['y_main']  # Target variable\n"
   ]
  },
  {
   "cell_type": "code",
   "execution_count": 9,
   "id": "816b2d20",
   "metadata": {},
   "outputs": [],
   "source": [
    "X_val = val_df.iloc[:, 1:52].values\n",
    "y_val = val_df['y_main'].values\n"
   ]
  },
  {
   "cell_type": "code",
   "execution_count": 10,
   "id": "16edfed1",
   "metadata": {},
   "outputs": [],
   "source": [
    "X_test = test_df.iloc[:, 1:52].values\n",
    "y_test = test_df['y_main'].values\n"
   ]
  },
  {
   "cell_type": "code",
   "execution_count": 11,
   "id": "05a81218",
   "metadata": {},
   "outputs": [],
   "source": [
    "# Convert labels to numerical values\n",
    "label_mapping = {label: idx for idx, label in enumerate(np.unique(y_train))}\n",
    "y_train_numeric = np.array([label_mapping[label] for label in y_train])\n",
    "y_val_numeric = np.array([label_mapping[label] for label in y_val])\n",
    "y_test_numeric = np.array([label_mapping[label] for label in y_test])\n"
   ]
  },
  {
   "cell_type": "code",
   "execution_count": 12,
   "id": "ef0df31e",
   "metadata": {
    "scrolled": true
   },
   "outputs": [
    {
     "name": "stderr",
     "output_type": "stream",
     "text": [
      "/Users/mirmachr/.pyenv/versions/3.10.6/envs/hathaproject/lib/python3.10/site-packages/sklearn/base.py:465: UserWarning: X does not have valid feature names, but StandardScaler was fitted with feature names\n",
      "  warnings.warn(\n",
      "/Users/mirmachr/.pyenv/versions/3.10.6/envs/hathaproject/lib/python3.10/site-packages/sklearn/base.py:465: UserWarning: X does not have valid feature names, but StandardScaler was fitted with feature names\n",
      "  warnings.warn(\n"
     ]
    },
    {
     "data": {
      "text/plain": [
       "['scaler.pkl']"
      ]
     },
     "execution_count": 12,
     "metadata": {},
     "output_type": "execute_result"
    }
   ],
   "source": [
    "# Standardize the features\n",
    "scaler = StandardScaler()\n",
    "X_train = scaler.fit_transform(X_train)\n",
    "X_val = scaler.transform(X_val)\n",
    "X_test = scaler.transform(X_test)\n",
    "\n",
    "# Saving the scaler\n",
    "joblib.dump(scaler, 'scaler.pkl')"
   ]
  },
  {
   "cell_type": "code",
   "execution_count": 17,
   "id": "f9924836",
   "metadata": {},
   "outputs": [
    {
     "data": {
      "text/plain": [
       "['encoder.pkl']"
      ]
     },
     "execution_count": 17,
     "metadata": {},
     "output_type": "execute_result"
    }
   ],
   "source": [
    "# Convert labels to one-hot encoding\n",
    "y_train_one_hot = to_categorical(y_train_numeric)\n",
    "y_val_one_hot = to_categorical(y_val_numeric)\n",
    "y_test_one_hot = to_categorical(y_test_numeric)\n",
    "\n",
    "encoder = OneHotEncoder()\n",
    "\n",
    "# Saving the encoder\n",
    "joblib.dump(encoder, 'encoder.pkl')"
   ]
  },
  {
   "cell_type": "code",
   "execution_count": 18,
   "id": "f78d7144",
   "metadata": {},
   "outputs": [
    {
     "name": "stderr",
     "output_type": "stream",
     "text": [
      "2023-11-24 10:40:53.266013: I metal_plugin/src/device/metal_device.cc:1154] Metal device set to: Apple M2\n",
      "2023-11-24 10:40:53.266417: I metal_plugin/src/device/metal_device.cc:296] systemMemory: 8.00 GB\n",
      "2023-11-24 10:40:53.266599: I metal_plugin/src/device/metal_device.cc:313] maxCacheSize: 2.67 GB\n",
      "2023-11-24 10:40:53.266940: I tensorflow/core/common_runtime/pluggable_device/pluggable_device_factory.cc:306] Could not identify NUMA node of platform GPU ID 0, defaulting to 0. Your kernel may not have been built with NUMA support.\n",
      "2023-11-24 10:40:53.267211: I tensorflow/core/common_runtime/pluggable_device/pluggable_device_factory.cc:272] Created TensorFlow device (/job:localhost/replica:0/task:0/device:GPU:0 with 0 MB memory) -> physical PluggableDevice (device: 0, name: METAL, pci bus id: <undefined>)\n"
     ]
    }
   ],
   "source": [
    "# Build the neural network model\n",
    "def initialize_model():\n",
    "    model = models.Sequential()\n",
    "    model.add(layers.Dense(128, input_dim=X_train.shape[1], activation='relu'))\n",
    "    model.add(layers.Dropout(0.5))\n",
    "    model.add(layers.Dense(64, activation='relu'))\n",
    "    model.add(layers.Dropout(0.5))\n",
    "#     model.add(layers.Dense(64, activation='relu'))\n",
    "#     model.add(layers.Dropout(0.5))\n",
    "#     model.add(layers.Dense(32, activation='relu'))\n",
    "#     model.add(layers.Dropout(0.5))\n",
    "    model.add(layers.Dense(len(label_mapping), activation='softmax'))\n",
    "\n",
    "    model.compile(loss='categorical_crossentropy',\n",
    "                  optimizer='adam',\n",
    "                  metrics=['accuracy'])\n",
    "\n",
    "    return model\n",
    "\n",
    "model = initialize_model()\n"
   ]
  },
  {
   "cell_type": "code",
   "execution_count": 19,
   "id": "b2e89e88",
   "metadata": {},
   "outputs": [
    {
     "name": "stdout",
     "output_type": "stream",
     "text": [
      "Epoch 1/100\n",
      " 1/17 [>.............................] - ETA: 6s - loss: 2.2490 - accuracy: 0.0938"
     ]
    },
    {
     "name": "stderr",
     "output_type": "stream",
     "text": [
      "2023-11-24 10:40:55.104674: I tensorflow/core/grappler/optimizers/custom_graph_optimizer_registry.cc:117] Plugin optimizer for device_type GPU is enabled.\n",
      "2023-11-24 10:40:55.119503: E tensorflow/core/grappler/optimizers/meta_optimizer.cc:961] PluggableGraphOptimizer failed: INVALID_ARGUMENT: Unparseable tensorflow.GraphDef proto\n"
     ]
    },
    {
     "name": "stdout",
     "output_type": "stream",
     "text": [
      "17/17 [==============================] - 1s 20ms/step - loss: 1.6565 - accuracy: 0.3252 - val_loss: 1.0691 - val_accuracy: 0.6319\n",
      "Epoch 2/100\n",
      "17/17 [==============================] - 0s 18ms/step - loss: 1.1984 - accuracy: 0.5327 - val_loss: 0.8190 - val_accuracy: 0.6944\n",
      "Epoch 3/100\n",
      "17/17 [==============================] - 0s 10ms/step - loss: 0.9925 - accuracy: 0.6243 - val_loss: 0.6576 - val_accuracy: 0.8264\n",
      "Epoch 4/100\n",
      "17/17 [==============================] - 0s 10ms/step - loss: 0.7883 - accuracy: 0.6935 - val_loss: 0.5381 - val_accuracy: 0.8681\n",
      "Epoch 5/100\n",
      "17/17 [==============================] - 0s 10ms/step - loss: 0.7109 - accuracy: 0.7495 - val_loss: 0.4558 - val_accuracy: 0.8958\n",
      "Epoch 6/100\n",
      "17/17 [==============================] - 0s 11ms/step - loss: 0.6307 - accuracy: 0.7645 - val_loss: 0.4086 - val_accuracy: 0.9306\n",
      "Epoch 7/100\n",
      "17/17 [==============================] - 0s 10ms/step - loss: 0.5599 - accuracy: 0.7869 - val_loss: 0.3538 - val_accuracy: 0.9236\n",
      "Epoch 8/100\n",
      "17/17 [==============================] - 0s 10ms/step - loss: 0.5261 - accuracy: 0.7963 - val_loss: 0.3283 - val_accuracy: 0.9306\n",
      "Epoch 9/100\n",
      "17/17 [==============================] - 0s 11ms/step - loss: 0.4684 - accuracy: 0.8486 - val_loss: 0.3072 - val_accuracy: 0.9444\n",
      "Epoch 10/100\n",
      "17/17 [==============================] - 0s 10ms/step - loss: 0.4648 - accuracy: 0.8336 - val_loss: 0.2738 - val_accuracy: 0.9375\n",
      "Epoch 11/100\n",
      "17/17 [==============================] - 0s 9ms/step - loss: 0.3870 - accuracy: 0.8598 - val_loss: 0.2538 - val_accuracy: 0.9444\n",
      "Epoch 12/100\n",
      "17/17 [==============================] - 0s 10ms/step - loss: 0.3711 - accuracy: 0.8841 - val_loss: 0.2356 - val_accuracy: 0.9444\n",
      "Epoch 13/100\n",
      "17/17 [==============================] - 0s 13ms/step - loss: 0.3453 - accuracy: 0.8879 - val_loss: 0.2141 - val_accuracy: 0.9375\n",
      "Epoch 14/100\n",
      "17/17 [==============================] - 0s 10ms/step - loss: 0.3153 - accuracy: 0.8897 - val_loss: 0.2088 - val_accuracy: 0.9444\n",
      "Epoch 15/100\n",
      "17/17 [==============================] - 0s 10ms/step - loss: 0.3050 - accuracy: 0.8916 - val_loss: 0.1856 - val_accuracy: 0.9514\n",
      "Epoch 16/100\n",
      "17/17 [==============================] - 0s 10ms/step - loss: 0.2765 - accuracy: 0.9047 - val_loss: 0.1900 - val_accuracy: 0.9583\n",
      "Epoch 17/100\n",
      "17/17 [==============================] - 0s 11ms/step - loss: 0.2689 - accuracy: 0.8953 - val_loss: 0.1605 - val_accuracy: 0.9514\n",
      "Epoch 18/100\n",
      "17/17 [==============================] - 0s 10ms/step - loss: 0.2458 - accuracy: 0.9290 - val_loss: 0.1539 - val_accuracy: 0.9514\n",
      "Epoch 19/100\n",
      "17/17 [==============================] - 0s 9ms/step - loss: 0.2142 - accuracy: 0.9178 - val_loss: 0.1454 - val_accuracy: 0.9514\n",
      "Epoch 20/100\n",
      "17/17 [==============================] - 0s 10ms/step - loss: 0.2202 - accuracy: 0.9271 - val_loss: 0.1412 - val_accuracy: 0.9583\n",
      "Epoch 21/100\n",
      "17/17 [==============================] - 0s 9ms/step - loss: 0.2005 - accuracy: 0.9346 - val_loss: 0.1379 - val_accuracy: 0.9444\n",
      "Epoch 22/100\n",
      "17/17 [==============================] - 0s 9ms/step - loss: 0.2193 - accuracy: 0.9271 - val_loss: 0.1238 - val_accuracy: 0.9583\n",
      "Epoch 23/100\n",
      "17/17 [==============================] - 0s 10ms/step - loss: 0.1727 - accuracy: 0.9533 - val_loss: 0.1156 - val_accuracy: 0.9653\n",
      "Epoch 24/100\n",
      "17/17 [==============================] - 0s 9ms/step - loss: 0.1743 - accuracy: 0.9383 - val_loss: 0.1141 - val_accuracy: 0.9583\n",
      "Epoch 25/100\n",
      "17/17 [==============================] - 0s 9ms/step - loss: 0.1805 - accuracy: 0.9477 - val_loss: 0.1018 - val_accuracy: 0.9653\n",
      "Epoch 26/100\n",
      "17/17 [==============================] - 0s 9ms/step - loss: 0.1651 - accuracy: 0.9364 - val_loss: 0.1146 - val_accuracy: 0.9583\n",
      "Epoch 27/100\n",
      "17/17 [==============================] - 0s 10ms/step - loss: 0.1526 - accuracy: 0.9626 - val_loss: 0.0970 - val_accuracy: 0.9653\n",
      "Epoch 28/100\n",
      "17/17 [==============================] - 0s 9ms/step - loss: 0.1403 - accuracy: 0.9551 - val_loss: 0.0925 - val_accuracy: 0.9653\n",
      "Epoch 29/100\n",
      "17/17 [==============================] - 0s 9ms/step - loss: 0.1378 - accuracy: 0.9551 - val_loss: 0.0860 - val_accuracy: 0.9653\n",
      "Epoch 30/100\n",
      "17/17 [==============================] - 0s 21ms/step - loss: 0.1301 - accuracy: 0.9589 - val_loss: 0.0837 - val_accuracy: 0.9653\n",
      "Epoch 31/100\n",
      "17/17 [==============================] - 0s 10ms/step - loss: 0.1163 - accuracy: 0.9626 - val_loss: 0.0827 - val_accuracy: 0.9653\n",
      "Epoch 32/100\n",
      "17/17 [==============================] - 0s 10ms/step - loss: 0.1249 - accuracy: 0.9589 - val_loss: 0.0777 - val_accuracy: 0.9653\n",
      "Epoch 33/100\n",
      "17/17 [==============================] - 0s 11ms/step - loss: 0.1168 - accuracy: 0.9589 - val_loss: 0.0745 - val_accuracy: 0.9722\n",
      "Epoch 34/100\n",
      "17/17 [==============================] - 0s 10ms/step - loss: 0.1079 - accuracy: 0.9607 - val_loss: 0.0776 - val_accuracy: 0.9722\n",
      "Epoch 35/100\n",
      "17/17 [==============================] - 0s 11ms/step - loss: 0.1102 - accuracy: 0.9664 - val_loss: 0.0681 - val_accuracy: 0.9722\n",
      "Epoch 36/100\n",
      "17/17 [==============================] - 0s 12ms/step - loss: 0.1110 - accuracy: 0.9720 - val_loss: 0.0742 - val_accuracy: 0.9653\n",
      "Epoch 37/100\n",
      "17/17 [==============================] - 1s 43ms/step - loss: 0.1040 - accuracy: 0.9757 - val_loss: 0.0784 - val_accuracy: 0.9583\n",
      "Epoch 38/100\n",
      "17/17 [==============================] - 0s 9ms/step - loss: 0.0775 - accuracy: 0.9757 - val_loss: 0.0790 - val_accuracy: 0.9653\n",
      "Epoch 39/100\n",
      "17/17 [==============================] - 0s 9ms/step - loss: 0.0820 - accuracy: 0.9757 - val_loss: 0.0712 - val_accuracy: 0.9722\n",
      "Epoch 40/100\n",
      "17/17 [==============================] - 0s 11ms/step - loss: 0.0765 - accuracy: 0.9738 - val_loss: 0.0560 - val_accuracy: 0.9722\n",
      "Epoch 41/100\n",
      "17/17 [==============================] - 0s 9ms/step - loss: 0.0760 - accuracy: 0.9757 - val_loss: 0.0656 - val_accuracy: 0.9722\n",
      "Epoch 42/100\n",
      "17/17 [==============================] - 0s 11ms/step - loss: 0.0602 - accuracy: 0.9888 - val_loss: 0.0586 - val_accuracy: 0.9722\n",
      "Epoch 43/100\n",
      "17/17 [==============================] - 0s 9ms/step - loss: 0.0624 - accuracy: 0.9776 - val_loss: 0.0668 - val_accuracy: 0.9722\n",
      "Epoch 44/100\n",
      "17/17 [==============================] - 0s 11ms/step - loss: 0.0860 - accuracy: 0.9720 - val_loss: 0.0671 - val_accuracy: 0.9722\n",
      "Epoch 45/100\n",
      "17/17 [==============================] - 0s 9ms/step - loss: 0.0681 - accuracy: 0.9832 - val_loss: 0.0554 - val_accuracy: 0.9861\n",
      "Epoch 46/100\n",
      "17/17 [==============================] - 0s 9ms/step - loss: 0.0641 - accuracy: 0.9850 - val_loss: 0.0584 - val_accuracy: 0.9792\n",
      "Epoch 47/100\n",
      "17/17 [==============================] - 0s 9ms/step - loss: 0.0485 - accuracy: 0.9907 - val_loss: 0.0554 - val_accuracy: 0.9792\n",
      "Epoch 48/100\n",
      "17/17 [==============================] - 0s 9ms/step - loss: 0.0432 - accuracy: 0.9888 - val_loss: 0.0495 - val_accuracy: 0.9861\n",
      "Epoch 49/100\n",
      "17/17 [==============================] - 0s 9ms/step - loss: 0.0592 - accuracy: 0.9869 - val_loss: 0.0481 - val_accuracy: 0.9722\n",
      "Epoch 50/100\n",
      "17/17 [==============================] - 0s 9ms/step - loss: 0.0596 - accuracy: 0.9794 - val_loss: 0.0614 - val_accuracy: 0.9792\n",
      "Epoch 51/100\n",
      "17/17 [==============================] - 0s 9ms/step - loss: 0.0563 - accuracy: 0.9813 - val_loss: 0.0645 - val_accuracy: 0.9792\n",
      "Epoch 52/100\n",
      "17/17 [==============================] - 0s 9ms/step - loss: 0.0568 - accuracy: 0.9813 - val_loss: 0.0454 - val_accuracy: 0.9792\n",
      "Epoch 53/100\n",
      "17/17 [==============================] - 0s 9ms/step - loss: 0.0415 - accuracy: 0.9907 - val_loss: 0.0513 - val_accuracy: 0.9722\n",
      "Epoch 54/100\n",
      "17/17 [==============================] - 0s 9ms/step - loss: 0.0493 - accuracy: 0.9850 - val_loss: 0.0507 - val_accuracy: 0.9861\n",
      "Epoch 55/100\n",
      "17/17 [==============================] - 0s 9ms/step - loss: 0.0402 - accuracy: 0.9869 - val_loss: 0.0518 - val_accuracy: 0.9792\n",
      "Epoch 56/100\n",
      "17/17 [==============================] - 0s 9ms/step - loss: 0.0489 - accuracy: 0.9832 - val_loss: 0.0525 - val_accuracy: 0.9792\n",
      "Epoch 57/100\n",
      "17/17 [==============================] - 0s 9ms/step - loss: 0.0384 - accuracy: 0.9869 - val_loss: 0.0480 - val_accuracy: 0.9722\n",
      "Epoch 58/100\n"
     ]
    },
    {
     "name": "stdout",
     "output_type": "stream",
     "text": [
      "17/17 [==============================] - 0s 10ms/step - loss: 0.0434 - accuracy: 0.9869 - val_loss: 0.0566 - val_accuracy: 0.9792\n",
      "Epoch 59/100\n",
      "17/17 [==============================] - 0s 9ms/step - loss: 0.0315 - accuracy: 0.9981 - val_loss: 0.0558 - val_accuracy: 0.9792\n",
      "Epoch 60/100\n",
      "17/17 [==============================] - 0s 10ms/step - loss: 0.0375 - accuracy: 0.9869 - val_loss: 0.0497 - val_accuracy: 0.9792\n",
      "Epoch 61/100\n",
      "17/17 [==============================] - 0s 9ms/step - loss: 0.0347 - accuracy: 0.9888 - val_loss: 0.0397 - val_accuracy: 0.9722\n",
      "Epoch 62/100\n",
      "17/17 [==============================] - 0s 9ms/step - loss: 0.0420 - accuracy: 0.9869 - val_loss: 0.0382 - val_accuracy: 0.9792\n",
      "Epoch 63/100\n",
      "17/17 [==============================] - 0s 9ms/step - loss: 0.0354 - accuracy: 0.9888 - val_loss: 0.0401 - val_accuracy: 0.9861\n",
      "Epoch 64/100\n",
      "17/17 [==============================] - 0s 9ms/step - loss: 0.0320 - accuracy: 0.9907 - val_loss: 0.0514 - val_accuracy: 0.9792\n",
      "Epoch 65/100\n",
      "17/17 [==============================] - 0s 9ms/step - loss: 0.0255 - accuracy: 0.9925 - val_loss: 0.0625 - val_accuracy: 0.9722\n"
     ]
    }
   ],
   "source": [
    "from tensorflow.keras.callbacks import EarlyStopping\n",
    "\n",
    "es = EarlyStopping(monitor='val_accuracy', patience=20)\n",
    "\n",
    "# Start training\n",
    "history = model.fit(X_train,\n",
    "                    y_train_one_hot,\n",
    "                    epochs=100,\n",
    "                    batch_size=32,\n",
    "                    validation_data=(X_val, y_val_one_hot),\n",
    "                    callbacks=[es])\n",
    "\n",
    "# # Train the model with validation data\n",
    "# history = model.fit(X_train,\n",
    "#                     y_train_one_hot,\n",
    "#                     epochs=10,\n",
    "#                     batch_size=32,\n",
    "#                     validation_data=(X_val, y_val_one_hot))\n"
   ]
  },
  {
   "cell_type": "code",
   "execution_count": 20,
   "id": "cde95bfc",
   "metadata": {
    "scrolled": false
   },
   "outputs": [
    {
     "name": "stdout",
     "output_type": "stream",
     "text": [
      "Model: \"sequential\"\n",
      "_________________________________________________________________\n",
      " Layer (type)                Output Shape              Param #   \n",
      "=================================================================\n",
      " dense (Dense)               (None, 128)               6656      \n",
      "                                                                 \n",
      " dropout (Dropout)           (None, 128)               0         \n",
      "                                                                 \n",
      " dense_1 (Dense)             (None, 64)                8256      \n",
      "                                                                 \n",
      " dropout_1 (Dropout)         (None, 64)                0         \n",
      "                                                                 \n",
      " dense_2 (Dense)             (None, 5)                 325       \n",
      "                                                                 \n",
      "=================================================================\n",
      "Total params: 15237 (59.52 KB)\n",
      "Trainable params: 15237 (59.52 KB)\n",
      "Non-trainable params: 0 (0.00 Byte)\n",
      "_________________________________________________________________\n"
     ]
    }
   ],
   "source": [
    "model.summary()\n"
   ]
  },
  {
   "cell_type": "code",
   "execution_count": 21,
   "id": "35ee592c",
   "metadata": {
    "scrolled": true
   },
   "outputs": [
    {
     "data": {
      "image/png": "[encoded data removed]",
      "text/plain": [
       "<Figure size 640x480 with 1 Axes>"
      ]
     },
     "metadata": {},
     "output_type": "display_data"
    }
   ],
   "source": [
    "# Visualize the training history to see whether you're overfitting.\n",
    "plt.plot(history.history['accuracy'])\n",
    "plt.plot(history.history['val_accuracy'])\n",
    "plt.title('Model accuracy')\n",
    "plt.ylabel('accuracy')\n",
    "plt.xlabel('epoch')\n",
    "plt.legend(['TRAIN', 'VAL'], loc='lower right')\n",
    "plt.show()\n"
   ]
  },
  {
   "cell_type": "code",
   "execution_count": 22,
   "id": "86bfc682",
   "metadata": {},
   "outputs": [],
   "source": [
    "# # Train the model with validation data\n",
    "# history = model.fit(X_train,\n",
    "#                     y_train_one_hot,\n",
    "#                     epochs=10,\n",
    "#                     batch_size=32,\n",
    "#                     validation_data=(X_val, y_val_one_hot))"
   ]
  },
  {
   "cell_type": "code",
   "execution_count": 23,
   "id": "afd3fd5b",
   "metadata": {
    "scrolled": true
   },
   "outputs": [
    {
     "data": {
      "image/png": "[encoded data removed]",
      "text/plain": [
       "<Figure size 640x480 with 1 Axes>"
      ]
     },
     "metadata": {},
     "output_type": "display_data"
    }
   ],
   "source": [
    "def plot_history(history):\n",
    "    plt.plot(history.history['val_loss'])\n",
    "    plt.title('Model loss')\n",
    "    plt.ylabel('Loss')\n",
    "    plt.xlabel('Epoch')\n",
    "    plt.show()\n",
    "\n",
    "plot_history(history)\n"
   ]
  },
  {
   "cell_type": "code",
   "execution_count": 24,
   "id": "1e3e4d2f",
   "metadata": {
    "scrolled": true
   },
   "outputs": [
    {
     "data": {
      "image/png": "[encoded data removed]",
      "text/plain": [
       "<Figure size 640x480 with 1 Axes>"
      ]
     },
     "metadata": {},
     "output_type": "display_data"
    }
   ],
   "source": [
    "def plot_history_accuracy(history):\n",
    "    plt.plot(history.history['val_accuracy'])\n",
    "    plt.title('Model accuracy')\n",
    "    plt.ylabel('Accuracy')\n",
    "    plt.xlabel('Epoch')\n",
    "    plt.show()\n",
    "\n",
    "plot_history_accuracy(history)\n"
   ]
  },
  {
   "cell_type": "code",
   "execution_count": 25,
   "id": "4de13fd7",
   "metadata": {},
   "outputs": [],
   "source": [
    "# Convert test labels to one-hot encoding\n",
    "y_test_one_hot = to_categorical(y_test_numeric)\n",
    "\n",
    "# Evaluate the model on the test set\n",
    "results = model.evaluate(X_test, y_test_one_hot, verbose=0)\n"
   ]
  },
  {
   "cell_type": "code",
   "execution_count": 26,
   "id": "f5046557",
   "metadata": {
    "scrolled": true
   },
   "outputs": [
    {
     "name": "stdout",
     "output_type": "stream",
     "text": [
      "Test Accuracy: 92.86%\n",
      "Test Loss: 0.11015759408473969\n"
     ]
    }
   ],
   "source": [
    "print(f'Test Accuracy: {results[1]*100:.2f}%')\n",
    "print(f'Test Loss: {results[0]}')\n"
   ]
  },
  {
   "cell_type": "code",
   "execution_count": 27,
   "id": "b64f6f6d",
   "metadata": {
    "scrolled": true
   },
   "outputs": [],
   "source": [
    "X_pred = X_test[0].reshape(1,-1)\n"
   ]
  },
  {
   "cell_type": "code",
   "execution_count": 28,
   "id": "765bb862",
   "metadata": {
    "scrolled": true
   },
   "outputs": [
    {
     "name": "stdout",
     "output_type": "stream",
     "text": [
      "CPU times: user 3 µs, sys: 2 µs, total: 5 µs\n",
      "Wall time: 21 µs\n",
      "1/1 [==============================] - 0s 81ms/step\n"
     ]
    }
   ],
   "source": [
    "%time\n",
    "prediction = model.predict(X_pred)\n"
   ]
  },
  {
   "cell_type": "code",
   "execution_count": 29,
   "id": "3bddad6f",
   "metadata": {},
   "outputs": [
    {
     "data": {
      "text/plain": [
       "array([0])"
      ]
     },
     "execution_count": 29,
     "metadata": {},
     "output_type": "execute_result"
    }
   ],
   "source": [
    "predict_class = np.argmax(prediction, axis = 1)\n",
    "predict_class\n"
   ]
  },
  {
   "cell_type": "code",
   "execution_count": 30,
   "id": "449a297c",
   "metadata": {},
   "outputs": [],
   "source": [
    "predicted_labels = np.argmax(prediction, axis=1)\n"
   ]
  },
  {
   "cell_type": "code",
   "execution_count": 31,
   "id": "e1ff9a54",
   "metadata": {},
   "outputs": [
    {
     "data": {
      "text/plain": [
       "'downdog'"
      ]
     },
     "execution_count": 31,
     "metadata": {},
     "output_type": "execute_result"
    }
   ],
   "source": [
    "predicted_class_names = [class_name for class_name, idx in label_mapping.items() if idx in predict_class]\n",
    "predicted_class_names[0]\n"
   ]
  },
  {
   "cell_type": "code",
   "execution_count": 32,
   "id": "8d64210b",
   "metadata": {},
   "outputs": [],
   "source": [
    "# def plot_confusion_matrix(cm, classes,\n",
    "#                           normalize=False,\n",
    "#                           title='Confusion matrix',\n",
    "#                           cmap=plt.cm.Blues):\n",
    "#   \"\"\"Plots the confusion matrix.\"\"\"\n",
    "#   if normalize:\n",
    "#     cm = cm.astype('float') / cm.sum(axis=1)[:, np.newaxis]\n",
    "#     print(\"Normalized confusion matrix\")\n",
    "#   else:\n",
    "#     print('Confusion matrix, without normalization')\n",
    "\n",
    "#   plt.imshow(cm, interpolation='nearest', cmap=cmap)\n",
    "#   plt.title(title)\n",
    "#   plt.colorbar()\n",
    "#   tick_marks = np.arange(len(classes))\n",
    "#   plt.xticks(tick_marks, classes, rotation=55)\n",
    "#   plt.yticks(tick_marks, classes)\n",
    "#   fmt = '.2f' if normalize else 'd'\n",
    "#   thresh = cm.max() / 2.\n",
    "#   for i, j in itertools.product(range(cm.shape[0]), range(cm.shape[1])):\n",
    "#     plt.text(j, i, format(cm[i, j], fmt),\n",
    "#               horizontalalignment=\"center\",\n",
    "#               color=\"white\" if cm[i, j] > thresh else \"black\")\n",
    "\n",
    "#   plt.ylabel('True label')\n",
    "#   plt.xlabel('Predicted label')\n",
    "#   plt.tight_layout()\n",
    "\n",
    "# # Classify pose in the TEST dataset using the trained model\n",
    "# y_pred = model.predict(X_test)\n",
    "\n",
    "# # Convert the prediction result to class name\n",
    "# y_pred_label = [predict_class[i] for i in np.argmax(y_pred, axis=1)]\n",
    "# y_true_label = [predict_class[i] for i in np.argmax(y_test, axis=1)]\n",
    "\n",
    "# # Plot the confusion matrix\n",
    "# cm = confusion_matrix(np.argmax(y_test, axis=1), np.argmax(y_pred, axis=1))\n",
    "# plot_confusion_matrix(cm,\n",
    "#                       class_names,\n",
    "#                       title ='Confusion Matrix of Pose Classification Model')\n",
    "\n",
    "# # Print the classification report\n",
    "# print('\\nClassification Report:\\n', classification_report(y_true_label,\n",
    "#                                                           y_pred_label))\n"
   ]
  },
  {
   "cell_type": "code",
   "execution_count": 29,
   "id": "7d87e90b",
   "metadata": {
    "scrolled": true
   },
   "outputs": [],
   "source": [
    "model.save('amazing_model.keras')  # Save the entire model\n"
   ]
  },
  {
   "cell_type": "markdown",
   "id": "b22d7ad4",
   "metadata": {
    "heading_collapsed": true
   },
   "source": [
    "## Masaki"
   ]
  },
  {
   "cell_type": "code",
   "execution_count": 30,
   "id": "c08f2909",
   "metadata": {
    "hidden": true
   },
   "outputs": [],
   "source": [
    "import tensorflow as tf\n",
    "import tensorflow_hub as hub\n",
    "from tensorflow_docs.vis import embed\n",
    "import numpy as np\n",
    "import cv2\n",
    "import os\n",
    "import pandas as pd\n",
    "\n",
    "# Import matplotlib libraries\n",
    "from matplotlib import pyplot as plt\n",
    "from matplotlib.collections import LineCollection\n",
    "import matplotlib.patches as patches\n",
    "\n",
    "# Some modules to display an animation using imageio.\n",
    "import imageio\n",
    "from IPython.display import HTML, display\n"
   ]
  },
  {
   "cell_type": "code",
   "execution_count": 31,
   "id": "15669a20",
   "metadata": {
    "hidden": true
   },
   "outputs": [],
   "source": [
    "# Model Initialization\n",
    "model_name = \"movenet_lightning\"\n",
    "module = hub.load(\"https://tfhub.dev/google/movenet/singlepose/lightning/4\")\n",
    "input_size = 192\n",
    "model = module.signatures['serving_default']\n"
   ]
  },
  {
   "cell_type": "code",
   "execution_count": 32,
   "id": "ba355726",
   "metadata": {
    "hidden": true
   },
   "outputs": [
    {
     "name": "stderr",
     "output_type": "stream",
     "text": [
      "2023-11-23 17:36:59.496676: W tensorflow/core/framework/op_kernel.cc:1839] OP_REQUIRES failed at whole_file_read_ops.cc:116 : NOT_FOUND: ../clean/00000320.jpg; No such file or directory\n"
     ]
    },
    {
     "ename": "NotFoundError",
     "evalue": "{{function_node __wrapped__ReadFile_device_/job:localhost/replica:0/task:0/device:CPU:0}} ../clean/00000320.jpg; No such file or directory [Op:ReadFile]",
     "output_type": "error",
     "traceback": [
      "\u001b[0;31m---------------------------------------------------------------------------\u001b[0m",
      "\u001b[0;31mNotFoundError\u001b[0m                             Traceback (most recent call last)",
      "Cell \u001b[0;32mIn [32], line 4\u001b[0m\n\u001b[1;32m      1\u001b[0m \u001b[38;5;66;03m# Choose image file and preprocess\u001b[39;00m\n\u001b[1;32m      3\u001b[0m image_path \u001b[38;5;241m=\u001b[39m \u001b[38;5;124m\"\u001b[39m\u001b[38;5;124m../clean/00000320.jpg\u001b[39m\u001b[38;5;124m\"\u001b[39m\n\u001b[0;32m----> 4\u001b[0m image \u001b[38;5;241m=\u001b[39m \u001b[43mtf\u001b[49m\u001b[38;5;241;43m.\u001b[39;49m\u001b[43mio\u001b[49m\u001b[38;5;241;43m.\u001b[39;49m\u001b[43mread_file\u001b[49m\u001b[43m(\u001b[49m\u001b[43mimage_path\u001b[49m\u001b[43m)\u001b[49m\n\u001b[1;32m      5\u001b[0m image \u001b[38;5;241m=\u001b[39m tf\u001b[38;5;241m.\u001b[39mimage\u001b[38;5;241m.\u001b[39mdecode_jpeg(image)\n\u001b[1;32m      7\u001b[0m \u001b[38;5;66;03m# Resize and pad the image to keep the aspect ratio and fit the expected size.\u001b[39;00m\n",
      "File \u001b[0;32m~/.pyenv/versions/3.10.6/envs/hathaproject/lib/python3.10/site-packages/tensorflow/python/ops/io_ops.py:134\u001b[0m, in \u001b[0;36mread_file\u001b[0;34m(filename, name)\u001b[0m\n\u001b[1;32m     97\u001b[0m \u001b[38;5;129m@tf_export\u001b[39m(\u001b[38;5;124m\"\u001b[39m\u001b[38;5;124mio.read_file\u001b[39m\u001b[38;5;124m\"\u001b[39m, v1\u001b[38;5;241m=\u001b[39m[\u001b[38;5;124m\"\u001b[39m\u001b[38;5;124mio.read_file\u001b[39m\u001b[38;5;124m\"\u001b[39m, \u001b[38;5;124m\"\u001b[39m\u001b[38;5;124mread_file\u001b[39m\u001b[38;5;124m\"\u001b[39m])\n\u001b[1;32m     98\u001b[0m \u001b[38;5;28;01mdef\u001b[39;00m \u001b[38;5;21mread_file\u001b[39m(filename, name\u001b[38;5;241m=\u001b[39m\u001b[38;5;28;01mNone\u001b[39;00m):\n\u001b[1;32m     99\u001b[0m   \u001b[38;5;124;03m\"\"\"Reads the contents of file.\u001b[39;00m\n\u001b[1;32m    100\u001b[0m \n\u001b[1;32m    101\u001b[0m \u001b[38;5;124;03m  This operation returns a tensor with the entire contents of the input\u001b[39;00m\n\u001b[0;32m   (...)\u001b[0m\n\u001b[1;32m    132\u001b[0m \u001b[38;5;124;03m    A tensor of dtype \"string\", with the file contents.\u001b[39;00m\n\u001b[1;32m    133\u001b[0m \u001b[38;5;124;03m  \"\"\"\u001b[39;00m\n\u001b[0;32m--> 134\u001b[0m   \u001b[38;5;28;01mreturn\u001b[39;00m \u001b[43mgen_io_ops\u001b[49m\u001b[38;5;241;43m.\u001b[39;49m\u001b[43mread_file\u001b[49m\u001b[43m(\u001b[49m\u001b[43mfilename\u001b[49m\u001b[43m,\u001b[49m\u001b[43m \u001b[49m\u001b[43mname\u001b[49m\u001b[43m)\u001b[49m\n",
      "File \u001b[0;32m~/.pyenv/versions/3.10.6/envs/hathaproject/lib/python3.10/site-packages/tensorflow/python/ops/gen_io_ops.py:583\u001b[0m, in \u001b[0;36mread_file\u001b[0;34m(filename, name)\u001b[0m\n\u001b[1;32m    581\u001b[0m   \u001b[38;5;28;01mpass\u001b[39;00m\n\u001b[1;32m    582\u001b[0m \u001b[38;5;28;01mtry\u001b[39;00m:\n\u001b[0;32m--> 583\u001b[0m   \u001b[38;5;28;01mreturn\u001b[39;00m \u001b[43mread_file_eager_fallback\u001b[49m\u001b[43m(\u001b[49m\n\u001b[1;32m    584\u001b[0m \u001b[43m      \u001b[49m\u001b[43mfilename\u001b[49m\u001b[43m,\u001b[49m\u001b[43m \u001b[49m\u001b[43mname\u001b[49m\u001b[38;5;241;43m=\u001b[39;49m\u001b[43mname\u001b[49m\u001b[43m,\u001b[49m\u001b[43m \u001b[49m\u001b[43mctx\u001b[49m\u001b[38;5;241;43m=\u001b[39;49m\u001b[43m_ctx\u001b[49m\u001b[43m)\u001b[49m\n\u001b[1;32m    585\u001b[0m \u001b[38;5;28;01mexcept\u001b[39;00m _core\u001b[38;5;241m.\u001b[39m_SymbolicException:\n\u001b[1;32m    586\u001b[0m   \u001b[38;5;28;01mpass\u001b[39;00m  \u001b[38;5;66;03m# Add nodes to the TensorFlow graph.\u001b[39;00m\n",
      "File \u001b[0;32m~/.pyenv/versions/3.10.6/envs/hathaproject/lib/python3.10/site-packages/tensorflow/python/ops/gen_io_ops.py:606\u001b[0m, in \u001b[0;36mread_file_eager_fallback\u001b[0;34m(filename, name, ctx)\u001b[0m\n\u001b[1;32m    604\u001b[0m _inputs_flat \u001b[38;5;241m=\u001b[39m [filename]\n\u001b[1;32m    605\u001b[0m _attrs \u001b[38;5;241m=\u001b[39m \u001b[38;5;28;01mNone\u001b[39;00m\n\u001b[0;32m--> 606\u001b[0m _result \u001b[38;5;241m=\u001b[39m \u001b[43m_execute\u001b[49m\u001b[38;5;241;43m.\u001b[39;49m\u001b[43mexecute\u001b[49m\u001b[43m(\u001b[49m\u001b[38;5;124;43mb\u001b[39;49m\u001b[38;5;124;43m\"\u001b[39;49m\u001b[38;5;124;43mReadFile\u001b[39;49m\u001b[38;5;124;43m\"\u001b[39;49m\u001b[43m,\u001b[49m\u001b[43m \u001b[49m\u001b[38;5;241;43m1\u001b[39;49m\u001b[43m,\u001b[49m\u001b[43m \u001b[49m\u001b[43minputs\u001b[49m\u001b[38;5;241;43m=\u001b[39;49m\u001b[43m_inputs_flat\u001b[49m\u001b[43m,\u001b[49m\n\u001b[1;32m    607\u001b[0m \u001b[43m                           \u001b[49m\u001b[43mattrs\u001b[49m\u001b[38;5;241;43m=\u001b[39;49m\u001b[43m_attrs\u001b[49m\u001b[43m,\u001b[49m\u001b[43m \u001b[49m\u001b[43mctx\u001b[49m\u001b[38;5;241;43m=\u001b[39;49m\u001b[43mctx\u001b[49m\u001b[43m,\u001b[49m\u001b[43m \u001b[49m\u001b[43mname\u001b[49m\u001b[38;5;241;43m=\u001b[39;49m\u001b[43mname\u001b[49m\u001b[43m)\u001b[49m\n\u001b[1;32m    608\u001b[0m \u001b[38;5;28;01mif\u001b[39;00m _execute\u001b[38;5;241m.\u001b[39mmust_record_gradient():\n\u001b[1;32m    609\u001b[0m   _execute\u001b[38;5;241m.\u001b[39mrecord_gradient(\n\u001b[1;32m    610\u001b[0m       \u001b[38;5;124m\"\u001b[39m\u001b[38;5;124mReadFile\u001b[39m\u001b[38;5;124m\"\u001b[39m, _inputs_flat, _attrs, _result)\n",
      "File \u001b[0;32m~/.pyenv/versions/3.10.6/envs/hathaproject/lib/python3.10/site-packages/tensorflow/python/eager/execute.py:53\u001b[0m, in \u001b[0;36mquick_execute\u001b[0;34m(op_name, num_outputs, inputs, attrs, ctx, name)\u001b[0m\n\u001b[1;32m     51\u001b[0m \u001b[38;5;28;01mtry\u001b[39;00m:\n\u001b[1;32m     52\u001b[0m   ctx\u001b[38;5;241m.\u001b[39mensure_initialized()\n\u001b[0;32m---> 53\u001b[0m   tensors \u001b[38;5;241m=\u001b[39m \u001b[43mpywrap_tfe\u001b[49m\u001b[38;5;241;43m.\u001b[39;49m\u001b[43mTFE_Py_Execute\u001b[49m\u001b[43m(\u001b[49m\u001b[43mctx\u001b[49m\u001b[38;5;241;43m.\u001b[39;49m\u001b[43m_handle\u001b[49m\u001b[43m,\u001b[49m\u001b[43m \u001b[49m\u001b[43mdevice_name\u001b[49m\u001b[43m,\u001b[49m\u001b[43m \u001b[49m\u001b[43mop_name\u001b[49m\u001b[43m,\u001b[49m\n\u001b[1;32m     54\u001b[0m \u001b[43m                                      \u001b[49m\u001b[43minputs\u001b[49m\u001b[43m,\u001b[49m\u001b[43m \u001b[49m\u001b[43mattrs\u001b[49m\u001b[43m,\u001b[49m\u001b[43m \u001b[49m\u001b[43mnum_outputs\u001b[49m\u001b[43m)\u001b[49m\n\u001b[1;32m     55\u001b[0m \u001b[38;5;28;01mexcept\u001b[39;00m core\u001b[38;5;241m.\u001b[39m_NotOkStatusException \u001b[38;5;28;01mas\u001b[39;00m e:\n\u001b[1;32m     56\u001b[0m   \u001b[38;5;28;01mif\u001b[39;00m name \u001b[38;5;129;01mis\u001b[39;00m \u001b[38;5;129;01mnot\u001b[39;00m \u001b[38;5;28;01mNone\u001b[39;00m:\n",
      "\u001b[0;31mNotFoundError\u001b[0m: {{function_node __wrapped__ReadFile_device_/job:localhost/replica:0/task:0/device:CPU:0}} ../clean/00000320.jpg; No such file or directory [Op:ReadFile]"
     ]
    }
   ],
   "source": [
    "# Choose image file and preprocess\n",
    "\n",
    "image_path = \"../clean/00000320.jpg\"\n",
    "image = tf.io.read_file(image_path)\n",
    "image = tf.image.decode_jpeg(image)\n",
    "\n",
    "# Resize and pad the image to keep the aspect ratio and fit the expected size.\n",
    "input_image = tf.expand_dims(image, axis=0)\n",
    "input_image = tf.image.resize_with_pad(input_image, input_size, input_size)\n"
   ]
  },
  {
   "cell_type": "code",
   "execution_count": null,
   "id": "6268b988",
   "metadata": {
    "hidden": true
   },
   "outputs": [],
   "source": [
    "# Detect landmarks on image\n",
    "model = module.signatures[\"serving_default\"]\n",
    "input_image = tf.cast(input_image, dtype=tf.int32)\n",
    "input_image = input_image[..., :3]\n",
    "outputs = model(input_image)\n",
    "\n",
    "# 1D array of xyz coordinates. X1, Y1, Z1, X2, ... , Yn, Zn format\n",
    "xyz = outputs[\"output_0\"].numpy().reshape(51).tolist()\n"
   ]
  },
  {
   "cell_type": "code",
   "execution_count": null,
   "id": "0937c47a",
   "metadata": {
    "hidden": true
   },
   "outputs": [],
   "source": [
    "# Helper method for drawing landmarks\n",
    "def draw_prediction_on_image(\n",
    "    image, keypoints_with_scores, crop_region=None, close_figure=False,\n",
    "    output_image_height=None):\n",
    "  \"\"\"Draws the keypoint predictions on image.\n",
    "\n",
    "  Args:\n",
    "    image: A numpy array with shape [height, width, channel] representing the\n",
    "      pixel values of the input image.\n",
    "    keypoints_with_scores: A numpy array with shape [1, 1, 17, 3] representing\n",
    "      the keypoint coordinates and scores returned from the MoveNet model.\n",
    "    crop_region: A dictionary that defines the coordinates of the bounding box\n",
    "      of the crop region in normalized coordinates (see the init_crop_region\n",
    "      function below for more detail). If provided, this function will also\n",
    "      draw the bounding box on the image.\n",
    "    output_image_height: An integer indicating the height of the output image.\n",
    "      Note that the image aspect ratio will be the same as the input image.\n",
    "\n",
    "  Returns:\n",
    "    A numpy array with shape [out_height, out_width, channel] representing the\n",
    "    image overlaid with keypoint predictions.\n",
    "  \"\"\"\n",
    "  height, width, channel = image.shape\n",
    "  aspect_ratio = float(width) / height\n",
    "  fig, ax = plt.subplots(figsize=(12 * aspect_ratio, 12))\n",
    "  # To remove the huge white borders\n",
    "  fig.tight_layout(pad=0)\n",
    "  ax.margins(0)\n",
    "  ax.set_yticklabels([])\n",
    "  ax.set_xticklabels([])\n",
    "  plt.axis('off')\n",
    "\n",
    "  im = ax.imshow(image)\n",
    "  line_segments = LineCollection([], linewidths=(4), linestyle='solid')\n",
    "  ax.add_collection(line_segments)\n",
    "  # Turn off tick labels\n",
    "  scat = ax.scatter([], [], s=60, color='#FF1493', zorder=3)\n",
    "\n",
    "  (keypoint_locs, keypoint_edges,\n",
    "   edge_colors) = _keypoints_and_edges_for_display(\n",
    "       keypoints_with_scores, height, width)\n",
    "\n",
    "  line_segments.set_segments(keypoint_edges)\n",
    "  line_segments.set_color(edge_colors)\n",
    "  if keypoint_edges.shape[0]:\n",
    "    line_segments.set_segments(keypoint_edges)\n",
    "    line_segments.set_color(edge_colors)\n",
    "  if keypoint_locs.shape[0]:\n",
    "    scat.set_offsets(keypoint_locs)\n",
    "\n",
    "  if crop_region is not None:\n",
    "    xmin = max(crop_region['x_min'] * width, 0.0)\n",
    "    ymin = max(crop_region['y_min'] * height, 0.0)\n",
    "    rec_width = min(crop_region['x_max'], 0.99) * width - xmin\n",
    "    rec_height = min(crop_region['y_max'], 0.99) * height - ymin\n",
    "    rect = patches.Rectangle(\n",
    "        (xmin,ymin),rec_width,rec_height,\n",
    "        linewidth=1,edgecolor='b',facecolor='none')\n",
    "    ax.add_patch(rect)\n",
    "\n",
    "  fig.canvas.draw()\n",
    "  image_from_plot = np.frombuffer(fig.canvas.tostring_rgb(), dtype=np.uint8)\n",
    "  image_from_plot = image_from_plot.reshape(\n",
    "      fig.canvas.get_width_height()[::-1] + (3,))\n",
    "  plt.close(fig)\n",
    "  if output_image_height is not None:\n",
    "    output_image_width = int(output_image_height / height * width)\n",
    "    image_from_plot = cv2.resize(\n",
    "        image_from_plot, dsize=(output_image_width, output_image_height),\n",
    "         interpolation=cv2.INTER_CUBIC)\n",
    "  return image_from_plot\n"
   ]
  },
  {
   "cell_type": "code",
   "execution_count": null,
   "id": "1ead7d84",
   "metadata": {
    "hidden": true
   },
   "outputs": [],
   "source": [
    "# Get list of image file names in given directory\n",
    "dir_path_train_dd = \"../clean\"\n",
    "file_names = []\n",
    "for entry in os.listdir(dir_path_train_dd):\n",
    "    file_names.append(entry)\n"
   ]
  },
  {
   "cell_type": "code",
   "execution_count": null,
   "id": "1a0b3762",
   "metadata": {
    "hidden": true
   },
   "outputs": [],
   "source": [
    "# Create DF of xyz values\n",
    "df = []\n",
    "\n",
    "for file in file_names:\n",
    "    dir_path_train_dd = f\"../clean/{file}\"\n",
    "    if not file.endswith((\".jpg\", \".png\")):\n",
    "        pass\n",
    "    else:\n",
    "        print(dir_path_train_dd)\n",
    "        image = tf.io.read_file(dir_path_train_dd)\n",
    "        image = tf.image.decode_jpeg(image)\n",
    "        input_image = tf.expand_dims(image, axis=0)\n",
    "        input_image = tf.image.resize_with_pad(input_image, input_size, input_size)\n",
    "        input_image = input_image[..., :3]\n",
    "\n",
    "        model = module.signatures[\"serving_default\"]\n",
    "        input_image = tf.cast(input_image, dtype=tf.int32)\n",
    "        outputs = model(input_image)\n",
    "        df.append(outputs[\"output_0\"].numpy().reshape(51).tolist())\n"
   ]
  },
  {
   "cell_type": "code",
   "execution_count": null,
   "id": "81b696d1",
   "metadata": {
    "hidden": true
   },
   "outputs": [],
   "source": [
    "data = pd.DataFrame(df)\n"
   ]
  },
  {
   "cell_type": "code",
   "execution_count": null,
   "id": "925620e7",
   "metadata": {
    "hidden": true
   },
   "outputs": [],
   "source": [
    "data[\"label\"] = \"downdog\"\n"
   ]
  },
  {
   "cell_type": "code",
   "execution_count": null,
   "id": "d6beb828",
   "metadata": {
    "hidden": true
   },
   "outputs": [],
   "source": [
    "data.head()\n"
   ]
  },
  {
   "cell_type": "code",
   "execution_count": null,
   "id": "f57640e4",
   "metadata": {
    "hidden": true
   },
   "outputs": [],
   "source": [
    "# Create DF of xyz values\n",
    "df = []\n",
    "xyz = []\n",
    "for file in file_names:\n",
    "    dir_path_train_dd = f\"../clean/{file}\"\n",
    "    if not file.endswith((\".jpg\", \".png\")):\n",
    "        pass\n",
    "    else:\n",
    "        print(dir_path_train_dd)\n",
    "        image = tf.io.read_file(dir_path_train_dd)\n",
    "        image = tf.image.decode_jpeg(image)\n",
    "        input_image = tf.expand_dims(image, axis=0)\n",
    "        input_image = tf.image.resize_with_pad(input_image, input_size, input_size)\n",
    "        input_image = input_image[..., :3]\n",
    "\n",
    "        model = module.signatures[\"serving_default\"]\n",
    "        input_image = tf.cast(input_image, dtype=tf.int32)\n",
    "        outputs = model(input_image)\n",
    "        df.append(outputs[\"output_0\"].numpy().reshape(51).tolist())\n",
    "        xyz.append(outputs[\"output_0\"].numpy()[0][0])\n"
   ]
  },
  {
   "cell_type": "code",
   "execution_count": null,
   "id": "2a2716a6",
   "metadata": {
    "hidden": true
   },
   "outputs": [],
   "source": [
    "xyz[0]\n"
   ]
  },
  {
   "cell_type": "code",
   "execution_count": null,
   "id": "7079ee12",
   "metadata": {
    "hidden": true
   },
   "outputs": [],
   "source": [
    "xyz[8]\n"
   ]
  },
  {
   "cell_type": "markdown",
   "id": "260a7663",
   "metadata": {
    "heading_collapsed": true
   },
   "source": [
    "## Angle Calculator"
   ]
  },
  {
   "cell_type": "code",
   "execution_count": null,
   "id": "abff2100",
   "metadata": {
    "hidden": true
   },
   "outputs": [],
   "source": [
    "image_landmarks = xyz[6]\n"
   ]
  },
  {
   "cell_type": "code",
   "execution_count": null,
   "id": "23188749",
   "metadata": {
    "hidden": true
   },
   "outputs": [],
   "source": [
    "lm = image_landmarks\n",
    "lm\n"
   ]
  },
  {
   "cell_type": "code",
   "execution_count": null,
   "id": "f7beb4e4",
   "metadata": {
    "hidden": true
   },
   "outputs": [],
   "source": []
  },
  {
   "cell_type": "code",
   "execution_count": null,
   "id": "caf5412e",
   "metadata": {
    "hidden": true
   },
   "outputs": [],
   "source": [
    "KEYPOINT_DICT = {\n",
    "    'nose': 0,\n",
    "    'left_eye': 1,\n",
    "    'right_eye': 2,\n",
    "    'left_ear': 3,\n",
    "    'right_ear': 4,\n",
    "    'left_shoulder': 5,\n",
    "    'right_shoulder': 6,\n",
    "    'left_elbow': 7,\n",
    "    'right_elbow': 8,\n",
    "    'left_wrist': 9,\n",
    "    'right_wrist': 10,\n",
    "    'left_hip': 11,\n",
    "    'right_hip': 12,\n",
    "    'left_knee': 13,\n",
    "    'right_knee': 14,\n",
    "    'left_ankle': 15,\n",
    "    'right_ankle': 16\n",
    "}\n"
   ]
  },
  {
   "cell_type": "code",
   "execution_count": null,
   "id": "01607d49",
   "metadata": {
    "hidden": true
   },
   "outputs": [],
   "source": [
    "# landmark_dict = {\n",
    "#     'landmarks_left_elbow' : (lm[5], lm[7], lm[9]),\n",
    "#     'landmarks_right_elbow' : (lm[6], lm[8], lm[10]),\n",
    "#     'landmarks_left_shoulder' : (lm[7], lm[9], lm[11]),\n",
    "#     'landmarks_right_shoulder' : (lm[8], lm[10], lm[12]),\n",
    "#     'landmarks_hip_left' : (lm[5], lm[11], lm[13]),\n",
    "#     'landmarks_hip_right' : (lm[6], lm[12], lm[14]),\n",
    "#     'landmarks_left_knee' : (lm[11], lm[13], lm[15]),\n",
    "#     'landmarks_right_knee' : (lm[12], lm[14], lm[16])\n",
    "#         }\n"
   ]
  },
  {
   "cell_type": "code",
   "execution_count": null,
   "id": "b573422d",
   "metadata": {
    "hidden": true
   },
   "outputs": [],
   "source": [
    "def angle_function(lm):\n",
    "\n",
    "    landmark_dict = {\n",
    "    'landmarks_left_elbow' : (lm[5], lm[7], lm[9]),\n",
    "    'landmarks_right_elbow' : (lm[6], lm[8], lm[10]),\n",
    "    'landmarks_left_shoulder' : (lm[7], lm[9], lm[11]),\n",
    "    'landmarks_right_shoulder' : (lm[8], lm[10], lm[12]),\n",
    "    'landmarks_hip_left' : (lm[5], lm[11], lm[13]),\n",
    "    'landmarks_hip_right' : (lm[6], lm[12], lm[14]),\n",
    "    'landmarks_left_knee' : (lm[11], lm[13], lm[15]),\n",
    "    'landmarks_right_knee' : (lm[12], lm[14], lm[16])\n",
    "        }\n",
    "\n",
    "    def angle_calculator(landmarks):\n",
    "\n",
    "        # Converting the points into numpy arrays\n",
    "        p1 = np.array(landmarks[0])\n",
    "        p2 = np.array(landmarks[1])\n",
    "        p3 = np.array(landmarks[2])\n",
    "\n",
    "        # Creating the Vectors between two points\n",
    "        vec_p1 = p1-p2\n",
    "        vec_p2 = p3-p2\n",
    "\n",
    "        # Calculating the cosine of the angle\n",
    "        cosine_angle = np.dot(vec_p1,vec_p2) / (np.linalg.norm(vec_p1)*np.linalg.norm(vec_p2))\n",
    "\n",
    "        # Calculating angle\n",
    "        angle = np.arccos(cosine_angle)\n",
    "\n",
    "        # Calculating degrees\n",
    "        angle_degrees = np.degrees(angle)\n",
    "\n",
    "        return angle_degrees\n",
    "\n",
    "    angle_name_list = ['angle_elbow_left',\n",
    "                   'angle_elbow_right',\n",
    "                   'angle_shoulder_left',\n",
    "                   'angle_shoulder_right',\n",
    "                   'angle_hip_left',\n",
    "                   'angle_hip_right',\n",
    "                   'angle_knee_left',\n",
    "                   'angle_knee_right',\n",
    "                  ]\n",
    "\n",
    "    angle_dict = {}\n",
    "\n",
    "    for dictkey, listkey in zip(landmark_dict, angle_name_list):\n",
    "        i = angle_calculator(landmark_dict[dictkey])\n",
    "        angle_dict[listkey] = i\n",
    "\n",
    "    angle_list = [angle_dict[key] for key in angle_dict]\n",
    "\n",
    "    return angle_dict, angle_list\n"
   ]
  },
  {
   "cell_type": "code",
   "execution_count": null,
   "id": "4169293e",
   "metadata": {
    "hidden": true
   },
   "outputs": [],
   "source": [
    "angle_left_elbow = angle_calculator(landmark_dict['landmarks_left_elbow'])\n",
    "angle_left_elbow\n"
   ]
  },
  {
   "cell_type": "code",
   "execution_count": null,
   "id": "a4d05c36",
   "metadata": {
    "hidden": true
   },
   "outputs": [],
   "source": [
    "angle_dict = angle_function(lm)[0]\n"
   ]
  },
  {
   "cell_type": "code",
   "execution_count": null,
   "id": "18b289f2",
   "metadata": {
    "hidden": true
   },
   "outputs": [],
   "source": [
    "angle_list = angle_function(lm)[1]\n"
   ]
  },
  {
   "cell_type": "code",
   "execution_count": null,
   "id": "01bce7ab",
   "metadata": {
    "hidden": true
   },
   "outputs": [],
   "source": [
    "# angle_name_list = ['angle_elbow_left',\n",
    "#                    'angle_elbow_right',\n",
    "#                    'angle_shoulder_left',\n",
    "#                    'angle_shoulder_right',\n",
    "#                    'angle_hip_left',\n",
    "#                    'angle_hip_right',\n",
    "#                    'angle_knee_left',\n",
    "#                    'angle_knee_right',\n",
    "#                   ]\n"
   ]
  },
  {
   "cell_type": "code",
   "execution_count": null,
   "id": "d971538c",
   "metadata": {
    "hidden": true
   },
   "outputs": [],
   "source": [
    "# angle_dict = {}\n"
   ]
  },
  {
   "cell_type": "code",
   "execution_count": null,
   "id": "ca53d37c",
   "metadata": {
    "hidden": true
   },
   "outputs": [],
   "source": [
    "# for dictkey, listkey in zip(landmark_dict, angle_name_list):\n",
    "#     i = angle_calculator(landmark_dict[dictkey])\n",
    "#     angle_dict[listkey] = i\n"
   ]
  },
  {
   "cell_type": "code",
   "execution_count": null,
   "id": "d317a464",
   "metadata": {
    "hidden": true
   },
   "outputs": [],
   "source": [
    "angle_dict\n"
   ]
  },
  {
   "cell_type": "markdown",
   "id": "6edbced8",
   "metadata": {
    "hidden": true
   },
   "source": [
    "These are the angles we need!"
   ]
  },
  {
   "cell_type": "code",
   "execution_count": null,
   "id": "753d5e44",
   "metadata": {
    "hidden": true
   },
   "outputs": [],
   "source": [
    "# angle_list = [angle_dict[key] for key in angle_dict]\n"
   ]
  },
  {
   "cell_type": "code",
   "execution_count": null,
   "id": "48ce336d",
   "metadata": {
    "hidden": true
   },
   "outputs": [],
   "source": [
    "angle_list\n"
   ]
  },
  {
   "cell_type": "code",
   "execution_count": null,
   "id": "135ee6d1",
   "metadata": {
    "hidden": true
   },
   "outputs": [],
   "source": [
    "xyz\n"
   ]
  },
  {
   "cell_type": "code",
   "execution_count": null,
   "id": "b5e51669",
   "metadata": {
    "hidden": true
   },
   "outputs": [],
   "source": [
    "lst = []\n",
    "lst\n"
   ]
  },
  {
   "cell_type": "markdown",
   "id": "83cd18a3",
   "metadata": {
    "heading_collapsed": true
   },
   "source": [
    "## Angle Comparison Tool"
   ]
  },
  {
   "cell_type": "code",
   "execution_count": null,
   "id": "8207d00f",
   "metadata": {
    "hidden": true
   },
   "outputs": [],
   "source": [
    "lst = []\n",
    "for x in xyz:\n",
    "    lst.append(angle_function(x)[1])\n"
   ]
  },
  {
   "cell_type": "code",
   "execution_count": null,
   "id": "397a5b15",
   "metadata": {
    "hidden": true
   },
   "outputs": [],
   "source": [
    "lst\n"
   ]
  },
  {
   "cell_type": "code",
   "execution_count": null,
   "id": "35eaec0f",
   "metadata": {
    "hidden": true
   },
   "outputs": [],
   "source": [
    "array = np.asarray(lst)\n"
   ]
  },
  {
   "cell_type": "code",
   "execution_count": null,
   "id": "e5905c50",
   "metadata": {
    "hidden": true
   },
   "outputs": [],
   "source": [
    "df = pd.DataFrame(lst)\n"
   ]
  },
  {
   "cell_type": "code",
   "execution_count": null,
   "id": "15914af6",
   "metadata": {
    "hidden": true
   },
   "outputs": [],
   "source": [
    "angle_name_list = ['angle_elbow_left',\n",
    "                   'angle_elbow_right',\n",
    "                   'angle_shoulder_left',\n",
    "                   'angle_shoulder_right',\n",
    "                   'angle_hip_left',\n",
    "                   'angle_hip_right',\n",
    "                   'angle_knee_left',\n",
    "                   'angle_knee_right',\n",
    "                  ]\n"
   ]
  },
  {
   "cell_type": "code",
   "execution_count": null,
   "id": "9e8eb5c2",
   "metadata": {
    "hidden": true
   },
   "outputs": [],
   "source": [
    "df.columns = angle_name_list\n"
   ]
  },
  {
   "cell_type": "code",
   "execution_count": null,
   "id": "43c222a1",
   "metadata": {
    "hidden": true
   },
   "outputs": [],
   "source": [
    "df\n"
   ]
  },
  {
   "cell_type": "markdown",
   "id": "81c5b427",
   "metadata": {},
   "source": [
    "## Angle Error"
   ]
  },
  {
   "cell_type": "code",
   "execution_count": null,
   "id": "af02ba88",
   "metadata": {},
   "outputs": [],
   "source": []
  }
 ],
 "metadata": {
  "kernelspec": {
   "display_name": "Python 3 (ipykernel)",
   "language": "python",
   "name": "python3"
  },
  "language_info": {
   "codemirror_mode": {
    "name": "ipython",
    "version": 3
   },
   "file_extension": ".py",
   "mimetype": "text/x-python",
   "name": "python",
   "nbconvert_exporter": "python",
   "pygments_lexer": "ipython3",
   "version": "3.10.6"
  },
  "toc": {
   "base_numbering": 1,
   "nav_menu": {},
   "number_sections": true,
   "sideBar": true,
   "skip_h1_title": false,
   "title_cell": "Table of Contents",
   "title_sidebar": "Contents",
   "toc_cell": false,
   "toc_position": {},
   "toc_section_display": true,
   "toc_window_display": false
  }
 },
 "nbformat": 4,
 "nbformat_minor": 5
}
