{
 "cells": [
  {
   "cell_type": "markdown",
   "id": "f7649d29-cd6c-4428-9d53-cf7822e1b1ae",
   "metadata": {},
   "source": [
    "# Dense Neural Network (NN) Exploration"
   ]
  },
  {
   "cell_type": "markdown",
   "id": "b078a245",
   "metadata": {},
   "source": [
    "In this notebook, we will lay out our approach for a Neural Network approach to predict a pose based on landmark. Additionally, we are storing out angle calculation and perspectively our angle error calculation."
   ]
  },
  {
   "cell_type": "code",
   "execution_count": 1,
   "id": "be388f9c",
   "metadata": {},
   "outputs": [],
   "source": [
    "import numpy as np\n",
    "import pandas as pd\n",
    "import matplotlib.pyplot as plt"
   ]
  },
  {
   "cell_type": "markdown",
   "id": "603927da",
   "metadata": {},
   "source": [
    "## Neural Network"
   ]
  },
  {
   "cell_type": "code",
   "execution_count": 2,
   "id": "8393c8b6",
   "metadata": {},
   "outputs": [],
   "source": [
    "import tensorflow as tf\n"
   ]
  },
  {
   "cell_type": "code",
   "execution_count": 3,
   "id": "c8fc5e43",
   "metadata": {},
   "outputs": [],
   "source": [
    "from sklearn.model_selection import train_test_split\n",
    "from sklearn.preprocessing import StandardScaler\n",
    "from tensorflow.keras.utils import to_categorical\n",
    "from tensorflow.keras import layers, Sequential\n",
    "from tensorflow.keras import models\n"
   ]
  },
  {
   "cell_type": "code",
   "execution_count": 4,
   "id": "ad1124f0",
   "metadata": {},
   "outputs": [],
   "source": [
    "from sklearn.metrics import make_scorer\n",
    "from sklearn.model_selection import StratifiedKFold\n",
    "from tensorflow.keras.callbacks import EarlyStopping\n",
    "from sklearn.metrics import accuracy_score\n",
    "from tensorflow.keras.layers import Input, Dense, GlobalMaxPooling1D, LeakyReLU\n",
    "from scikeras.wrappers import KerasClassifier\n",
    "from sklearn.model_selection import GridSearchCV, KFold, RandomizedSearchCV\n",
    "from sklearn.preprocessing import LabelEncoder, OneHotEncoder\n",
    "from tensorflow.keras.models import load_model\n",
    "import joblib"
   ]
  },
  {
   "cell_type": "code",
   "execution_count": 5,
   "id": "7956ec52",
   "metadata": {},
   "outputs": [],
   "source": [
    "from scipy.stats import uniform"
   ]
  },
  {
   "cell_type": "code",
   "execution_count": 6,
   "id": "0dbb1b8b",
   "metadata": {},
   "outputs": [],
   "source": [
    "# Load the datasets\n",
    "train_df = pd.read_csv('train_landmark_xy_raw.csv')\n",
    "val_df = pd.read_csv('val_landmark_xy_raw.csv')\n",
    "test_df = pd.read_csv('test_landmark_xy_raw.csv')"
   ]
  },
  {
   "cell_type": "code",
   "execution_count": 7,
   "id": "d573d42a",
   "metadata": {},
   "outputs": [],
   "source": [
    "X_train = train_df.iloc[:, 1:35]\n",
    "y_train = train_df['y_main']"
   ]
  },
  {
   "cell_type": "code",
   "execution_count": 8,
   "id": "816b2d20",
   "metadata": {},
   "outputs": [],
   "source": [
    "X_val = val_df.iloc[:, 1:35]\n",
    "y_val = val_df['y_main']"
   ]
  },
  {
   "cell_type": "code",
   "execution_count": 9,
   "id": "16edfed1",
   "metadata": {},
   "outputs": [],
   "source": [
    "X_test = test_df.iloc[:, 1:35]\n",
    "y_test = test_df['y_main']"
   ]
  },
  {
   "cell_type": "code",
   "execution_count": 10,
   "id": "2427c931",
   "metadata": {},
   "outputs": [
    {
     "data": {
      "text/plain": [
       "X1     0.280605\n",
       "Y1     0.479451\n",
       "X2     0.267260\n",
       "Y2     0.493526\n",
       "X3     0.267852\n",
       "Y3     0.468886\n",
       "X4     0.273852\n",
       "Y4     0.507488\n",
       "X5     0.273602\n",
       "Y5     0.458069\n",
       "X6     0.324973\n",
       "Y6     0.532455\n",
       "X7     0.328792\n",
       "Y7     0.432684\n",
       "X8     0.392967\n",
       "Y8     0.558411\n",
       "X9     0.385309\n",
       "Y9     0.415643\n",
       "X10    0.361150\n",
       "Y10    0.510094\n",
       "X11    0.342062\n",
       "Y11    0.456945\n",
       "X12    0.486885\n",
       "Y12    0.505059\n",
       "X13    0.481670\n",
       "Y13    0.448884\n",
       "X14    0.615836\n",
       "Y14    0.487272\n",
       "X15    0.552037\n",
       "Y15    0.358501\n",
       "X16    0.723398\n",
       "Y16    0.469379\n",
       "X17    0.523754\n",
       "Y17    0.451854\n",
       "Name: 85, dtype: float64"
      ]
     },
     "execution_count": 10,
     "metadata": {},
     "output_type": "execute_result"
    }
   ],
   "source": [
    "X_test.loc[85]"
   ]
  },
  {
   "cell_type": "code",
   "execution_count": 11,
   "id": "05a81218",
   "metadata": {},
   "outputs": [],
   "source": [
    "# Convert labels to numerical values\n",
    "label_mapping = {label: idx for idx, label in enumerate(np.unique(y_train))}\n",
    "y_train_numeric = np.array([label_mapping[label] for label in y_train])\n",
    "y_val_numeric = np.array([label_mapping[label] for label in y_val])\n",
    "y_test_numeric = np.array([label_mapping[label] for label in y_test])"
   ]
  },
  {
   "cell_type": "code",
   "execution_count": 12,
   "id": "9d412f1b",
   "metadata": {},
   "outputs": [
    {
     "data": {
      "text/plain": [
       "{'downdog': 0, 'goddess': 1, 'plank': 2, 'tree': 3, 'warrior2': 4}"
      ]
     },
     "execution_count": 12,
     "metadata": {},
     "output_type": "execute_result"
    }
   ],
   "source": [
    "label_mapping"
   ]
  },
  {
   "cell_type": "code",
   "execution_count": 13,
   "id": "ef0df31e",
   "metadata": {
    "scrolled": true
   },
   "outputs": [
    {
     "data": {
      "text/plain": [
       "['scaler.pkl']"
      ]
     },
     "execution_count": 13,
     "metadata": {},
     "output_type": "execute_result"
    }
   ],
   "source": [
    "# Standardize the features\n",
    "scaler = StandardScaler()\n",
    "X_train = scaler.fit_transform(X_train)\n",
    "X_val = scaler.transform(X_val)\n",
    "X_test = scaler.transform(X_test)\n",
    "\n",
    "# Saving the scaler\n",
    "joblib.dump(scaler, 'scaler.pkl')"
   ]
  },
  {
   "cell_type": "code",
   "execution_count": 14,
   "id": "f9924836",
   "metadata": {
    "scrolled": true
   },
   "outputs": [
    {
     "data": {
      "text/plain": [
       "['encoder.pkl']"
      ]
     },
     "execution_count": 14,
     "metadata": {},
     "output_type": "execute_result"
    }
   ],
   "source": [
    "# Convert labels to one-hot encoding\n",
    "y_train_one_hot = to_categorical(y_train_numeric)\n",
    "y_val_one_hot = to_categorical(y_val_numeric)\n",
    "y_test_one_hot = to_categorical(y_test_numeric)\n",
    "\n",
    "encoder = OneHotEncoder()\n",
    "\n",
    "# Saving the encoder\n",
    "joblib.dump(encoder, 'encoder.pkl')"
   ]
  },
  {
   "cell_type": "code",
   "execution_count": 15,
   "id": "ee1f6fa0",
   "metadata": {},
   "outputs": [
    {
     "data": {
      "text/plain": [
       "(535, 34)"
      ]
     },
     "execution_count": 15,
     "metadata": {},
     "output_type": "execute_result"
    }
   ],
   "source": [
    "X_train.shape"
   ]
  },
  {
   "cell_type": "code",
   "execution_count": 16,
   "id": "f78d7144",
   "metadata": {},
   "outputs": [
    {
     "name": "stderr",
     "output_type": "stream",
     "text": [
      "2023-11-24 16:25:33.319651: I metal_plugin/src/device/metal_device.cc:1154] Metal device set to: Apple M2\n",
      "2023-11-24 16:25:33.319678: I metal_plugin/src/device/metal_device.cc:296] systemMemory: 8.00 GB\n",
      "2023-11-24 16:25:33.319685: I metal_plugin/src/device/metal_device.cc:313] maxCacheSize: 2.67 GB\n",
      "2023-11-24 16:25:33.319945: I tensorflow/core/common_runtime/pluggable_device/pluggable_device_factory.cc:306] Could not identify NUMA node of platform GPU ID 0, defaulting to 0. Your kernel may not have been built with NUMA support.\n",
      "2023-11-24 16:25:33.320201: I tensorflow/core/common_runtime/pluggable_device/pluggable_device_factory.cc:272] Created TensorFlow device (/job:localhost/replica:0/task:0/device:GPU:0 with 0 MB memory) -> physical PluggableDevice (device: 0, name: METAL, pci bus id: <undefined>)\n"
     ]
    }
   ],
   "source": [
    "# Build the neural network model\n",
    "def initialize_model():\n",
    "    model = models.Sequential()\n",
    "    model.add(layers.Dense(128, input_dim=X_train.shape[1], activation='relu'))\n",
    "    model.add(layers.Dropout(0.5))\n",
    "    model.add(layers.Dense(64, activation='relu'))\n",
    "    model.add(layers.Dropout(0.5))\n",
    "#     model.add(layers.Dense(64, activation='relu'))\n",
    "#     model.add(layers.Dropout(0.5))\n",
    "#     model.add(layers.Dense(32, activation='relu'))\n",
    "#     model.add(layers.Dropout(0.5))\n",
    "    model.add(layers.Dense(len(label_mapping), activation='softmax'))\n",
    "\n",
    "    model.compile(loss='categorical_crossentropy',\n",
    "                  optimizer='adam',\n",
    "                  metrics=['accuracy'])\n",
    "\n",
    "    return model\n",
    "\n",
    "model = initialize_model()\n"
   ]
  },
  {
   "cell_type": "code",
   "execution_count": 17,
   "id": "b2e89e88",
   "metadata": {},
   "outputs": [
    {
     "name": "stdout",
     "output_type": "stream",
     "text": [
      "Epoch 1/100\n",
      " 8/17 [=============>................] - ETA: 0s - loss: 1.8310 - accuracy: 0.1484"
     ]
    },
    {
     "name": "stderr",
     "output_type": "stream",
     "text": [
      "2023-11-24 16:25:33.767824: I tensorflow/core/grappler/optimizers/custom_graph_optimizer_registry.cc:117] Plugin optimizer for device_type GPU is enabled.\n",
      "2023-11-24 16:25:33.781030: E tensorflow/core/grappler/optimizers/meta_optimizer.cc:961] PluggableGraphOptimizer failed: INVALID_ARGUMENT: Unparseable tensorflow.GraphDef proto\n"
     ]
    },
    {
     "name": "stdout",
     "output_type": "stream",
     "text": [
      "17/17 [==============================] - 1s 20ms/step - loss: 1.6172 - accuracy: 0.2766 - val_loss: 1.0321 - val_accuracy: 0.6389\n",
      "Epoch 2/100\n",
      "17/17 [==============================] - 0s 9ms/step - loss: 1.1088 - accuracy: 0.5626 - val_loss: 0.7691 - val_accuracy: 0.7569\n",
      "Epoch 3/100\n",
      "17/17 [==============================] - 0s 10ms/step - loss: 0.9105 - accuracy: 0.6636 - val_loss: 0.6127 - val_accuracy: 0.8333\n",
      "Epoch 4/100\n",
      "17/17 [==============================] - 0s 9ms/step - loss: 0.7823 - accuracy: 0.7159 - val_loss: 0.5185 - val_accuracy: 0.8333\n",
      "Epoch 5/100\n",
      "17/17 [==============================] - 0s 9ms/step - loss: 0.6402 - accuracy: 0.7589 - val_loss: 0.4429 - val_accuracy: 0.8403\n",
      "Epoch 6/100\n",
      "17/17 [==============================] - 0s 10ms/step - loss: 0.5937 - accuracy: 0.7925 - val_loss: 0.3832 - val_accuracy: 0.8403\n",
      "Epoch 7/100\n",
      "17/17 [==============================] - 0s 10ms/step - loss: 0.5534 - accuracy: 0.8019 - val_loss: 0.3520 - val_accuracy: 0.8542\n",
      "Epoch 8/100\n",
      "17/17 [==============================] - 0s 9ms/step - loss: 0.4891 - accuracy: 0.8131 - val_loss: 0.3247 - val_accuracy: 0.8681\n",
      "Epoch 9/100\n",
      "17/17 [==============================] - 0s 9ms/step - loss: 0.4542 - accuracy: 0.8355 - val_loss: 0.2906 - val_accuracy: 0.8750\n",
      "Epoch 10/100\n",
      "17/17 [==============================] - 0s 9ms/step - loss: 0.4159 - accuracy: 0.8523 - val_loss: 0.2810 - val_accuracy: 0.8681\n",
      "Epoch 11/100\n",
      "17/17 [==============================] - 0s 9ms/step - loss: 0.4034 - accuracy: 0.8617 - val_loss: 0.2441 - val_accuracy: 0.8958\n",
      "Epoch 12/100\n",
      "17/17 [==============================] - 0s 9ms/step - loss: 0.3681 - accuracy: 0.8804 - val_loss: 0.2304 - val_accuracy: 0.8750\n",
      "Epoch 13/100\n",
      "17/17 [==============================] - 0s 9ms/step - loss: 0.3279 - accuracy: 0.8897 - val_loss: 0.2159 - val_accuracy: 0.8958\n",
      "Epoch 14/100\n",
      "17/17 [==============================] - 0s 9ms/step - loss: 0.3091 - accuracy: 0.8879 - val_loss: 0.1925 - val_accuracy: 0.9236\n",
      "Epoch 15/100\n",
      "17/17 [==============================] - 0s 10ms/step - loss: 0.3087 - accuracy: 0.9028 - val_loss: 0.1814 - val_accuracy: 0.9167\n",
      "Epoch 16/100\n",
      "17/17 [==============================] - 0s 11ms/step - loss: 0.2644 - accuracy: 0.9084 - val_loss: 0.1714 - val_accuracy: 0.9306\n",
      "Epoch 17/100\n",
      "17/17 [==============================] - 0s 10ms/step - loss: 0.2731 - accuracy: 0.9084 - val_loss: 0.1554 - val_accuracy: 0.9514\n",
      "Epoch 18/100\n",
      "17/17 [==============================] - 0s 9ms/step - loss: 0.2479 - accuracy: 0.9009 - val_loss: 0.1487 - val_accuracy: 0.9514\n",
      "Epoch 19/100\n",
      "17/17 [==============================] - 0s 9ms/step - loss: 0.2383 - accuracy: 0.9234 - val_loss: 0.1357 - val_accuracy: 0.9583\n",
      "Epoch 20/100\n",
      "17/17 [==============================] - 0s 10ms/step - loss: 0.2025 - accuracy: 0.9327 - val_loss: 0.1346 - val_accuracy: 0.9375\n",
      "Epoch 21/100\n",
      "17/17 [==============================] - 0s 10ms/step - loss: 0.2149 - accuracy: 0.9402 - val_loss: 0.1206 - val_accuracy: 0.9514\n",
      "Epoch 22/100\n",
      "17/17 [==============================] - 0s 10ms/step - loss: 0.1779 - accuracy: 0.9495 - val_loss: 0.1097 - val_accuracy: 0.9722\n",
      "Epoch 23/100\n",
      "17/17 [==============================] - 0s 10ms/step - loss: 0.1887 - accuracy: 0.9551 - val_loss: 0.1091 - val_accuracy: 0.9722\n",
      "Epoch 24/100\n",
      "17/17 [==============================] - 0s 10ms/step - loss: 0.1780 - accuracy: 0.9383 - val_loss: 0.1031 - val_accuracy: 0.9514\n",
      "Epoch 25/100\n",
      "17/17 [==============================] - 0s 10ms/step - loss: 0.1675 - accuracy: 0.9570 - val_loss: 0.0962 - val_accuracy: 0.9722\n",
      "Epoch 26/100\n",
      "17/17 [==============================] - 0s 9ms/step - loss: 0.1637 - accuracy: 0.9551 - val_loss: 0.0981 - val_accuracy: 0.9722\n",
      "Epoch 27/100\n",
      "17/17 [==============================] - 0s 10ms/step - loss: 0.1566 - accuracy: 0.9514 - val_loss: 0.0803 - val_accuracy: 0.9792\n",
      "Epoch 28/100\n",
      "17/17 [==============================] - 0s 10ms/step - loss: 0.1387 - accuracy: 0.9664 - val_loss: 0.0866 - val_accuracy: 0.9792\n",
      "Epoch 29/100\n",
      "17/17 [==============================] - 0s 10ms/step - loss: 0.1485 - accuracy: 0.9570 - val_loss: 0.0812 - val_accuracy: 0.9792\n",
      "Epoch 30/100\n",
      "17/17 [==============================] - 0s 9ms/step - loss: 0.1161 - accuracy: 0.9664 - val_loss: 0.0723 - val_accuracy: 0.9792\n",
      "Epoch 31/100\n",
      "17/17 [==============================] - 0s 9ms/step - loss: 0.1351 - accuracy: 0.9626 - val_loss: 0.0719 - val_accuracy: 0.9792\n",
      "Epoch 32/100\n",
      "17/17 [==============================] - 0s 10ms/step - loss: 0.1219 - accuracy: 0.9682 - val_loss: 0.0681 - val_accuracy: 0.9792\n",
      "Epoch 33/100\n",
      "17/17 [==============================] - 0s 10ms/step - loss: 0.1246 - accuracy: 0.9645 - val_loss: 0.0631 - val_accuracy: 0.9583\n",
      "Epoch 34/100\n",
      "17/17 [==============================] - 0s 9ms/step - loss: 0.1177 - accuracy: 0.9682 - val_loss: 0.0649 - val_accuracy: 0.9792\n",
      "Epoch 35/100\n",
      "17/17 [==============================] - 0s 9ms/step - loss: 0.1074 - accuracy: 0.9664 - val_loss: 0.0638 - val_accuracy: 0.9653\n",
      "Epoch 36/100\n",
      "17/17 [==============================] - 0s 10ms/step - loss: 0.0966 - accuracy: 0.9738 - val_loss: 0.0700 - val_accuracy: 0.9653\n",
      "Epoch 37/100\n",
      "17/17 [==============================] - 0s 9ms/step - loss: 0.1060 - accuracy: 0.9682 - val_loss: 0.0637 - val_accuracy: 0.9583\n",
      "Epoch 38/100\n",
      "17/17 [==============================] - 0s 9ms/step - loss: 0.0901 - accuracy: 0.9813 - val_loss: 0.0634 - val_accuracy: 0.9653\n",
      "Epoch 39/100\n",
      "17/17 [==============================] - 0s 9ms/step - loss: 0.1054 - accuracy: 0.9682 - val_loss: 0.0556 - val_accuracy: 0.9792\n",
      "Epoch 40/100\n",
      "17/17 [==============================] - 0s 10ms/step - loss: 0.0879 - accuracy: 0.9757 - val_loss: 0.0574 - val_accuracy: 0.9653\n",
      "Epoch 41/100\n",
      "17/17 [==============================] - 0s 10ms/step - loss: 0.0911 - accuracy: 0.9738 - val_loss: 0.0532 - val_accuracy: 0.9653\n",
      "Epoch 42/100\n",
      "17/17 [==============================] - 0s 10ms/step - loss: 0.0710 - accuracy: 0.9813 - val_loss: 0.0596 - val_accuracy: 0.9583\n",
      "Epoch 43/100\n",
      "17/17 [==============================] - 0s 10ms/step - loss: 0.0746 - accuracy: 0.9757 - val_loss: 0.0545 - val_accuracy: 0.9653\n",
      "Epoch 44/100\n",
      "17/17 [==============================] - 0s 10ms/step - loss: 0.0943 - accuracy: 0.9701 - val_loss: 0.0508 - val_accuracy: 0.9653\n",
      "Epoch 45/100\n",
      "17/17 [==============================] - 0s 10ms/step - loss: 0.0757 - accuracy: 0.9738 - val_loss: 0.0585 - val_accuracy: 0.9583\n",
      "Epoch 46/100\n",
      "17/17 [==============================] - 0s 10ms/step - loss: 0.0658 - accuracy: 0.9832 - val_loss: 0.0470 - val_accuracy: 0.9861\n",
      "Epoch 47/100\n",
      "17/17 [==============================] - 0s 9ms/step - loss: 0.0816 - accuracy: 0.9776 - val_loss: 0.0485 - val_accuracy: 0.9792\n",
      "Epoch 48/100\n",
      "17/17 [==============================] - 0s 9ms/step - loss: 0.0746 - accuracy: 0.9738 - val_loss: 0.0596 - val_accuracy: 0.9583\n",
      "Epoch 49/100\n",
      "17/17 [==============================] - 0s 10ms/step - loss: 0.0643 - accuracy: 0.9813 - val_loss: 0.0544 - val_accuracy: 0.9653\n",
      "Epoch 50/100\n",
      "17/17 [==============================] - 0s 10ms/step - loss: 0.0698 - accuracy: 0.9832 - val_loss: 0.0484 - val_accuracy: 0.9792\n",
      "Epoch 51/100\n",
      "17/17 [==============================] - 0s 10ms/step - loss: 0.0749 - accuracy: 0.9757 - val_loss: 0.0551 - val_accuracy: 0.9583\n",
      "Epoch 52/100\n",
      "17/17 [==============================] - 0s 9ms/step - loss: 0.0554 - accuracy: 0.9850 - val_loss: 0.0719 - val_accuracy: 0.9583\n",
      "Epoch 53/100\n",
      "17/17 [==============================] - 0s 9ms/step - loss: 0.0625 - accuracy: 0.9813 - val_loss: 0.0525 - val_accuracy: 0.9583\n",
      "Epoch 54/100\n",
      "17/17 [==============================] - 0s 10ms/step - loss: 0.0606 - accuracy: 0.9757 - val_loss: 0.0465 - val_accuracy: 0.9792\n",
      "Epoch 55/100\n",
      "17/17 [==============================] - 0s 9ms/step - loss: 0.0571 - accuracy: 0.9813 - val_loss: 0.0503 - val_accuracy: 0.9583\n",
      "Epoch 56/100\n",
      "17/17 [==============================] - 0s 9ms/step - loss: 0.0652 - accuracy: 0.9850 - val_loss: 0.0580 - val_accuracy: 0.9583\n",
      "Epoch 57/100\n",
      "17/17 [==============================] - 0s 10ms/step - loss: 0.0553 - accuracy: 0.9888 - val_loss: 0.0532 - val_accuracy: 0.9583\n",
      "Epoch 58/100\n"
     ]
    },
    {
     "name": "stdout",
     "output_type": "stream",
     "text": [
      "17/17 [==============================] - 0s 9ms/step - loss: 0.0513 - accuracy: 0.9925 - val_loss: 0.0419 - val_accuracy: 0.9792\n",
      "Epoch 59/100\n",
      "17/17 [==============================] - 0s 9ms/step - loss: 0.0587 - accuracy: 0.9907 - val_loss: 0.0444 - val_accuracy: 0.9653\n",
      "Epoch 60/100\n",
      "17/17 [==============================] - 0s 9ms/step - loss: 0.0530 - accuracy: 0.9850 - val_loss: 0.0523 - val_accuracy: 0.9583\n",
      "Epoch 61/100\n",
      "17/17 [==============================] - 0s 10ms/step - loss: 0.0551 - accuracy: 0.9832 - val_loss: 0.0412 - val_accuracy: 0.9792\n",
      "Epoch 62/100\n",
      "17/17 [==============================] - 0s 9ms/step - loss: 0.0590 - accuracy: 0.9757 - val_loss: 0.0488 - val_accuracy: 0.9653\n",
      "Epoch 63/100\n",
      "17/17 [==============================] - 0s 10ms/step - loss: 0.0482 - accuracy: 0.9813 - val_loss: 0.0573 - val_accuracy: 0.9583\n",
      "Epoch 64/100\n",
      "17/17 [==============================] - 0s 9ms/step - loss: 0.0428 - accuracy: 0.9888 - val_loss: 0.0380 - val_accuracy: 0.9861\n",
      "Epoch 65/100\n",
      "17/17 [==============================] - 0s 9ms/step - loss: 0.0461 - accuracy: 0.9888 - val_loss: 0.0351 - val_accuracy: 0.9792\n",
      "Epoch 66/100\n",
      "17/17 [==============================] - 0s 9ms/step - loss: 0.0470 - accuracy: 0.9888 - val_loss: 0.0585 - val_accuracy: 0.9653\n"
     ]
    }
   ],
   "source": [
    "from tensorflow.keras.callbacks import EarlyStopping\n",
    "\n",
    "es = EarlyStopping(monitor='val_accuracy', patience=20)\n",
    "\n",
    "# Start training\n",
    "history = model.fit(X_train,\n",
    "                    y_train_one_hot,\n",
    "                    epochs=100,\n",
    "                    batch_size=32,\n",
    "                    validation_data=(X_val, y_val_one_hot),\n",
    "                    callbacks=[es])\n",
    "\n",
    "# # Train the model with validation data\n",
    "# history = model.fit(X_train,\n",
    "#                     y_train_one_hot,\n",
    "#                     epochs=10,\n",
    "#                     batch_size=32,\n",
    "#                     validation_data=(X_val, y_val_one_hot))\n"
   ]
  },
  {
   "cell_type": "code",
   "execution_count": 18,
   "id": "cde95bfc",
   "metadata": {
    "scrolled": false
   },
   "outputs": [
    {
     "name": "stdout",
     "output_type": "stream",
     "text": [
      "Model: \"sequential\"\n",
      "_________________________________________________________________\n",
      " Layer (type)                Output Shape              Param #   \n",
      "=================================================================\n",
      " dense (Dense)               (None, 128)               4480      \n",
      "                                                                 \n",
      " dropout (Dropout)           (None, 128)               0         \n",
      "                                                                 \n",
      " dense_1 (Dense)             (None, 64)                8256      \n",
      "                                                                 \n",
      " dropout_1 (Dropout)         (None, 64)                0         \n",
      "                                                                 \n",
      " dense_2 (Dense)             (None, 5)                 325       \n",
      "                                                                 \n",
      "=================================================================\n",
      "Total params: 13061 (51.02 KB)\n",
      "Trainable params: 13061 (51.02 KB)\n",
      "Non-trainable params: 0 (0.00 Byte)\n",
      "_________________________________________________________________\n"
     ]
    }
   ],
   "source": [
    "model.summary()\n"
   ]
  },
  {
   "cell_type": "code",
   "execution_count": 19,
   "id": "35ee592c",
   "metadata": {
    "scrolled": true
   },
   "outputs": [
    {
     "data": {
      "image/png": "[encoded data removed]",
      "text/plain": [
       "<Figure size 640x480 with 1 Axes>"
      ]
     },
     "metadata": {},
     "output_type": "display_data"
    }
   ],
   "source": [
    "# Visualize the training history to see whether you're overfitting.\n",
    "plt.plot(history.history['accuracy'])\n",
    "plt.plot(history.history['val_accuracy'])\n",
    "plt.title('Model accuracy')\n",
    "plt.ylabel('accuracy')\n",
    "plt.xlabel('epoch')\n",
    "plt.legend(['TRAIN', 'VAL'], loc='lower right')\n",
    "plt.show()\n"
   ]
  },
  {
   "cell_type": "code",
   "execution_count": 20,
   "id": "86bfc682",
   "metadata": {},
   "outputs": [],
   "source": [
    "# # Train the model with validation data\n",
    "# history = model.fit(X_train,\n",
    "#                     y_train_one_hot,\n",
    "#                     epochs=10,\n",
    "#                     batch_size=32,\n",
    "#                     validation_data=(X_val, y_val_one_hot))"
   ]
  },
  {
   "cell_type": "code",
   "execution_count": 21,
   "id": "afd3fd5b",
   "metadata": {
    "scrolled": true
   },
   "outputs": [
    {
     "data": {
      "image/png": "[encoded data removed]",
      "text/plain": [
       "<Figure size 640x480 with 1 Axes>"
      ]
     },
     "metadata": {},
     "output_type": "display_data"
    }
   ],
   "source": [
    "def plot_history(history):\n",
    "    plt.plot(history.history['val_loss'])\n",
    "    plt.title('Model loss')\n",
    "    plt.ylabel('Loss')\n",
    "    plt.xlabel('Epoch')\n",
    "    plt.show()\n",
    "\n",
    "plot_history(history)\n"
   ]
  },
  {
   "cell_type": "code",
   "execution_count": 22,
   "id": "1e3e4d2f",
   "metadata": {
    "scrolled": true
   },
   "outputs": [
    {
     "data": {
      "image/png": "[encoded data removed]",
      "text/plain": [
       "<Figure size 640x480 with 1 Axes>"
      ]
     },
     "metadata": {},
     "output_type": "display_data"
    }
   ],
   "source": [
    "def plot_history_accuracy(history):\n",
    "    plt.plot(history.history['val_accuracy'])\n",
    "    plt.title('Model accuracy')\n",
    "    plt.ylabel('Accuracy')\n",
    "    plt.xlabel('Epoch')\n",
    "    plt.show()\n",
    "\n",
    "plot_history_accuracy(history)\n"
   ]
  },
  {
   "cell_type": "code",
   "execution_count": 23,
   "id": "4de13fd7",
   "metadata": {},
   "outputs": [],
   "source": [
    "# Convert test labels to one-hot encoding\n",
    "y_test_one_hot = to_categorical(y_test_numeric)\n",
    "\n",
    "# Evaluate the model on the test set\n",
    "results = model.evaluate(X_test, y_test_one_hot, verbose=0)\n"
   ]
  },
  {
   "cell_type": "code",
   "execution_count": 24,
   "id": "f5046557",
   "metadata": {
    "scrolled": true
   },
   "outputs": [
    {
     "name": "stdout",
     "output_type": "stream",
     "text": [
      "Test Accuracy: 94.81%\n",
      "Test Loss: 0.15478172898292542\n"
     ]
    }
   ],
   "source": [
    "print(f'Test Accuracy: {results[1]*100:.2f}%')\n",
    "print(f'Test Loss: {results[0]}')\n"
   ]
  },
  {
   "cell_type": "code",
   "execution_count": 25,
   "id": "df38244d",
   "metadata": {
    "scrolled": true
   },
   "outputs": [
    {
     "data": {
      "text/plain": [
       "(154, 34)"
      ]
     },
     "execution_count": 25,
     "metadata": {},
     "output_type": "execute_result"
    }
   ],
   "source": [
    "X_test.shape"
   ]
  },
  {
   "cell_type": "code",
   "execution_count": 29,
   "id": "b64f6f6d",
   "metadata": {
    "scrolled": true
   },
   "outputs": [],
   "source": [
    "X_pred = X_test[85].reshape(1,-1)"
   ]
  },
  {
   "cell_type": "code",
   "execution_count": 31,
   "id": "765bb862",
   "metadata": {
    "scrolled": true
   },
   "outputs": [
    {
     "name": "stdout",
     "output_type": "stream",
     "text": [
      "CPU times: user 3 µs, sys: 10 µs, total: 13 µs\n",
      "Wall time: 32.9 µs\n",
      "1/1 [==============================] - 0s 12ms/step\n"
     ]
    },
    {
     "data": {
      "text/plain": [
       "array([[2.8202450e-05, 1.1891122e-03, 2.9267329e-05, 9.9758899e-01,\n",
       "        1.1644369e-03]], dtype=float32)"
      ]
     },
     "execution_count": 31,
     "metadata": {},
     "output_type": "execute_result"
    }
   ],
   "source": [
    "%time\n",
    "prediction = model.predict(X_pred)\n",
    "prediction"
   ]
  },
  {
   "cell_type": "code",
   "execution_count": 32,
   "id": "3bddad6f",
   "metadata": {},
   "outputs": [
    {
     "data": {
      "text/plain": [
       "array([3])"
      ]
     },
     "execution_count": 32,
     "metadata": {},
     "output_type": "execute_result"
    }
   ],
   "source": [
    "predict_class = np.argmax(prediction, axis = 1)\n",
    "predict_class"
   ]
  },
  {
   "cell_type": "code",
   "execution_count": 33,
   "id": "e1ff9a54",
   "metadata": {},
   "outputs": [
    {
     "data": {
      "text/plain": [
       "'tree'"
      ]
     },
     "execution_count": 33,
     "metadata": {},
     "output_type": "execute_result"
    }
   ],
   "source": [
    "predicted_class_names = [class_name for class_name, idx in label_mapping.items() if idx in predict_class]\n",
    "predicted_class_names[0]\n"
   ]
  },
  {
   "cell_type": "code",
   "execution_count": null,
   "id": "8d64210b",
   "metadata": {},
   "outputs": [],
   "source": [
    "# def plot_confusion_matrix(cm, classes,\n",
    "#                           normalize=False,\n",
    "#                           title='Confusion matrix',\n",
    "#                           cmap=plt.cm.Blues):\n",
    "#   \"\"\"Plots the confusion matrix.\"\"\"\n",
    "#   if normalize:\n",
    "#     cm = cm.astype('float') / cm.sum(axis=1)[:, np.newaxis]\n",
    "#     print(\"Normalized confusion matrix\")\n",
    "#   else:\n",
    "#     print('Confusion matrix, without normalization')\n",
    "\n",
    "#   plt.imshow(cm, interpolation='nearest', cmap=cmap)\n",
    "#   plt.title(title)\n",
    "#   plt.colorbar()\n",
    "#   tick_marks = np.arange(len(classes))\n",
    "#   plt.xticks(tick_marks, classes, rotation=55)\n",
    "#   plt.yticks(tick_marks, classes)\n",
    "#   fmt = '.2f' if normalize else 'd'\n",
    "#   thresh = cm.max() / 2.\n",
    "#   for i, j in itertools.product(range(cm.shape[0]), range(cm.shape[1])):\n",
    "#     plt.text(j, i, format(cm[i, j], fmt),\n",
    "#               horizontalalignment=\"center\",\n",
    "#               color=\"white\" if cm[i, j] > thresh else \"black\")\n",
    "\n",
    "#   plt.ylabel('True label')\n",
    "#   plt.xlabel('Predicted label')\n",
    "#   plt.tight_layout()\n",
    "\n",
    "# # Classify pose in the TEST dataset using the trained model\n",
    "# y_pred = model.predict(X_test)\n",
    "\n",
    "# # Convert the prediction result to class name\n",
    "# y_pred_label = [predict_class[i] for i in np.argmax(y_pred, axis=1)]\n",
    "# y_true_label = [predict_class[i] for i in np.argmax(y_test, axis=1)]\n",
    "\n",
    "# # Plot the confusion matrix\n",
    "# cm = confusion_matrix(np.argmax(y_test, axis=1), np.argmax(y_pred, axis=1))\n",
    "# plot_confusion_matrix(cm,\n",
    "#                       class_names,\n",
    "#                       title ='Confusion Matrix of Pose Classification Model')\n",
    "\n",
    "# # Print the classification report\n",
    "# print('\\nClassification Report:\\n', classification_report(y_true_label,\n",
    "#                                                           y_pred_label))\n"
   ]
  },
  {
   "cell_type": "code",
   "execution_count": null,
   "id": "7d87e90b",
   "metadata": {
    "scrolled": true
   },
   "outputs": [],
   "source": [
    "model.save('24112023_model.h5')  # Save the entire model"
   ]
  },
  {
   "cell_type": "code",
   "execution_count": null,
   "id": "62f4833f",
   "metadata": {},
   "outputs": [],
   "source": [
    "model.save('24112023_model.keras')  # Save the entire model"
   ]
  }
 ],
 "metadata": {
  "kernelspec": {
   "display_name": "Python 3 (ipykernel)",
   "language": "python",
   "name": "python3"
  },
  "language_info": {
   "codemirror_mode": {
    "name": "ipython",
    "version": 3
   },
   "file_extension": ".py",
   "mimetype": "text/x-python",
   "name": "python",
   "nbconvert_exporter": "python",
   "pygments_lexer": "ipython3",
   "version": "3.10.6"
  },
  "toc": {
   "base_numbering": 1,
   "nav_menu": {},
   "number_sections": true,
   "sideBar": true,
   "skip_h1_title": false,
   "title_cell": "Table of Contents",
   "title_sidebar": "Contents",
   "toc_cell": false,
   "toc_position": {},
   "toc_section_display": true,
   "toc_window_display": false
  }
 },
 "nbformat": 4,
 "nbformat_minor": 5
}
