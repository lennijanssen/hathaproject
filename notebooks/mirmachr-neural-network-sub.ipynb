{
 "cells": [
  {
   "cell_type": "markdown",
   "id": "f7649d29-cd6c-4428-9d53-cf7822e1b1ae",
   "metadata": {},
   "source": [
    "# Dense Neural Network (NN) Exploration"
   ]
  },
  {
   "cell_type": "markdown",
   "id": "b078a245",
   "metadata": {},
   "source": [
    "In this notebook, we will lay out our approach for a Neural Network approach to predict a pose based on landmark. Additionally, we are storing out angle calculation and perspectively our angle error calculation."
   ]
  },
  {
   "cell_type": "code",
   "execution_count": 1,
   "id": "be388f9c",
   "metadata": {},
   "outputs": [],
   "source": [
    "import numpy as np\n",
    "import pandas as pd\n",
    "import matplotlib.pyplot as plt"
   ]
  },
  {
   "cell_type": "markdown",
   "id": "603927da",
   "metadata": {},
   "source": [
    "## Neural Network"
   ]
  },
  {
   "cell_type": "code",
   "execution_count": 2,
   "id": "8393c8b6",
   "metadata": {},
   "outputs": [],
   "source": [
    "import tensorflow as tf\n"
   ]
  },
  {
   "cell_type": "code",
   "execution_count": 3,
   "id": "c8fc5e43",
   "metadata": {},
   "outputs": [],
   "source": [
    "from sklearn.model_selection import train_test_split\n",
    "from sklearn.preprocessing import StandardScaler\n",
    "from tensorflow.keras.utils import to_categorical\n",
    "from tensorflow.keras import layers, Sequential\n",
    "from tensorflow.keras import models\n"
   ]
  },
  {
   "cell_type": "code",
   "execution_count": 4,
   "id": "ad1124f0",
   "metadata": {},
   "outputs": [],
   "source": [
    "from sklearn.metrics import make_scorer\n",
    "from sklearn.model_selection import StratifiedKFold\n",
    "from tensorflow.keras.callbacks import EarlyStopping\n",
    "from sklearn.metrics import accuracy_score\n",
    "from tensorflow.keras.layers import Input, Dense, GlobalMaxPooling1D, LeakyReLU\n",
    "from scikeras.wrappers import KerasClassifier\n",
    "from sklearn.model_selection import GridSearchCV, KFold, RandomizedSearchCV\n",
    "from sklearn.preprocessing import LabelEncoder, OneHotEncoder\n",
    "from tensorflow.keras.models import load_model\n",
    "import joblib"
   ]
  },
  {
   "cell_type": "code",
   "execution_count": 5,
   "id": "7956ec52",
   "metadata": {},
   "outputs": [],
   "source": [
    "from scipy.stats import uniform"
   ]
  },
  {
   "cell_type": "code",
   "execution_count": 6,
   "id": "0dbb1b8b",
   "metadata": {},
   "outputs": [],
   "source": [
    "# Load the datasets\n",
    "train_df = pd.read_csv('train_landmark_xy_raw.csv')\n",
    "val_df = pd.read_csv('val_landmark_xy_raw.csv')\n",
    "test_df = pd.read_csv('test_landmark_xy_raw.csv')"
   ]
  },
  {
   "cell_type": "code",
   "execution_count": 7,
   "id": "b01fe04d",
   "metadata": {},
   "outputs": [],
   "source": [
    "X_train = train_df.iloc[:, 1:35]\n",
    "y_train = train_df['y_sub']"
   ]
  },
  {
   "cell_type": "code",
   "execution_count": 8,
   "id": "816b2d20",
   "metadata": {},
   "outputs": [],
   "source": [
    "X_val = val_df.iloc[:, 1:35]\n",
    "y_val = val_df['y_sub']"
   ]
  },
  {
   "cell_type": "code",
   "execution_count": 9,
   "id": "16edfed1",
   "metadata": {},
   "outputs": [],
   "source": [
    "X_test = test_df.iloc[:, 1:35]\n",
    "y_test = test_df['y_sub']"
   ]
  },
  {
   "cell_type": "code",
   "execution_count": 10,
   "id": "05a81218",
   "metadata": {},
   "outputs": [],
   "source": [
    "# Convert labels to numerical values\n",
    "label_mapping = {label: idx for idx, label in enumerate(np.unique(y_train))}\n",
    "y_train_numeric = np.array([label_mapping[label] for label in y_train])\n",
    "y_val_numeric = np.array([label_mapping[label] for label in y_val])\n",
    "y_test_numeric = np.array([label_mapping[label] for label in y_test])"
   ]
  },
  {
   "cell_type": "code",
   "execution_count": 11,
   "id": "ef0df31e",
   "metadata": {
    "scrolled": true
   },
   "outputs": [
    {
     "data": {
      "text/plain": [
       "['scaler.pkl']"
      ]
     },
     "execution_count": 11,
     "metadata": {},
     "output_type": "execute_result"
    }
   ],
   "source": [
    "# Standardize the features\n",
    "scaler = StandardScaler()\n",
    "X_train = scaler.fit_transform(X_train)\n",
    "X_val = scaler.transform(X_val)\n",
    "X_test = scaler.transform(X_test)\n",
    "\n",
    "# Saving the scaler\n",
    "joblib.dump(scaler, 'scaler.pkl')"
   ]
  },
  {
   "cell_type": "code",
   "execution_count": 12,
   "id": "f9924836",
   "metadata": {},
   "outputs": [
    {
     "data": {
      "text/plain": [
       "['encoder.pkl']"
      ]
     },
     "execution_count": 12,
     "metadata": {},
     "output_type": "execute_result"
    }
   ],
   "source": [
    "# Convert labels to one-hot encoding\n",
    "y_train_one_hot = to_categorical(y_train_numeric)\n",
    "y_val_one_hot = to_categorical(y_val_numeric)\n",
    "y_test_one_hot = to_categorical(y_test_numeric)\n",
    "\n",
    "encoder = OneHotEncoder()\n",
    "\n",
    "# Saving the encoder\n",
    "joblib.dump(encoder, 'encoder.pkl')"
   ]
  },
  {
   "cell_type": "code",
   "execution_count": 13,
   "id": "f78d7144",
   "metadata": {},
   "outputs": [
    {
     "name": "stderr",
     "output_type": "stream",
     "text": [
      "2023-11-24 14:52:04.967680: I metal_plugin/src/device/metal_device.cc:1154] Metal device set to: Apple M2\n",
      "2023-11-24 14:52:04.967698: I metal_plugin/src/device/metal_device.cc:296] systemMemory: 8.00 GB\n",
      "2023-11-24 14:52:04.967705: I metal_plugin/src/device/metal_device.cc:313] maxCacheSize: 2.67 GB\n",
      "2023-11-24 14:52:04.967731: I tensorflow/core/common_runtime/pluggable_device/pluggable_device_factory.cc:306] Could not identify NUMA node of platform GPU ID 0, defaulting to 0. Your kernel may not have been built with NUMA support.\n",
      "2023-11-24 14:52:04.967744: I tensorflow/core/common_runtime/pluggable_device/pluggable_device_factory.cc:272] Created TensorFlow device (/job:localhost/replica:0/task:0/device:GPU:0 with 0 MB memory) -> physical PluggableDevice (device: 0, name: METAL, pci bus id: <undefined>)\n"
     ]
    }
   ],
   "source": [
    "# Build the neural network model\n",
    "def initialize_model():\n",
    "    model = models.Sequential()\n",
    "    model.add(layers.Dense(128, input_dim=X_train.shape[1], activation='relu'))\n",
    "    model.add(layers.Dropout(0.5))\n",
    "    model.add(layers.Dense(64, activation='relu'))\n",
    "    model.add(layers.Dropout(0.5))\n",
    "#     model.add(layers.Dense(64, activation='relu'))\n",
    "#     model.add(layers.Dropout(0.5))\n",
    "#     model.add(layers.Dense(32, activation='relu'))\n",
    "#     model.add(layers.Dropout(0.5))\n",
    "    model.add(layers.Dense(len(label_mapping), activation='softmax'))\n",
    "\n",
    "    model.compile(loss='categorical_crossentropy',\n",
    "                  optimizer='adam',\n",
    "                  metrics=['accuracy'])\n",
    "\n",
    "    return model\n",
    "\n",
    "model = initialize_model()\n"
   ]
  },
  {
   "cell_type": "code",
   "execution_count": 14,
   "id": "b2e89e88",
   "metadata": {},
   "outputs": [
    {
     "name": "stdout",
     "output_type": "stream",
     "text": [
      "Epoch 1/100\n"
     ]
    },
    {
     "name": "stderr",
     "output_type": "stream",
     "text": [
      "2023-11-24 14:52:05.363422: I tensorflow/core/grappler/optimizers/custom_graph_optimizer_registry.cc:117] Plugin optimizer for device_type GPU is enabled.\n",
      "2023-11-24 14:52:05.375359: E tensorflow/core/grappler/optimizers/meta_optimizer.cc:961] PluggableGraphOptimizer failed: INVALID_ARGUMENT: Unparseable tensorflow.GraphDef proto\n"
     ]
    },
    {
     "name": "stdout",
     "output_type": "stream",
     "text": [
      "17/17 [==============================] - 1s 28ms/step - loss: 2.1108 - accuracy: 0.2280 - val_loss: 1.4647 - val_accuracy: 0.4861\n",
      "Epoch 2/100\n",
      "17/17 [==============================] - 0s 12ms/step - loss: 1.4952 - accuracy: 0.4654 - val_loss: 1.1724 - val_accuracy: 0.6389\n",
      "Epoch 3/100\n",
      "17/17 [==============================] - 0s 11ms/step - loss: 1.3187 - accuracy: 0.5383 - val_loss: 1.0274 - val_accuracy: 0.6389\n",
      "Epoch 4/100\n",
      "17/17 [==============================] - 0s 10ms/step - loss: 1.2436 - accuracy: 0.5720 - val_loss: 0.9391 - val_accuracy: 0.6528\n",
      "Epoch 5/100\n",
      "17/17 [==============================] - 0s 10ms/step - loss: 1.0983 - accuracy: 0.6056 - val_loss: 0.8707 - val_accuracy: 0.6875\n",
      "Epoch 6/100\n",
      "17/17 [==============================] - 0s 12ms/step - loss: 1.0819 - accuracy: 0.6206 - val_loss: 0.8112 - val_accuracy: 0.7361\n",
      "Epoch 7/100\n",
      "17/17 [==============================] - 0s 13ms/step - loss: 0.9234 - accuracy: 0.6692 - val_loss: 0.7443 - val_accuracy: 0.7778\n",
      "Epoch 8/100\n",
      "17/17 [==============================] - 0s 10ms/step - loss: 0.9213 - accuracy: 0.6598 - val_loss: 0.6770 - val_accuracy: 0.7847\n",
      "Epoch 9/100\n",
      "17/17 [==============================] - 0s 12ms/step - loss: 0.8415 - accuracy: 0.6991 - val_loss: 0.6235 - val_accuracy: 0.8333\n",
      "Epoch 10/100\n",
      "17/17 [==============================] - 0s 12ms/step - loss: 0.7667 - accuracy: 0.7402 - val_loss: 0.5768 - val_accuracy: 0.8403\n",
      "Epoch 11/100\n",
      "17/17 [==============================] - 0s 15ms/step - loss: 0.7411 - accuracy: 0.7402 - val_loss: 0.5311 - val_accuracy: 0.8681\n",
      "Epoch 12/100\n",
      "17/17 [==============================] - 0s 16ms/step - loss: 0.7072 - accuracy: 0.7607 - val_loss: 0.4981 - val_accuracy: 0.8611\n",
      "Epoch 13/100\n",
      "17/17 [==============================] - 0s 12ms/step - loss: 0.6450 - accuracy: 0.7944 - val_loss: 0.4661 - val_accuracy: 0.8611\n",
      "Epoch 14/100\n",
      "17/17 [==============================] - 0s 11ms/step - loss: 0.6305 - accuracy: 0.7776 - val_loss: 0.4303 - val_accuracy: 0.8958\n",
      "Epoch 15/100\n",
      "17/17 [==============================] - 0s 11ms/step - loss: 0.6108 - accuracy: 0.7944 - val_loss: 0.4067 - val_accuracy: 0.9028\n",
      "Epoch 16/100\n",
      "17/17 [==============================] - 0s 20ms/step - loss: 0.5470 - accuracy: 0.8187 - val_loss: 0.3783 - val_accuracy: 0.8889\n",
      "Epoch 17/100\n",
      "17/17 [==============================] - 0s 11ms/step - loss: 0.4871 - accuracy: 0.8505 - val_loss: 0.3549 - val_accuracy: 0.9097\n",
      "Epoch 18/100\n",
      "17/17 [==============================] - 0s 11ms/step - loss: 0.4612 - accuracy: 0.8467 - val_loss: 0.3313 - val_accuracy: 0.9236\n",
      "Epoch 19/100\n",
      "17/17 [==============================] - 0s 11ms/step - loss: 0.4374 - accuracy: 0.8561 - val_loss: 0.3158 - val_accuracy: 0.9236\n",
      "Epoch 20/100\n",
      "17/17 [==============================] - 0s 12ms/step - loss: 0.4192 - accuracy: 0.8710 - val_loss: 0.2995 - val_accuracy: 0.9306\n",
      "Epoch 21/100\n",
      "17/17 [==============================] - 0s 12ms/step - loss: 0.4351 - accuracy: 0.8542 - val_loss: 0.2915 - val_accuracy: 0.9375\n",
      "Epoch 22/100\n",
      "17/17 [==============================] - 0s 11ms/step - loss: 0.3961 - accuracy: 0.8729 - val_loss: 0.2738 - val_accuracy: 0.9306\n",
      "Epoch 23/100\n",
      "17/17 [==============================] - 0s 12ms/step - loss: 0.3750 - accuracy: 0.8804 - val_loss: 0.2647 - val_accuracy: 0.9375\n",
      "Epoch 24/100\n",
      "17/17 [==============================] - 0s 11ms/step - loss: 0.3477 - accuracy: 0.8804 - val_loss: 0.2535 - val_accuracy: 0.9375\n",
      "Epoch 25/100\n",
      "17/17 [==============================] - 0s 11ms/step - loss: 0.3263 - accuracy: 0.9140 - val_loss: 0.2463 - val_accuracy: 0.9444\n",
      "Epoch 26/100\n",
      "17/17 [==============================] - 0s 12ms/step - loss: 0.3534 - accuracy: 0.8785 - val_loss: 0.2286 - val_accuracy: 0.9375\n",
      "Epoch 27/100\n",
      "17/17 [==============================] - 0s 11ms/step - loss: 0.3250 - accuracy: 0.9028 - val_loss: 0.2311 - val_accuracy: 0.9306\n",
      "Epoch 28/100\n",
      "17/17 [==============================] - 0s 11ms/step - loss: 0.2693 - accuracy: 0.9271 - val_loss: 0.2171 - val_accuracy: 0.9375\n",
      "Epoch 29/100\n",
      "17/17 [==============================] - 0s 12ms/step - loss: 0.2564 - accuracy: 0.9364 - val_loss: 0.2037 - val_accuracy: 0.9444\n",
      "Epoch 30/100\n",
      "17/17 [==============================] - 0s 11ms/step - loss: 0.2611 - accuracy: 0.9271 - val_loss: 0.1968 - val_accuracy: 0.9514\n",
      "Epoch 31/100\n",
      "17/17 [==============================] - 0s 11ms/step - loss: 0.2679 - accuracy: 0.9159 - val_loss: 0.1858 - val_accuracy: 0.9514\n",
      "Epoch 32/100\n",
      "17/17 [==============================] - 0s 10ms/step - loss: 0.2409 - accuracy: 0.9271 - val_loss: 0.1787 - val_accuracy: 0.9514\n",
      "Epoch 33/100\n",
      "17/17 [==============================] - 0s 11ms/step - loss: 0.2508 - accuracy: 0.9252 - val_loss: 0.1873 - val_accuracy: 0.9514\n",
      "Epoch 34/100\n",
      "17/17 [==============================] - 0s 10ms/step - loss: 0.2705 - accuracy: 0.9121 - val_loss: 0.1702 - val_accuracy: 0.9444\n",
      "Epoch 35/100\n",
      "17/17 [==============================] - 0s 19ms/step - loss: 0.2372 - accuracy: 0.9196 - val_loss: 0.1786 - val_accuracy: 0.9375\n",
      "Epoch 36/100\n",
      "17/17 [==============================] - 0s 15ms/step - loss: 0.2234 - accuracy: 0.9383 - val_loss: 0.1736 - val_accuracy: 0.9444\n",
      "Epoch 37/100\n",
      "17/17 [==============================] - 0s 10ms/step - loss: 0.2176 - accuracy: 0.9346 - val_loss: 0.1762 - val_accuracy: 0.9375\n",
      "Epoch 38/100\n",
      "17/17 [==============================] - 0s 10ms/step - loss: 0.2000 - accuracy: 0.9364 - val_loss: 0.1760 - val_accuracy: 0.9375\n",
      "Epoch 39/100\n",
      "17/17 [==============================] - 0s 11ms/step - loss: 0.2046 - accuracy: 0.9364 - val_loss: 0.1599 - val_accuracy: 0.9444\n",
      "Epoch 40/100\n",
      "17/17 [==============================] - 0s 23ms/step - loss: 0.1994 - accuracy: 0.9327 - val_loss: 0.1595 - val_accuracy: 0.9444\n",
      "Epoch 41/100\n",
      "17/17 [==============================] - 0s 22ms/step - loss: 0.2014 - accuracy: 0.9514 - val_loss: 0.1549 - val_accuracy: 0.9444\n",
      "Epoch 42/100\n",
      "17/17 [==============================] - 0s 10ms/step - loss: 0.1668 - accuracy: 0.9551 - val_loss: 0.1526 - val_accuracy: 0.9444\n",
      "Epoch 43/100\n",
      "17/17 [==============================] - 0s 9ms/step - loss: 0.1875 - accuracy: 0.9495 - val_loss: 0.1353 - val_accuracy: 0.9444\n",
      "Epoch 44/100\n",
      "17/17 [==============================] - 0s 10ms/step - loss: 0.1636 - accuracy: 0.9514 - val_loss: 0.1331 - val_accuracy: 0.9444\n",
      "Epoch 45/100\n",
      "17/17 [==============================] - 0s 9ms/step - loss: 0.1603 - accuracy: 0.9664 - val_loss: 0.1398 - val_accuracy: 0.9375\n",
      "Epoch 46/100\n",
      "17/17 [==============================] - 0s 9ms/step - loss: 0.1570 - accuracy: 0.9533 - val_loss: 0.1501 - val_accuracy: 0.9375\n",
      "Epoch 47/100\n",
      "17/17 [==============================] - 0s 9ms/step - loss: 0.1466 - accuracy: 0.9589 - val_loss: 0.1566 - val_accuracy: 0.9444\n",
      "Epoch 48/100\n",
      "17/17 [==============================] - 0s 9ms/step - loss: 0.1510 - accuracy: 0.9514 - val_loss: 0.1494 - val_accuracy: 0.9375\n",
      "Epoch 49/100\n",
      "17/17 [==============================] - 0s 9ms/step - loss: 0.1391 - accuracy: 0.9607 - val_loss: 0.1497 - val_accuracy: 0.9375\n",
      "Epoch 50/100\n",
      "17/17 [==============================] - 0s 9ms/step - loss: 0.1591 - accuracy: 0.9551 - val_loss: 0.1455 - val_accuracy: 0.9375\n"
     ]
    }
   ],
   "source": [
    "from tensorflow.keras.callbacks import EarlyStopping\n",
    "\n",
    "es = EarlyStopping(monitor='val_accuracy', patience=20)\n",
    "\n",
    "# Start training\n",
    "history = model.fit(X_train,\n",
    "                    y_train_one_hot,\n",
    "                    epochs=100,\n",
    "                    batch_size=32,\n",
    "                    validation_data=(X_val, y_val_one_hot),\n",
    "                    callbacks=[es])\n",
    "\n",
    "# # Train the model with validation data\n",
    "# history = model.fit(X_train,\n",
    "#                     y_train_one_hot,\n",
    "#                     epochs=10,\n",
    "#                     batch_size=32,\n",
    "#                     validation_data=(X_val, y_val_one_hot))\n"
   ]
  },
  {
   "cell_type": "code",
   "execution_count": 15,
   "id": "cde95bfc",
   "metadata": {
    "scrolled": false
   },
   "outputs": [
    {
     "name": "stdout",
     "output_type": "stream",
     "text": [
      "Model: \"sequential\"\n",
      "_________________________________________________________________\n",
      " Layer (type)                Output Shape              Param #   \n",
      "=================================================================\n",
      " dense (Dense)               (None, 128)               4480      \n",
      "                                                                 \n",
      " dropout (Dropout)           (None, 128)               0         \n",
      "                                                                 \n",
      " dense_1 (Dense)             (None, 64)                8256      \n",
      "                                                                 \n",
      " dropout_1 (Dropout)         (None, 64)                0         \n",
      "                                                                 \n",
      " dense_2 (Dense)             (None, 8)                 520       \n",
      "                                                                 \n",
      "=================================================================\n",
      "Total params: 13256 (51.78 KB)\n",
      "Trainable params: 13256 (51.78 KB)\n",
      "Non-trainable params: 0 (0.00 Byte)\n",
      "_________________________________________________________________\n"
     ]
    }
   ],
   "source": [
    "model.summary()\n"
   ]
  },
  {
   "cell_type": "code",
   "execution_count": 16,
   "id": "35ee592c",
   "metadata": {
    "scrolled": true
   },
   "outputs": [
    {
     "data": {
      "image/png": "[encoded data removed]",
      "text/plain": [
       "<Figure size 640x480 with 1 Axes>"
      ]
     },
     "metadata": {},
     "output_type": "display_data"
    }
   ],
   "source": [
    "# Visualize the training history to see whether you're overfitting.\n",
    "plt.plot(history.history['accuracy'])\n",
    "plt.plot(history.history['val_accuracy'])\n",
    "plt.title('Model accuracy')\n",
    "plt.ylabel('accuracy')\n",
    "plt.xlabel('epoch')\n",
    "plt.legend(['TRAIN', 'VAL'], loc='lower right')\n",
    "plt.show()\n"
   ]
  },
  {
   "cell_type": "code",
   "execution_count": 17,
   "id": "86bfc682",
   "metadata": {},
   "outputs": [],
   "source": [
    "# # Train the model with validation data\n",
    "# history = model.fit(X_train,\n",
    "#                     y_train_one_hot,\n",
    "#                     epochs=10,\n",
    "#                     batch_size=32,\n",
    "#                     validation_data=(X_val, y_val_one_hot))"
   ]
  },
  {
   "cell_type": "code",
   "execution_count": 18,
   "id": "afd3fd5b",
   "metadata": {
    "scrolled": true
   },
   "outputs": [
    {
     "data": {
      "image/png": "[encoded data removed]",
      "text/plain": [
       "<Figure size 640x480 with 1 Axes>"
      ]
     },
     "metadata": {},
     "output_type": "display_data"
    }
   ],
   "source": [
    "def plot_history(history):\n",
    "    plt.plot(history.history['val_loss'])\n",
    "    plt.title('Model loss')\n",
    "    plt.ylabel('Loss')\n",
    "    plt.xlabel('Epoch')\n",
    "    plt.show()\n",
    "\n",
    "plot_history(history)\n"
   ]
  },
  {
   "cell_type": "code",
   "execution_count": 19,
   "id": "1e3e4d2f",
   "metadata": {
    "scrolled": true
   },
   "outputs": [
    {
     "data": {
      "image/png": "[encoded data removed]",
      "text/plain": [
       "<Figure size 640x480 with 1 Axes>"
      ]
     },
     "metadata": {},
     "output_type": "display_data"
    }
   ],
   "source": [
    "def plot_history_accuracy(history):\n",
    "    plt.plot(history.history['val_accuracy'])\n",
    "    plt.title('Model accuracy')\n",
    "    plt.ylabel('Accuracy')\n",
    "    plt.xlabel('Epoch')\n",
    "    plt.show()\n",
    "\n",
    "plot_history_accuracy(history)\n"
   ]
  },
  {
   "cell_type": "code",
   "execution_count": 20,
   "id": "4de13fd7",
   "metadata": {},
   "outputs": [],
   "source": [
    "# Convert test labels to one-hot encoding\n",
    "y_test_one_hot = to_categorical(y_test_numeric)\n",
    "\n",
    "# Evaluate the model on the test set\n",
    "results = model.evaluate(X_test, y_test_one_hot, verbose=0)\n"
   ]
  },
  {
   "cell_type": "code",
   "execution_count": 21,
   "id": "f5046557",
   "metadata": {
    "scrolled": true
   },
   "outputs": [
    {
     "name": "stdout",
     "output_type": "stream",
     "text": [
      "Test Accuracy: 95.45%\n",
      "Test Loss: 0.21348987519741058\n"
     ]
    }
   ],
   "source": [
    "print(f'Test Accuracy: {results[1]*100:.2f}%')\n",
    "print(f'Test Loss: {results[0]}')\n"
   ]
  },
  {
   "cell_type": "code",
   "execution_count": 22,
   "id": "b64f6f6d",
   "metadata": {
    "scrolled": true
   },
   "outputs": [],
   "source": [
    "X_pred = X_test[-1].reshape(1,-1)"
   ]
  },
  {
   "cell_type": "code",
   "execution_count": 23,
   "id": "765bb862",
   "metadata": {
    "scrolled": true
   },
   "outputs": [
    {
     "name": "stdout",
     "output_type": "stream",
     "text": [
      "CPU times: user 1e+03 ns, sys: 1e+03 ns, total: 2 µs\n",
      "Wall time: 3.1 µs\n",
      "1/1 [==============================] - 0s 64ms/step\n"
     ]
    }
   ],
   "source": [
    "%time\n",
    "prediction = model.predict(X_pred)\n"
   ]
  },
  {
   "cell_type": "code",
   "execution_count": 24,
   "id": "3bddad6f",
   "metadata": {},
   "outputs": [
    {
     "data": {
      "text/plain": [
       "array([7])"
      ]
     },
     "execution_count": 24,
     "metadata": {},
     "output_type": "execute_result"
    }
   ],
   "source": [
    "predict_class = np.argmax(prediction, axis = 1)\n",
    "predict_class\n"
   ]
  },
  {
   "cell_type": "code",
   "execution_count": 25,
   "id": "449a297c",
   "metadata": {},
   "outputs": [],
   "source": [
    "predicted_labels = np.argmax(prediction, axis=1)\n"
   ]
  },
  {
   "cell_type": "code",
   "execution_count": 26,
   "id": "e1ff9a54",
   "metadata": {},
   "outputs": [
    {
     "data": {
      "text/plain": [
       "'warrior2_right'"
      ]
     },
     "execution_count": 26,
     "metadata": {},
     "output_type": "execute_result"
    }
   ],
   "source": [
    "predicted_class_names = [class_name for class_name, idx in label_mapping.items() if idx in predict_class]\n",
    "predicted_class_names[0]\n"
   ]
  },
  {
   "cell_type": "code",
   "execution_count": 27,
   "id": "8d64210b",
   "metadata": {},
   "outputs": [],
   "source": [
    "# def plot_confusion_matrix(cm, classes,\n",
    "#                           normalize=False,\n",
    "#                           title='Confusion matrix',\n",
    "#                           cmap=plt.cm.Blues):\n",
    "#   \"\"\"Plots the confusion matrix.\"\"\"\n",
    "#   if normalize:\n",
    "#     cm = cm.astype('float') / cm.sum(axis=1)[:, np.newaxis]\n",
    "#     print(\"Normalized confusion matrix\")\n",
    "#   else:\n",
    "#     print('Confusion matrix, without normalization')\n",
    "\n",
    "#   plt.imshow(cm, interpolation='nearest', cmap=cmap)\n",
    "#   plt.title(title)\n",
    "#   plt.colorbar()\n",
    "#   tick_marks = np.arange(len(classes))\n",
    "#   plt.xticks(tick_marks, classes, rotation=55)\n",
    "#   plt.yticks(tick_marks, classes)\n",
    "#   fmt = '.2f' if normalize else 'd'\n",
    "#   thresh = cm.max() / 2.\n",
    "#   for i, j in itertools.product(range(cm.shape[0]), range(cm.shape[1])):\n",
    "#     plt.text(j, i, format(cm[i, j], fmt),\n",
    "#               horizontalalignment=\"center\",\n",
    "#               color=\"white\" if cm[i, j] > thresh else \"black\")\n",
    "\n",
    "#   plt.ylabel('True label')\n",
    "#   plt.xlabel('Predicted label')\n",
    "#   plt.tight_layout()\n",
    "\n",
    "# # Classify pose in the TEST dataset using the trained model\n",
    "# y_pred = model.predict(X_test)\n",
    "\n",
    "# # Convert the prediction result to class name\n",
    "# y_pred_label = [predict_class[i] for i in np.argmax(y_pred, axis=1)]\n",
    "# y_true_label = [predict_class[i] for i in np.argmax(y_test, axis=1)]\n",
    "\n",
    "# # Plot the confusion matrix\n",
    "# cm = confusion_matrix(np.argmax(y_test, axis=1), np.argmax(y_pred, axis=1))\n",
    "# plot_confusion_matrix(cm,\n",
    "#                       class_names,\n",
    "#                       title ='Confusion Matrix of Pose Classification Model')\n",
    "\n",
    "# # Print the classification report\n",
    "# print('\\nClassification Report:\\n', classification_report(y_true_label,\n",
    "#                                                           y_pred_label))\n"
   ]
  },
  {
   "cell_type": "code",
   "execution_count": 28,
   "id": "7d87e90b",
   "metadata": {
    "scrolled": true
   },
   "outputs": [
    {
     "name": "stderr",
     "output_type": "stream",
     "text": [
      "/Users/mirmachr/.pyenv/versions/3.10.6/envs/hathaproject/lib/python3.10/site-packages/keras/src/engine/training.py:3103: UserWarning: You are saving your model as an HDF5 file via `model.save()`. This file format is considered legacy. We recommend using instead the native Keras format, e.g. `model.save('my_model.keras')`.\n",
      "  saving_api.save_model(\n"
     ]
    }
   ],
   "source": [
    "model.save('24112023_sub_model.h5')  # Save the entire model"
   ]
  },
  {
   "cell_type": "code",
   "execution_count": 29,
   "id": "1d6f97b7",
   "metadata": {},
   "outputs": [],
   "source": [
    "model.save('24112023_sub_model.keras')  # Save the entire model"
   ]
  }
 ],
 "metadata": {
  "kernelspec": {
   "display_name": "Python 3 (ipykernel)",
   "language": "python",
   "name": "python3"
  },
  "language_info": {
   "codemirror_mode": {
    "name": "ipython",
    "version": 3
   },
   "file_extension": ".py",
   "mimetype": "text/x-python",
   "name": "python",
   "nbconvert_exporter": "python",
   "pygments_lexer": "ipython3",
   "version": "3.10.6"
  },
  "toc": {
   "base_numbering": 1,
   "nav_menu": {},
   "number_sections": true,
   "sideBar": true,
   "skip_h1_title": false,
   "title_cell": "Table of Contents",
   "title_sidebar": "Contents",
   "toc_cell": false,
   "toc_position": {},
   "toc_section_display": true,
   "toc_window_display": false
  }
 },
 "nbformat": 4,
 "nbformat_minor": 5
}
