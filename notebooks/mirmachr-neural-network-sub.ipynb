{
 "cells": [
  {
   "cell_type": "markdown",
   "id": "f7649d29-cd6c-4428-9d53-cf7822e1b1ae",
   "metadata": {},
   "source": [
    "# Dense Neural Network (NN) Exploration"
   ]
  },
  {
   "cell_type": "markdown",
   "id": "b078a245",
   "metadata": {},
   "source": [
    "In this notebook, we will lay out our approach for a Neural Network approach to predict a pose based on landmark. Additionally, we are storing out angle calculation and perspectively our angle error calculation."
   ]
  },
  {
   "cell_type": "code",
   "execution_count": 1,
   "id": "be388f9c",
   "metadata": {},
   "outputs": [],
   "source": [
    "import numpy as np\n",
    "import pandas as pd\n",
    "import matplotlib.pyplot as plt\n"
   ]
  },
  {
   "cell_type": "markdown",
   "id": "603927da",
   "metadata": {},
   "source": [
    "## Neural Network"
   ]
  },
  {
   "cell_type": "code",
   "execution_count": 2,
   "id": "8393c8b6",
   "metadata": {},
   "outputs": [],
   "source": [
    "import tensorflow as tf\n"
   ]
  },
  {
   "cell_type": "code",
   "execution_count": 3,
   "id": "c8fc5e43",
   "metadata": {},
   "outputs": [],
   "source": [
    "from sklearn.model_selection import train_test_split\n",
    "from sklearn.preprocessing import StandardScaler\n",
    "from tensorflow.keras.utils import to_categorical\n",
    "from tensorflow.keras import layers, Sequential\n",
    "from tensorflow.keras import models\n"
   ]
  },
  {
   "cell_type": "code",
   "execution_count": 4,
   "id": "ad1124f0",
   "metadata": {},
   "outputs": [],
   "source": [
    "from sklearn.metrics import make_scorer\n",
    "from sklearn.model_selection import StratifiedKFold\n",
    "from tensorflow.keras.callbacks import EarlyStopping\n",
    "from sklearn.metrics import accuracy_score\n",
    "from tensorflow.keras.layers import Input, Dense, GlobalMaxPooling1D, LeakyReLU\n",
    "from scikeras.wrappers import KerasClassifier\n",
    "from sklearn.model_selection import GridSearchCV, KFold, RandomizedSearchCV\n",
    "from sklearn.preprocessing import LabelEncoder, OneHotEncoder\n",
    "from tensorflow.keras.models import load_model\n",
    "import joblib\n"
   ]
  },
  {
   "cell_type": "code",
   "execution_count": 5,
   "id": "7956ec52",
   "metadata": {},
   "outputs": [],
   "source": [
    "from scipy.stats import uniform\n"
   ]
  },
  {
   "cell_type": "code",
   "execution_count": 6,
   "id": "0dbb1b8b",
   "metadata": {},
   "outputs": [],
   "source": [
    "# Load the datasets\n",
    "train_df = pd.read_csv('train_landmark_xy_raw.csv')\n",
    "val_df = pd.read_csv('val_landmark_xy_raw.csv')\n",
    "test_df = pd.read_csv('test_landmark_xy_raw.csv')\n"
   ]
  },
  {
   "cell_type": "code",
   "execution_count": 7,
   "id": "b01fe04d",
   "metadata": {},
   "outputs": [],
   "source": [
    "# Define X_train and y_train\n",
    "X_train = train_df.iloc[:, 1:35]\n",
    "y_train = train_df['y_sub']\n"
   ]
  },
  {
   "cell_type": "code",
   "execution_count": 8,
   "id": "816b2d20",
   "metadata": {},
   "outputs": [],
   "source": [
    "# Define X_val and y_val\n",
    "X_val = val_df.iloc[:, 1:35]\n",
    "y_val = val_df['y_sub']\n"
   ]
  },
  {
   "cell_type": "code",
   "execution_count": 9,
   "id": "16edfed1",
   "metadata": {},
   "outputs": [],
   "source": [
    "# Define X_test and y_test\n",
    "X_test = test_df.iloc[:, 1:35]\n",
    "y_test = test_df['y_sub']\n"
   ]
  },
  {
   "cell_type": "code",
   "execution_count": 10,
   "id": "05a81218",
   "metadata": {},
   "outputs": [],
   "source": [
    "# Convert labels to numerical values\n",
    "label_mapping = {label: idx for idx, label in enumerate(np.unique(y_train))}\n",
    "y_train_numeric = np.array([label_mapping[label] for label in y_train])\n",
    "y_val_numeric = np.array([label_mapping[label] for label in y_val])\n",
    "y_test_numeric = np.array([label_mapping[label] for label in y_test])\n"
   ]
  },
  {
   "cell_type": "code",
   "execution_count": 11,
   "id": "ef0df31e",
   "metadata": {
    "scrolled": true
   },
   "outputs": [
    {
     "data": {
      "text/plain": [
       "['scaler.pkl']"
      ]
     },
     "execution_count": 11,
     "metadata": {},
     "output_type": "execute_result"
    }
   ],
   "source": [
    "# Standardize the features\n",
    "scaler = StandardScaler()\n",
    "X_train = scaler.fit_transform(X_train)\n",
    "X_val = scaler.transform(X_val)\n",
    "X_test = scaler.transform(X_test)\n",
    "\n",
    "# Saving the scaler\n",
    "joblib.dump(scaler, 'scaler.pkl')\n"
   ]
  },
  {
   "cell_type": "code",
   "execution_count": 13,
   "id": "f9924836",
   "metadata": {},
   "outputs": [
    {
     "data": {
      "text/plain": [
       "['encoder.pkl']"
      ]
     },
     "execution_count": 13,
     "metadata": {},
     "output_type": "execute_result"
    }
   ],
   "source": [
    "# Convert labels to one-hot encoding\n",
    "y_train_one_hot = to_categorical(y_train_numeric)\n",
    "y_val_one_hot = to_categorical(y_val_numeric)\n",
    "y_test_one_hot = to_categorical(y_test_numeric)\n",
    "\n",
    "encoder = OneHotEncoder()\n",
    "\n",
    "# Saving the encoder\n",
    "joblib.dump(encoder, 'encoder.pkl')\n"
   ]
  },
  {
   "cell_type": "code",
   "execution_count": 14,
   "id": "f78d7144",
   "metadata": {},
   "outputs": [
    {
     "name": "stderr",
     "output_type": "stream",
     "text": [
      "2023-11-27 11:16:19.081418: I metal_plugin/src/device/metal_device.cc:1154] Metal device set to: Apple M2\n",
      "2023-11-27 11:16:19.081477: I metal_plugin/src/device/metal_device.cc:296] systemMemory: 8.00 GB\n",
      "2023-11-27 11:16:19.081514: I metal_plugin/src/device/metal_device.cc:313] maxCacheSize: 2.67 GB\n",
      "2023-11-27 11:16:19.081872: I tensorflow/core/common_runtime/pluggable_device/pluggable_device_factory.cc:306] Could not identify NUMA node of platform GPU ID 0, defaulting to 0. Your kernel may not have been built with NUMA support.\n",
      "2023-11-27 11:16:19.082338: I tensorflow/core/common_runtime/pluggable_device/pluggable_device_factory.cc:272] Created TensorFlow device (/job:localhost/replica:0/task:0/device:GPU:0 with 0 MB memory) -> physical PluggableDevice (device: 0, name: METAL, pci bus id: <undefined>)\n"
     ]
    }
   ],
   "source": [
    "# Build the neural network model\n",
    "def initialize_model():\n",
    "    model = models.Sequential()\n",
    "    model.add(layers.Dense(128, input_dim=X_train.shape[1], activation='relu'))\n",
    "    model.add(layers.Dropout(0.5))\n",
    "    model.add(layers.Dense(64, activation='relu'))\n",
    "    model.add(layers.Dropout(0.5))\n",
    "#     model.add(layers.Dense(64, activation='relu'))\n",
    "#     model.add(layers.Dropout(0.5))\n",
    "#     model.add(layers.Dense(32, activation='relu'))\n",
    "#     model.add(layers.Dropout(0.5))\n",
    "    model.add(layers.Dense(len(label_mapping), activation='softmax'))\n",
    "\n",
    "    model.compile(loss='categorical_crossentropy',\n",
    "                  optimizer='adam',\n",
    "                  metrics=['accuracy'])\n",
    "\n",
    "    return model\n",
    "\n",
    "model = initialize_model()\n"
   ]
  },
  {
   "cell_type": "code",
   "execution_count": 15,
   "id": "b2e89e88",
   "metadata": {},
   "outputs": [
    {
     "name": "stdout",
     "output_type": "stream",
     "text": [
      "Epoch 1/100\n",
      " 1/17 [>.............................] - ETA: 6s - loss: 2.4834 - accuracy: 0.0938"
     ]
    },
    {
     "name": "stderr",
     "output_type": "stream",
     "text": [
      "2023-11-27 11:16:34.711990: I tensorflow/core/grappler/optimizers/custom_graph_optimizer_registry.cc:117] Plugin optimizer for device_type GPU is enabled.\n",
      "2023-11-27 11:16:34.730603: E tensorflow/core/grappler/optimizers/meta_optimizer.cc:961] PluggableGraphOptimizer failed: INVALID_ARGUMENT: Unparseable tensorflow.GraphDef proto\n"
     ]
    },
    {
     "name": "stdout",
     "output_type": "stream",
     "text": [
      "17/17 [==============================] - 1s 25ms/step - loss: 2.1488 - accuracy: 0.2056 - val_loss: 1.5808 - val_accuracy: 0.5764\n",
      "Epoch 2/100\n",
      "17/17 [==============================] - 0s 12ms/step - loss: 1.6501 - accuracy: 0.4093 - val_loss: 1.3296 - val_accuracy: 0.5694\n",
      "Epoch 3/100\n",
      "17/17 [==============================] - 0s 12ms/step - loss: 1.3943 - accuracy: 0.5402 - val_loss: 1.1204 - val_accuracy: 0.6667\n",
      "Epoch 4/100\n",
      "17/17 [==============================] - 0s 10ms/step - loss: 1.2424 - accuracy: 0.5701 - val_loss: 0.9678 - val_accuracy: 0.7639\n",
      "Epoch 5/100\n",
      "17/17 [==============================] - 0s 10ms/step - loss: 1.1135 - accuracy: 0.6280 - val_loss: 0.8690 - val_accuracy: 0.8194\n",
      "Epoch 6/100\n",
      "17/17 [==============================] - 0s 10ms/step - loss: 1.0316 - accuracy: 0.6262 - val_loss: 0.7742 - val_accuracy: 0.7917\n",
      "Epoch 7/100\n",
      "17/17 [==============================] - 0s 10ms/step - loss: 0.9553 - accuracy: 0.6542 - val_loss: 0.7144 - val_accuracy: 0.8194\n",
      "Epoch 8/100\n",
      "17/17 [==============================] - 0s 10ms/step - loss: 0.8746 - accuracy: 0.7065 - val_loss: 0.6511 - val_accuracy: 0.8264\n",
      "Epoch 9/100\n",
      "17/17 [==============================] - 0s 12ms/step - loss: 0.8104 - accuracy: 0.7458 - val_loss: 0.5802 - val_accuracy: 0.8333\n",
      "Epoch 10/100\n",
      "17/17 [==============================] - 0s 10ms/step - loss: 0.7446 - accuracy: 0.7720 - val_loss: 0.5304 - val_accuracy: 0.8681\n",
      "Epoch 11/100\n",
      "17/17 [==============================] - 0s 10ms/step - loss: 0.6713 - accuracy: 0.7832 - val_loss: 0.4889 - val_accuracy: 0.8750\n",
      "Epoch 12/100\n",
      "17/17 [==============================] - 0s 10ms/step - loss: 0.6311 - accuracy: 0.8000 - val_loss: 0.4582 - val_accuracy: 0.9097\n",
      "Epoch 13/100\n",
      "17/17 [==============================] - 0s 10ms/step - loss: 0.5862 - accuracy: 0.8355 - val_loss: 0.4236 - val_accuracy: 0.9028\n",
      "Epoch 14/100\n",
      "17/17 [==============================] - 0s 10ms/step - loss: 0.5685 - accuracy: 0.8131 - val_loss: 0.3975 - val_accuracy: 0.9028\n",
      "Epoch 15/100\n",
      "17/17 [==============================] - 0s 10ms/step - loss: 0.5036 - accuracy: 0.8505 - val_loss: 0.3794 - val_accuracy: 0.9306\n",
      "Epoch 16/100\n",
      "17/17 [==============================] - 0s 11ms/step - loss: 0.4741 - accuracy: 0.8673 - val_loss: 0.3520 - val_accuracy: 0.9375\n",
      "Epoch 17/100\n",
      "17/17 [==============================] - 0s 10ms/step - loss: 0.4606 - accuracy: 0.8654 - val_loss: 0.3439 - val_accuracy: 0.9375\n",
      "Epoch 18/100\n",
      "17/17 [==============================] - 0s 10ms/step - loss: 0.4210 - accuracy: 0.8710 - val_loss: 0.3233 - val_accuracy: 0.9444\n",
      "Epoch 19/100\n",
      "17/17 [==============================] - 0s 10ms/step - loss: 0.4056 - accuracy: 0.8935 - val_loss: 0.3090 - val_accuracy: 0.9444\n",
      "Epoch 20/100\n",
      "17/17 [==============================] - 0s 10ms/step - loss: 0.3902 - accuracy: 0.8729 - val_loss: 0.2884 - val_accuracy: 0.9444\n",
      "Epoch 21/100\n",
      "17/17 [==============================] - 0s 10ms/step - loss: 0.3331 - accuracy: 0.9121 - val_loss: 0.2805 - val_accuracy: 0.9375\n",
      "Epoch 22/100\n",
      "17/17 [==============================] - 0s 10ms/step - loss: 0.3546 - accuracy: 0.8897 - val_loss: 0.2605 - val_accuracy: 0.9444\n",
      "Epoch 23/100\n",
      "17/17 [==============================] - 0s 11ms/step - loss: 0.3335 - accuracy: 0.9196 - val_loss: 0.2594 - val_accuracy: 0.9375\n",
      "Epoch 24/100\n",
      "17/17 [==============================] - 0s 10ms/step - loss: 0.3075 - accuracy: 0.9308 - val_loss: 0.2490 - val_accuracy: 0.9375\n",
      "Epoch 25/100\n",
      "17/17 [==============================] - 0s 10ms/step - loss: 0.2906 - accuracy: 0.9271 - val_loss: 0.2419 - val_accuracy: 0.9444\n",
      "Epoch 26/100\n",
      "17/17 [==============================] - 0s 10ms/step - loss: 0.2755 - accuracy: 0.9346 - val_loss: 0.2340 - val_accuracy: 0.9514\n",
      "Epoch 27/100\n",
      "17/17 [==============================] - 0s 10ms/step - loss: 0.3041 - accuracy: 0.9196 - val_loss: 0.2339 - val_accuracy: 0.9375\n",
      "Epoch 28/100\n",
      "17/17 [==============================] - 0s 10ms/step - loss: 0.2721 - accuracy: 0.9159 - val_loss: 0.2205 - val_accuracy: 0.9444\n",
      "Epoch 29/100\n",
      "17/17 [==============================] - 0s 10ms/step - loss: 0.2801 - accuracy: 0.9308 - val_loss: 0.2277 - val_accuracy: 0.9375\n",
      "Epoch 30/100\n",
      "17/17 [==============================] - 0s 10ms/step - loss: 0.2244 - accuracy: 0.9383 - val_loss: 0.2116 - val_accuracy: 0.9375\n",
      "Epoch 31/100\n",
      "17/17 [==============================] - 0s 10ms/step - loss: 0.2207 - accuracy: 0.9383 - val_loss: 0.2231 - val_accuracy: 0.9375\n",
      "Epoch 32/100\n",
      "17/17 [==============================] - 0s 10ms/step - loss: 0.2147 - accuracy: 0.9402 - val_loss: 0.2045 - val_accuracy: 0.9514\n",
      "Epoch 33/100\n",
      "17/17 [==============================] - 0s 10ms/step - loss: 0.2213 - accuracy: 0.9364 - val_loss: 0.1941 - val_accuracy: 0.9444\n",
      "Epoch 34/100\n",
      "17/17 [==============================] - 0s 11ms/step - loss: 0.2263 - accuracy: 0.9308 - val_loss: 0.1801 - val_accuracy: 0.9444\n",
      "Epoch 35/100\n",
      "17/17 [==============================] - 0s 10ms/step - loss: 0.1808 - accuracy: 0.9551 - val_loss: 0.1953 - val_accuracy: 0.9375\n",
      "Epoch 36/100\n",
      "17/17 [==============================] - 0s 10ms/step - loss: 0.1917 - accuracy: 0.9570 - val_loss: 0.1670 - val_accuracy: 0.9444\n",
      "Epoch 37/100\n",
      "17/17 [==============================] - 0s 10ms/step - loss: 0.1963 - accuracy: 0.9346 - val_loss: 0.1716 - val_accuracy: 0.9375\n",
      "Epoch 38/100\n",
      "17/17 [==============================] - 0s 10ms/step - loss: 0.1672 - accuracy: 0.9533 - val_loss: 0.1558 - val_accuracy: 0.9444\n",
      "Epoch 39/100\n",
      "17/17 [==============================] - 0s 10ms/step - loss: 0.1666 - accuracy: 0.9533 - val_loss: 0.1590 - val_accuracy: 0.9375\n",
      "Epoch 40/100\n",
      "17/17 [==============================] - 0s 10ms/step - loss: 0.1655 - accuracy: 0.9514 - val_loss: 0.1719 - val_accuracy: 0.9444\n",
      "Epoch 41/100\n",
      "17/17 [==============================] - 0s 10ms/step - loss: 0.1516 - accuracy: 0.9514 - val_loss: 0.1610 - val_accuracy: 0.9375\n",
      "Epoch 42/100\n",
      "17/17 [==============================] - 0s 10ms/step - loss: 0.1634 - accuracy: 0.9514 - val_loss: 0.1533 - val_accuracy: 0.9375\n",
      "Epoch 43/100\n",
      "17/17 [==============================] - 0s 10ms/step - loss: 0.1574 - accuracy: 0.9533 - val_loss: 0.1438 - val_accuracy: 0.9375\n",
      "Epoch 44/100\n",
      "17/17 [==============================] - 0s 10ms/step - loss: 0.1539 - accuracy: 0.9607 - val_loss: 0.1468 - val_accuracy: 0.9444\n",
      "Epoch 45/100\n",
      "17/17 [==============================] - 0s 10ms/step - loss: 0.1307 - accuracy: 0.9682 - val_loss: 0.1468 - val_accuracy: 0.9375\n",
      "Epoch 46/100\n",
      "17/17 [==============================] - 0s 11ms/step - loss: 0.1422 - accuracy: 0.9645 - val_loss: 0.1301 - val_accuracy: 0.9375\n"
     ]
    }
   ],
   "source": [
    "from tensorflow.keras.callbacks import EarlyStopping\n",
    "\n",
    "es = EarlyStopping(monitor='val_accuracy', patience=20)\n",
    "\n",
    "# Start training\n",
    "history = model.fit(X_train,\n",
    "                    y_train_one_hot,\n",
    "                    epochs=100,\n",
    "                    batch_size=32,\n",
    "                    validation_data=(X_val, y_val_one_hot),\n",
    "                    callbacks=[es])\n"
   ]
  },
  {
   "cell_type": "code",
   "execution_count": 17,
   "id": "35ee592c",
   "metadata": {
    "scrolled": true
   },
   "outputs": [
    {
     "data": {
      "image/png": "[encoded data removed]",
      "text/plain": [
       "<Figure size 640x480 with 1 Axes>"
      ]
     },
     "metadata": {},
     "output_type": "display_data"
    }
   ],
   "source": [
    "# Visualize the training history to see whether you're overfitting.\n",
    "plt.plot(history.history['accuracy'])\n",
    "plt.plot(history.history['val_accuracy'])\n",
    "plt.title('Model accuracy')\n",
    "plt.ylabel('accuracy')\n",
    "plt.xlabel('epoch')\n",
    "plt.legend(['TRAIN', 'VAL'], loc='lower right')\n",
    "plt.show()\n"
   ]
  },
  {
   "cell_type": "code",
   "execution_count": 18,
   "id": "afd3fd5b",
   "metadata": {
    "scrolled": true
   },
   "outputs": [
    {
     "data": {
      "image/png": "[encoded data removed]",
      "text/plain": [
       "<Figure size 640x480 with 1 Axes>"
      ]
     },
     "metadata": {},
     "output_type": "display_data"
    }
   ],
   "source": [
    "def plot_history(history):\n",
    "    plt.plot(history.history['val_loss'])\n",
    "    plt.title('Model loss')\n",
    "    plt.ylabel('Loss')\n",
    "    plt.xlabel('Epoch')\n",
    "    plt.show()\n",
    "\n",
    "plot_history(history)\n"
   ]
  },
  {
   "cell_type": "code",
   "execution_count": 19,
   "id": "1e3e4d2f",
   "metadata": {
    "scrolled": true
   },
   "outputs": [
    {
     "data": {
      "image/png": "[encoded data removed]",
      "text/plain": [
       "<Figure size 640x480 with 1 Axes>"
      ]
     },
     "metadata": {},
     "output_type": "display_data"
    }
   ],
   "source": [
    "def plot_history_accuracy(history):\n",
    "    plt.plot(history.history['val_accuracy'])\n",
    "    plt.title('Model accuracy')\n",
    "    plt.ylabel('Accuracy')\n",
    "    plt.xlabel('Epoch')\n",
    "    plt.show()\n",
    "\n",
    "plot_history_accuracy(history)\n"
   ]
  },
  {
   "cell_type": "code",
   "execution_count": 22,
   "id": "4de13fd7",
   "metadata": {},
   "outputs": [],
   "source": [
    "# Convert test labels to one-hot encoding\n",
    "y_test_one_hot = to_categorical(y_test_numeric)\n",
    "\n",
    "# Evaluate the model on the test set\n",
    "results = model.evaluate(X_test, y_test_one_hot, verbose=0)\n"
   ]
  },
  {
   "cell_type": "code",
   "execution_count": 23,
   "id": "f5046557",
   "metadata": {
    "scrolled": true
   },
   "outputs": [
    {
     "name": "stdout",
     "output_type": "stream",
     "text": [
      "Test Accuracy: 95.45%\n",
      "Test Loss: 0.18202415108680725\n"
     ]
    }
   ],
   "source": [
    "print(f'Test Accuracy: {results[1]*100:.2f}%')\n",
    "print(f'Test Loss: {results[0]}')\n"
   ]
  },
  {
   "cell_type": "code",
   "execution_count": 24,
   "id": "b64f6f6d",
   "metadata": {
    "scrolled": true
   },
   "outputs": [],
   "source": [
    "X_pred = X_test[-1].reshape(1,-1)\n"
   ]
  },
  {
   "cell_type": "code",
   "execution_count": 25,
   "id": "765bb862",
   "metadata": {
    "scrolled": true
   },
   "outputs": [
    {
     "name": "stdout",
     "output_type": "stream",
     "text": [
      "CPU times: user 2 µs, sys: 18 µs, total: 20 µs\n",
      "Wall time: 24.1 µs\n",
      "1/1 [==============================] - 0s 89ms/step\n"
     ]
    },
    {
     "name": "stderr",
     "output_type": "stream",
     "text": [
      "2023-11-27 11:18:05.544075: E tensorflow/core/grappler/optimizers/meta_optimizer.cc:961] PluggableGraphOptimizer failed: INVALID_ARGUMENT: Unparseable tensorflow.GraphDef proto\n"
     ]
    }
   ],
   "source": [
    "%time\n",
    "prediction = model.predict(X_pred)\n"
   ]
  },
  {
   "cell_type": "code",
   "execution_count": 26,
   "id": "3bddad6f",
   "metadata": {},
   "outputs": [
    {
     "data": {
      "text/plain": [
       "array([7])"
      ]
     },
     "execution_count": 26,
     "metadata": {},
     "output_type": "execute_result"
    }
   ],
   "source": [
    "predict_class = np.argmax(prediction, axis = 1)\n",
    "predict_class\n"
   ]
  },
  {
   "cell_type": "code",
   "execution_count": 27,
   "id": "449a297c",
   "metadata": {},
   "outputs": [],
   "source": [
    "predicted_labels = np.argmax(prediction, axis=1)\n"
   ]
  },
  {
   "cell_type": "code",
   "execution_count": 28,
   "id": "e1ff9a54",
   "metadata": {},
   "outputs": [
    {
     "data": {
      "text/plain": [
       "'warrior2_right'"
      ]
     },
     "execution_count": 28,
     "metadata": {},
     "output_type": "execute_result"
    }
   ],
   "source": [
    "predicted_class_names = [class_name for class_name, idx in label_mapping.items() if idx in predict_class]\n",
    "predicted_class_names[0]\n"
   ]
  },
  {
   "cell_type": "code",
   "execution_count": 30,
   "id": "7d87e90b",
   "metadata": {
    "scrolled": true
   },
   "outputs": [],
   "source": [
    "model.save('24112023_sub_model.h5')  # Save the entire model\n"
   ]
  }
 ],
 "metadata": {
  "kernelspec": {
   "display_name": "Python 3 (ipykernel)",
   "language": "python",
   "name": "python3"
  },
  "language_info": {
   "codemirror_mode": {
    "name": "ipython",
    "version": 3
   },
   "file_extension": ".py",
   "mimetype": "text/x-python",
   "name": "python",
   "nbconvert_exporter": "python",
   "pygments_lexer": "ipython3",
   "version": "3.10.6"
  },
  "toc": {
   "base_numbering": 1,
   "nav_menu": {},
   "number_sections": true,
   "sideBar": true,
   "skip_h1_title": false,
   "title_cell": "Table of Contents",
   "title_sidebar": "Contents",
   "toc_cell": false,
   "toc_position": {},
   "toc_section_display": true,
   "toc_window_display": false
  }
 },
 "nbformat": 4,
 "nbformat_minor": 5
}
